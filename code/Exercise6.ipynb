{
 "cells": [
  {
   "cell_type": "markdown",
   "source": [
    "# Exercise 6: Analysis of real data  (score 30 points)\n"
   ],
   "metadata": {}
  },
  {
   "cell_type": "code",
   "execution_count": null,
   "source": [
    "import numpy as np\n",
    "import pandas as pd\n",
    "import seaborn as sns\n",
    "from imageio import imread\n",
    "import matplotlib.pyplot as plt\n",
    "from mpl_toolkits.mplot3d import Axes3D\n",
    "from matplotlib import cm\n",
    "import seaborn as sns\n",
    "import os\n",
    "from common import *\n",
    "import cv2\n",
    "from sklearn.model_selection import cross_val_score\n",
    "from sklearn import linear_model as sk\n",
    "#from mpl_toolkits.mplot3d import Axes3D\n",
    "#from sklearn.linear_model import Lasso, Ridge, LinearRegression\n",
    "from sklearn import linear_model as lm\n",
    "\n",
    "from sklearn.preprocessing import MinMaxScaler\n",
    "from typing import Tuple\n",
    "\n",
    "\n",
    "print(f\"Root directory: {os.getcwd()}\")\n",
    "\n",
    "plt.rcParams.update({\n",
    "    \"text.usetex\": True,\n",
    "    \"font.family\": \"serif\",\n",
    "    \"font.serif\": [\"Palatino\"],\n",
    "    \"font.size\": 10,\n",
    "})\n",
    "\n",
    "#%matplotlib inline "
   ],
   "outputs": [],
   "metadata": {}
  },
  {
   "cell_type": "markdown",
   "source": [
    "# Global variables"
   ],
   "metadata": {}
  },
  {
   "cell_type": "code",
   "execution_count": null,
   "source": [
    "np.random.seed(SEED_VALUE) # Random seed to guarantee reproducibility\n",
    "# Paths\n",
    "#INPUT_DATA = \"data/input_data/\"  # Path for input data\n",
    "#REPORT_DATA = \"data/report_data/\" # Path for data ment for the report\n",
    "#REPORT_FIGURES = \"figures/\" # Path for figures ment for the report\n",
    "# Setting for range of degrees\n",
    "#from_degree = 0\n",
    "#to_degree = 14\n",
    "#degrees = np.arange(from_degree,to_degree)\n",
    "#degree = 5\n",
    "# Setting for logspace range of lambdas \n",
    "#from_lambda = -7 #\n",
    "#to_lambda = 3 #\n",
    "#nLambdas = 10\n",
    "#lambdas = np.logspace(from_lambda, to_lambda, nLambdas)\n",
    "# Rescale settings\n",
    "rescale_factor = 0.2"
   ],
   "outputs": [],
   "metadata": {}
  },
  {
   "cell_type": "markdown",
   "source": [
    "# Reading and plotting terrain data"
   ],
   "metadata": {}
  },
  {
   "cell_type": "code",
   "execution_count": null,
   "source": [
    "# Load the terrain\n",
    "terrain1_file = \"SRTM_data_Norway_1.tif\"\n",
    "terrain2_file = \"SRTM_data_Norway_2.tif\"\n",
    "terrain1 = imread(f'{INPUT_DATA}{terrain1_file}')\n",
    "terrain2 = imread(f'{INPUT_DATA}{terrain2_file}')\n",
    "\n",
    "# Plotting terrain\n",
    "fig, (ax1, ax2) = plt.subplots(1, 2)\n",
    "ax1.title.set_text(\"Terrain over Norway 1\")\n",
    "ax1.set_xlabel(\"X\"); ax1.set_ylabel(\"Y\")\n",
    "surf1 = ax1.imshow(terrain1, cmap='gray')\n",
    "ax2.title.set_text(\"Terrain over Norway 2\")\n",
    "ax2.set_xlabel(\"X\"); ax2.set_ylabel(\"Y\")\n",
    "surf2 = ax2.imshow(terrain2, cmap='gray')\n",
    "plt.savefig(f\"{REPORT_FIGURES}{EX6}terrain_data.pdf\")\n",
    "plt.show()\n",
    "print(terrain1.shape)"
   ],
   "outputs": [],
   "metadata": {}
  },
  {
   "cell_type": "markdown",
   "source": [],
   "metadata": {}
  },
  {
   "cell_type": "markdown",
   "source": [
    "## Thoughts on the topographical data\n",
    "Before we proceed with this exercise, we want to briefly discuss the nature of this terrain data compared to the generated frank function. We regard the franke function as generic because it is known and its behavior or shape can be generated for other values of x and y. Thus, creating a model that can generalize the function even with added noise for other unknown data points for x and y makes sense. However, we are uncertain if this idea of generalization is transferable to topographical terrain data in the same sense. The terrain data given is unique, and its shape cannot be generalized for unknown data points. If the purpose is to create the absolute best fit for the specific and unique terrain data, one could simply overfit to the terrain data by having an extremely high degree when fitting a model, and that is not really ML. One could probably argue that a model should tackle added noise on the terrain data and still be able to represent the shapes and contours incorporated in the image. However, images are what they are, and in this case, the topographical terrain \"is what it is.\"  With that being said, we proceed with this exercise in the same spirit as done for exercises 1-5 even though we question this use case when working on this kind of real data."
   ],
   "metadata": {}
  },
  {
   "cell_type": "markdown",
   "source": [
    "# 3D plot of the whole Terrain image"
   ],
   "metadata": {}
  },
  {
   "cell_type": "code",
   "execution_count": null,
   "source": [
    "# Make data for terrain1\n",
    "z1 = np.array(terrain1)\n",
    "scaler = MinMaxScaler()\n",
    "scaler.fit(z1)\n",
    "z1_scaled = scaler.transform(z1)\n",
    "#y1 = np.linspace(0,1,z1.shape[0])\n",
    "#x1 = np.linspace(0,1,z1.shape[1])\n",
    "y1 = np.arange(0, z1.shape[0])\n",
    "x1 = np.arange(0, z1.shape[1])\n",
    "x1_m, y1_m = np.meshgrid(x1,y1)\n",
    "\n",
    "# Make data for terrain2\n",
    "z2 = np.array(terrain2)\n",
    "scaler = MinMaxScaler()\n",
    "scaler.fit(z2)\n",
    "z2_scaled = scaler.transform(z2)\n",
    "#y2 = np.linspace(0,1,z2.shape[0])\n",
    "#x2 = np.linspace(0,1,z2.shape[1])\n",
    "y2 = np.arange(0, z2.shape[0])\n",
    "x2 = np.arange(0, z2.shape[1])\n",
    "x2_m, y2_m = np.meshgrid(x2,y2)\n",
    "\n",
    "#%matplotlib\n",
    "fig = plt.figure()\n",
    "ax1 = fig.add_subplot(1,2,1, projection='3d')\n",
    "ax1.title.set_text(\"Terrain1 plot\")\n",
    "ax1.set_xlabel(\"x\"); ax1.set_ylabel(\"y\"); ax1.set_zlabel(\"z\")\n",
    "ax1.plot_surface(x1_m, y1_m, z1, cmap=cm.coolwarm, linewidth = 0, antialiased=False)\n",
    "\n",
    "ax2 = fig.add_subplot(1,2,2, projection='3d')\n",
    "ax2.title.set_text(\"Terrain2 plot\")\n",
    "ax2.set_xlabel(\"x\"); ax2.set_ylabel(\"y\"); ax2.set_zlabel(\"z\")\n",
    "ax2.plot_surface(x2_m, y2_m, z2, cmap=cm.coolwarm, linewidth = 0, antialiased=False)\n",
    "plt.show()"
   ],
   "outputs": [],
   "metadata": {}
  },
  {
   "cell_type": "markdown",
   "source": [
    "# 6.0. Terrain data - Preprocessing and transformation\r\n",
    "Least Square regression is not designed to tackle images directly. Thus, we must first transform the terrain data by slicing it into several bits and pieces. "
   ],
   "metadata": {}
  },
  {
   "cell_type": "markdown",
   "source": [
    "## 6.0.1 Resizeing the terrain image\r\n",
    "For computational purpose, we resize the terrain image to have a resonable amount of datapoints for our least sqaure models."
   ],
   "metadata": {}
  },
  {
   "cell_type": "code",
   "execution_count": null,
   "source": [
    "ySize = int(terrain1.shape[0] * rescale_factor); print(ySize)\n",
    "xSize = int(terrain1.shape[1] * rescale_factor); print(xSize)\n",
    "terrain1Resized = cv2.resize(terrain1, (xSize, ySize))\n",
    "terrain2Resized = cv2.resize(terrain2, (xSize, ySize))\n",
    "\n",
    "# Plotting terrain\n",
    "fig, (ax1, ax2) = plt.subplots(1, 2)\n",
    "ax1.title.set_text(\"Terrain over Norway 1 (Resized)\")\n",
    "ax1.set_xlabel(\"X\"); ax1.set_ylabel(\"Y\")\n",
    "surf1 = ax1.imshow(terrain1Resized, cmap='gray')\n",
    "ax2.title.set_text(\"Terrain over Norway 2 (Resized)\")\n",
    "ax2.set_xlabel(\"X\"); ax2.set_ylabel(\"Y\")\n",
    "surf2 = ax2.imshow(terrain2Resized, cmap='gray')\n",
    "plt.savefig(f\"{REPORT_FIGURES}{EX6}terrain_data_resized.pdf\")\n",
    "plt.show()\n",
    "print(terrain1[0,0])"
   ],
   "outputs": [],
   "metadata": {}
  },
  {
   "cell_type": "markdown",
   "source": [
    "## 6.0.2 Creating image patches and Terrain data selection"
   ],
   "metadata": {}
  },
  {
   "cell_type": "markdown",
   "source": [
    "## Methods"
   ],
   "metadata": {}
  },
  {
   "cell_type": "code",
   "execution_count": null,
   "source": [
    "def create_img_patches(img, ySteps, xSteps):\n",
    "    patches = []\n",
    "    for y in range(0,img.shape[0], ySteps):\n",
    "        for x in range(0,img.shape[1], xSteps):\n",
    "            y_from = y; \n",
    "            y_to = y+ySteps; \n",
    "            x_from = x; \n",
    "            x_to = x+xSteps; \n",
    "            img_patch = img[y_from:y_to, x_from:x_to]        \n",
    "            patches.append(img_patch)\n",
    "\n",
    "    return patches\n",
    "\n",
    "def patches_to_img(patches, ySteps, xSteps, nYpatches, nXpatches, plotImage=False):\n",
    "    img = np.zeros((ySteps*nYpatches, xSteps*nXpatches))\n",
    "    i = 0\n",
    "    for y in range(0,img.shape[0], ySteps):\n",
    "        for x in range(0,img.shape[1], xSteps):\n",
    "            y_from = y; \n",
    "            y_to = y+ySteps; \n",
    "            x_from = x; \n",
    "            x_to = x+xSteps; \n",
    "            img[y_from:y_to, x_from:x_to] = patches[i]         \n",
    "            i += 1\n",
    "    \n",
    "    if plotImage:\n",
    "        plt.imshow(img, cmap='gray')\n",
    "        plt.title(\"Reconstructed img\")\n",
    "        plt.show()\n",
    "    return img\n",
    "\n",
    "def plotTerrainPatches(patches, nYpatches, nXpatches, plotTitle=\"Terrain patches\"):\n",
    "    # Plotting terrain patches\n",
    "    fig, ax = plt.subplots(nYpatches, nXpatches,figsize=(4,8))\n",
    "    i=0\n",
    "    for y in range(nYpatches):\n",
    "        for x in range(nXpatches):\n",
    "            ax[y,x].title.set_text(f\"Patch{i}\")\n",
    "            ax[y,x].set_xlabel(\"X\"); ax1.set_ylabel(\"Y\")\n",
    "            ax[y,x].imshow(patches[i], cmap='gray')\n",
    "            i+=1\n",
    "    \n",
    "    fig.suptitle(f\"{plotTitle}\") # or plt.suptitle('Main title')\n",
    "    plt.tight_layout()\n",
    "    plt.savefig(f\"{REPORT_FIGURES}{EX6}{plotTitle}.pdf\")\n",
    "    plt.show()\n",
    "\n",
    "def createTerrainData(terrain, includeMeshgrid=True):\n",
    "    z = np.array(terrain) \n",
    "    x = np.arange(0, z.shape[1])\n",
    "    y = np.arange(0, z.shape[0])\n",
    "    if includeMeshgrid:\n",
    "        x, y = np.meshgrid(x,y)\n",
    "    return x,y,z\n"
   ],
   "outputs": [],
   "metadata": {}
  },
  {
   "cell_type": "code",
   "execution_count": null,
   "source": [
    "nXpatches = 2; nYpatches=4\n",
    "ySteps = int(terrain2Resized.shape[0] / nYpatches)\n",
    "xSteps = int(terrain2Resized.shape[1] / nXpatches)\n",
    "\n",
    "patches_1 = create_img_patches(terrain1Resized, ySteps, xSteps)\n",
    "plotTerrainPatches(patches_1, nYpatches, nXpatches, plotTitle=\"Terrain1 patches\")\n",
    "\n",
    "patches_2 = create_img_patches(terrain2Resized, ySteps, xSteps)\n",
    "plotTerrainPatches(patches_2, nYpatches, nXpatches, plotTitle=\"Terrain2 patches\")\n",
    "\n",
    "# test\n",
    "#img_reconstructed = patches_to_img(patches, ySteps, xSteps, nYpatches, nXpatches, plotImage=True)\n"
   ],
   "outputs": [],
   "metadata": {}
  },
  {
   "cell_type": "markdown",
   "source": [
    "## 6.0.3 Choosing of terrain patch and data creation\r\n",
    "We look at the terrain data patches and choose which to create a fit for"
   ],
   "metadata": {}
  },
  {
   "cell_type": "code",
   "execution_count": null,
   "source": [
    "img1 = patches_1[1]\n",
    "img2 = patches_2[3]\n",
    "x1, y1, z1 = createTerrainData(img1)\n",
    "x2, y2, z2 = createTerrainData(img2)"
   ],
   "outputs": [],
   "metadata": {}
  },
  {
   "cell_type": "code",
   "execution_count": null,
   "source": [
    "# 2D plot of the terrain patches\n",
    "fig, (ax1, ax2) = plt.subplots(1, 2)\n",
    "ax1.title.set_text(f\"Terrain patch from terrain1\\nMean:\\\n",
    "{np.round(np.mean(img1),decimals=1)}\\nVariance: {np.round(np.var(img1),decimals=1)}\")\n",
    "ax1.set_xlabel(\"X\"); ax1.set_ylabel(\"Y\")\n",
    "surf1 = ax1.imshow(img1, cmap='gray')\n",
    "\n",
    "ax2.title.set_text(F\"Terrain patch from terrain2\\nMean:\\\n",
    "{np.round(np.mean(img2),decimals=1)}\\nVariance: {np.round(np.var(img2),decimals=1)}\")\n",
    "ax2.set_xlabel(\"X\"); ax2.set_ylabel(\"Y\")\n",
    "surf2 = ax2.imshow(img2, cmap='gray')\n",
    "plt.savefig(f\"{REPORT_FIGURES}{EX6}terrain_patch_to_fit_2D.pdf\")\n",
    "plt.show()\n",
    "\n",
    "# 3D plot of the terrain patches\n",
    "fig = plt.figure()\n",
    "ax1 = fig.add_subplot(1,2,1, projection='3d')\n",
    "ax1.title.set_text(f\"3D plot of terrain1 patch\")\n",
    "ax1.set_xlabel(\"x\"); ax1.set_ylabel(\"y\"); ax1.set_zlabel(\"z\")\n",
    "#ax1.view_init(elev=60., azim=-120.0-70)\n",
    "#ax1.view_init(elev=-60., azim=-120.0+30)\n",
    "ax1.view_init(elev=-75., azim=-91)\n",
    "ax1.plot_surface(x1, y1, z1, cmap=cm.coolwarm, linewidth = 0, antialiased=False)\n",
    "\n",
    "ax2 = fig.add_subplot(1,2,2, projection='3d')\n",
    "ax2.title.set_text(\"3D plot of terrain2 patch\")\n",
    "ax2.set_xlabel(\"x\"); ax2.set_ylabel(\"y\"); ax2.set_zlabel(\"z\")\n",
    "#ax2.view_init(elev=60., azim=-120.0)\n",
    "ax2.view_init(elev=-45., azim=-85.0)\n",
    "ax2.plot_surface(x2, y2, z2, cmap=cm.coolwarm, linewidth = 0, antialiased=False)\n",
    "plt.savefig(f\"{REPORT_FIGURES}{EX6}terrain_patch_to_fit_3D.pdf\")\n",
    "plt.show()\n"
   ],
   "outputs": [],
   "metadata": {}
  },
  {
   "cell_type": "markdown",
   "source": [
    "## 6.0.4 Base input data for least square regression\r\n",
    "We construct the data for least square regression based on preprocessed data. We also set up variables that will be used throughout the exercise.<br>\r\n",
    "Terrain patch from terrain 1 is used as input for our models and our tests "
   ],
   "metadata": {}
  },
  {
   "cell_type": "code",
   "execution_count": null,
   "source": [
    "terrain_data = 1\n",
    "\n",
    "if terrain_data == 1: # Choosing terrain1\n",
    "    x, y, z = x1, y1, z1.copy() \n",
    "    #z_min = np.min(z)\n",
    "    z_max = np.max(z)\n",
    "    z = z1\n",
    "\n",
    "elif terrain_data == 2: # Choosing terrain2\n",
    "    x, y, z = x2, y2, z2.copy() \n",
    "    #z_min = np.min(z)\n",
    "    z_max = np.max(z)\n",
    "    z = z2"
   ],
   "outputs": [],
   "metadata": {}
  },
  {
   "cell_type": "markdown",
   "source": [
    "# 6.1 OLS on data (Exercise1)"
   ],
   "metadata": {}
  },
  {
   "cell_type": "markdown",
   "source": [
    "## Running OLS fit on the data as done in EX1 \r\n",
    "Note that we exlude the calculation of CL for betas, since it is emedded within the model itself. See common.py for that code"
   ],
   "metadata": {}
  },
  {
   "cell_type": "code",
   "execution_count": 34,
   "source": [
    "degrees = 30\r\n",
    "z_flat = z.ravel(); z_flat = z_flat.reshape(-1,1)\r\n",
    "z_train_OLS = pd.DataFrame()\r\n",
    "z_hat_train_OLS = pd.DataFrame()\r\n",
    "z_test_OLS = pd.DataFrame()\r\n",
    "z_hat_test_OLS = pd.DataFrame()\r\n",
    "\r\n",
    "df = pd.DataFrame()\r\n",
    "for degree in range(1, degrees+1):\r\n",
    "    print(f\"Running OLS fitting on degree{degree}\")\r\n",
    "    X = create_X(x, y, degree) # Design Matrix\r\n",
    "    \r\n",
    "    # Scaling data and splitting it into training and test sets\r\n",
    "    #X_train, X_test, z_train, z_test = prepare_data(X, z, test_size=0.2, shuffle=True, scale_X=False, scale_t=False)\r\n",
    "    X_train, X_test, z_train, z_test = prepare_data(X, z_flat, test_size=0.2, shuffle=True, scale_X=True, scale_t=True, random_state=SEED_VALUE)\r\n",
    "    \r\n",
    "    # Model construction, fitting, and predictions\r\n",
    "    model = OLS(degree=degree) # The model\r\n",
    "    z_hat_train = model.fit(X_train, z_train, SVDfit=False) # Fitting the model and predict on training data\r\n",
    "    z_hat_test = model.predict(X_test) # predict on test data\r\n",
    "    \r\n",
    "    # Evaluatation metrics\r\n",
    "    MSE_score_train = MSE(z_train, z_hat_train)\r\n",
    "    R2_score_train = R2(z_train, z_hat_train)\r\n",
    "    MSE_score_test = MSE(z_test, z_hat_test)\r\n",
    "    R2_score_test = R2(z_test, z_hat_test)\r\n",
    "            \r\n",
    "    # Filling up dataframes for train and test evaluation\r\n",
    "    summary_df = model.summary()\r\n",
    "    df = pd.concat([df,summary_df], axis=0)\r\n",
    "\r\n",
    "    z_train_OLS[degree] = z_train.flatten() \r\n",
    "    z_hat_train_OLS[degree] = z_hat_train.flatten()\r\n",
    "    z_test_OLS[degree] = z_test.flatten()\r\n",
    "    z_hat_test_OLS[degree] = z_hat_test.flatten()\r\n",
    "\r\n",
    "    # Storing data for all degrees\r\n",
    "    results = {\"X_train\":X_train, \"X_test\":X_test,\"z_train\":z_train, \"z_test\":z_test,\r\n",
    "               \"z_hat_train\":z_hat_train, \"z_hat_test\":z_hat_test, \"model\":model, \"summary\":summary_df}\r\n",
    "    #OLSrun.append(results)\r\n",
    "\r\n",
    "\r\n",
    "# MSE calculations for all degrees\r\n",
    "mse_scores_train = ((z_train_OLS - z_hat_train_OLS) ** 2).mean()\r\n",
    "mse_scores_test = ((z_test_OLS - z_hat_test_OLS) ** 2).mean()\r\n",
    "# R2 calculations for all degrees\r\n",
    "R2_scores_train = 1 - ((z_train_OLS - z_hat_train_OLS) ** 2).sum() / ((z_train_OLS - z_train_OLS.mean())**2).sum() \r\n",
    "R2_scores_test = 1 - ((z_test_OLS - z_hat_test_OLS) ** 2).sum() / ((z_test_OLS - z_test_OLS.mean())**2).sum()"
   ],
   "outputs": [
    {
     "output_type": "stream",
     "name": "stdout",
     "text": [
      "Running OLS fitting on degree1\n",
      "Running OLS fitting on degree2\n",
      "Running OLS fitting on degree3\n",
      "Running OLS fitting on degree4\n",
      "Running OLS fitting on degree5\n",
      "Running OLS fitting on degree6\n"
     ]
    },
    {
     "output_type": "stream",
     "name": "stderr",
     "text": [
      "c:\\Users\\andre\\Dropbox\\FYS-STK4155_projects\\FYS-STK4155 - Project1\\FYS-STK4155-Prj1_report\\code\\common.py:79: RuntimeWarning: invalid value encountered in sqrt\n",
      "  return np.sqrt(var_hat * invXTX_diag)\n"
     ]
    },
    {
     "output_type": "stream",
     "name": "stdout",
     "text": [
      "Running OLS fitting on degree7\n",
      "Running OLS fitting on degree8\n",
      "Running OLS fitting on degree9\n",
      "Running OLS fitting on degree10\n",
      "Running OLS fitting on degree11\n",
      "Running OLS fitting on degree12\n",
      "Running OLS fitting on degree13\n",
      "Running OLS fitting on degree14\n",
      "Running OLS fitting on degree15\n",
      "Running OLS fitting on degree16\n",
      "Running OLS fitting on degree17\n",
      "Running OLS fitting on degree18\n"
     ]
    },
    {
     "output_type": "stream",
     "name": "stderr",
     "text": [
      "c:\\Users\\andre\\Dropbox\\FYS-STK4155_projects\\FYS-STK4155 - Project1\\FYS-STK4155-Prj1_report\\code\\common.py:79: RuntimeWarning: invalid value encountered in sqrt\n",
      "  return np.sqrt(var_hat * invXTX_diag)\n"
     ]
    },
    {
     "output_type": "stream",
     "name": "stdout",
     "text": [
      "Running OLS fitting on degree19\n",
      "Running OLS fitting on degree20\n",
      "Running OLS fitting on degree21\n",
      "Running OLS fitting on degree22\n"
     ]
    },
    {
     "output_type": "stream",
     "name": "stderr",
     "text": [
      "c:\\Users\\andre\\Dropbox\\FYS-STK4155_projects\\FYS-STK4155 - Project1\\FYS-STK4155-Prj1_report\\code\\common.py:79: RuntimeWarning: invalid value encountered in sqrt\n",
      "  return np.sqrt(var_hat * invXTX_diag)\n"
     ]
    },
    {
     "output_type": "stream",
     "name": "stdout",
     "text": [
      "Running OLS fitting on degree23\n",
      "Running OLS fitting on degree24\n"
     ]
    },
    {
     "output_type": "stream",
     "name": "stderr",
     "text": [
      "c:\\Users\\andre\\Dropbox\\FYS-STK4155_projects\\FYS-STK4155 - Project1\\FYS-STK4155-Prj1_report\\code\\common.py:79: RuntimeWarning: invalid value encountered in sqrt\n",
      "  return np.sqrt(var_hat * invXTX_diag)\n"
     ]
    },
    {
     "output_type": "stream",
     "name": "stdout",
     "text": [
      "Running OLS fitting on degree25\n",
      "Running OLS fitting on degree26\n",
      "Running OLS fitting on degree27\n",
      "Running OLS fitting on degree28\n",
      "Running OLS fitting on degree29\n",
      "Running OLS fitting on degree30\n"
     ]
    }
   ],
   "metadata": {}
  },
  {
   "cell_type": "markdown",
   "source": [
    "## Plotting performance of OLS for different degrees"
   ],
   "metadata": {}
  },
  {
   "cell_type": "code",
   "execution_count": 35,
   "source": [
    "plt.plot(np.arange(1,degrees+1), mse_scores_test,\"m\", label='MSE on test')\r\n",
    "plt.plot(np.arange(1,degrees+1), mse_scores_train,\"c\", label='MSE on train')\r\n",
    "#plt.plot(np.arange(1,degrees+1), R2_scores_test, label='R2 on test')\r\n",
    "#plt.plot(np.arange(1,degrees+1), R2_scores_train, label='R2 on train')\r\n",
    "plt.xlabel(\"Model complexity / Polynomial Degree\")\r\n",
    "plt.ylabel(\"Prediction Error - MSE\")\r\n",
    "plt.xticks(np.arange(1,degrees+1))\r\n",
    "plt.grid(True)\r\n",
    "plt.legend()\r\n",
    "plt.savefig(f\"{REPORT_FIGURES}{EX6_1}terrain_patch_OLS_evaluate_fit.pdf\")\r\n",
    "plt.show()"
   ],
   "outputs": [
    {
     "output_type": "display_data",
     "data": {
      "image/png": "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",
      "text/plain": [
       "<Figure size 432x288 with 1 Axes>"
      ]
     },
     "metadata": {
      "needs_background": "light"
     }
    }
   ],
   "metadata": {}
  },
  {
   "cell_type": "markdown",
   "source": [
    "## Looking at $\\beta$ values"
   ],
   "metadata": {}
  },
  {
   "cell_type": "code",
   "execution_count": 41,
   "source": [
    "optimal_degree = 4\r\n",
    "df_degree = df[df[\"degree\"] == optimal_degree]\r\n",
    "print(\"df_degree.shape:\",df_degree.shape)\r\n",
    "display(df_degree)\r\n",
    "df_degree.to_csv(f\"{REPORT_DATA}{EX6_1}OLS_beta_error_degree{optimal_degree}.csv\")\r\n",
    "\r\n",
    "fig = plot_beta_errors(df_degree, optimal_degree)\r\n",
    "fig.savefig(f\"{REPORT_FIGURES}{EX6_1}OLS_beta_error_degree{optimal_degree}.pdf\")\r\n"
   ],
   "outputs": [
    {
     "output_type": "stream",
     "name": "stdout",
     "text": [
      "df_degree.shape: (15, 6)\n"
     ]
    },
    {
     "output_type": "display_data",
     "data": {
      "text/html": [
       "<div>\n",
       "<style scoped>\n",
       "    .dataframe tbody tr th:only-of-type {\n",
       "        vertical-align: middle;\n",
       "    }\n",
       "\n",
       "    .dataframe tbody tr th {\n",
       "        vertical-align: top;\n",
       "    }\n",
       "\n",
       "    .dataframe thead th {\n",
       "        text-align: right;\n",
       "    }\n",
       "</style>\n",
       "<table border=\"1\" class=\"dataframe\">\n",
       "  <thead>\n",
       "    <tr style=\"text-align: right;\">\n",
       "      <th></th>\n",
       "      <th>degree</th>\n",
       "      <th>coeff name</th>\n",
       "      <th>coeff value</th>\n",
       "      <th>std error</th>\n",
       "      <th>CI lower</th>\n",
       "      <th>CI upper</th>\n",
       "    </tr>\n",
       "  </thead>\n",
       "  <tbody>\n",
       "    <tr>\n",
       "      <th>0</th>\n",
       "      <td>4.0</td>\n",
       "      <td>$\\beta$0</td>\n",
       "      <td>-0.0</td>\n",
       "      <td>0.0</td>\n",
       "      <td>-0.0</td>\n",
       "      <td>0.0</td>\n",
       "    </tr>\n",
       "    <tr>\n",
       "      <th>1</th>\n",
       "      <td>4.0</td>\n",
       "      <td>$\\beta$1</td>\n",
       "      <td>-0.0026</td>\n",
       "      <td>0.0001</td>\n",
       "      <td>-0.0027</td>\n",
       "      <td>-0.0025</td>\n",
       "    </tr>\n",
       "    <tr>\n",
       "      <th>2</th>\n",
       "      <td>4.0</td>\n",
       "      <td>$\\beta$2</td>\n",
       "      <td>0.0004</td>\n",
       "      <td>0.0001</td>\n",
       "      <td>0.0003</td>\n",
       "      <td>0.0005</td>\n",
       "    </tr>\n",
       "    <tr>\n",
       "      <th>3</th>\n",
       "      <td>4.0</td>\n",
       "      <td>$\\beta$3</td>\n",
       "      <td>-0.2825</td>\n",
       "      <td>0.005</td>\n",
       "      <td>-0.2922</td>\n",
       "      <td>-0.2727</td>\n",
       "    </tr>\n",
       "    <tr>\n",
       "      <th>4</th>\n",
       "      <td>4.0</td>\n",
       "      <td>$\\beta$4</td>\n",
       "      <td>0.288</td>\n",
       "      <td>0.0067</td>\n",
       "      <td>0.2748</td>\n",
       "      <td>0.3011</td>\n",
       "    </tr>\n",
       "    <tr>\n",
       "      <th>5</th>\n",
       "      <td>4.0</td>\n",
       "      <td>$\\beta$5</td>\n",
       "      <td>-0.133</td>\n",
       "      <td>0.005</td>\n",
       "      <td>-0.1427</td>\n",
       "      <td>-0.1233</td>\n",
       "    </tr>\n",
       "    <tr>\n",
       "      <th>6</th>\n",
       "      <td>4.0</td>\n",
       "      <td>$\\beta$6</td>\n",
       "      <td>0.0024</td>\n",
       "      <td>0.0001</td>\n",
       "      <td>0.0023</td>\n",
       "      <td>0.0025</td>\n",
       "    </tr>\n",
       "    <tr>\n",
       "      <th>7</th>\n",
       "      <td>4.0</td>\n",
       "      <td>$\\beta$7</td>\n",
       "      <td>-0.0008</td>\n",
       "      <td>0.0001</td>\n",
       "      <td>-0.0009</td>\n",
       "      <td>-0.0007</td>\n",
       "    </tr>\n",
       "    <tr>\n",
       "      <th>8</th>\n",
       "      <td>4.0</td>\n",
       "      <td>$\\beta$8</td>\n",
       "      <td>-0.0013</td>\n",
       "      <td>0.0001</td>\n",
       "      <td>-0.0015</td>\n",
       "      <td>-0.0012</td>\n",
       "    </tr>\n",
       "    <tr>\n",
       "      <th>9</th>\n",
       "      <td>4.0</td>\n",
       "      <td>$\\beta$9</td>\n",
       "      <td>0.0014</td>\n",
       "      <td>0.0001</td>\n",
       "      <td>0.0013</td>\n",
       "      <td>0.0015</td>\n",
       "    </tr>\n",
       "    <tr>\n",
       "      <th>10</th>\n",
       "      <td>4.0</td>\n",
       "      <td>$\\beta$10</td>\n",
       "      <td>-0.0</td>\n",
       "      <td>0.0</td>\n",
       "      <td>-0.0</td>\n",
       "      <td>-0.0</td>\n",
       "    </tr>\n",
       "    <tr>\n",
       "      <th>11</th>\n",
       "      <td>4.0</td>\n",
       "      <td>$\\beta$11</td>\n",
       "      <td>-0.0</td>\n",
       "      <td>0.0</td>\n",
       "      <td>-0.0</td>\n",
       "      <td>-0.0</td>\n",
       "    </tr>\n",
       "    <tr>\n",
       "      <th>12</th>\n",
       "      <td>4.0</td>\n",
       "      <td>$\\beta$12</td>\n",
       "      <td>0.0</td>\n",
       "      <td>0.0</td>\n",
       "      <td>0.0</td>\n",
       "      <td>0.0</td>\n",
       "    </tr>\n",
       "    <tr>\n",
       "      <th>13</th>\n",
       "      <td>4.0</td>\n",
       "      <td>$\\beta$13</td>\n",
       "      <td>-0.0</td>\n",
       "      <td>0.0</td>\n",
       "      <td>-0.0</td>\n",
       "      <td>-0.0</td>\n",
       "    </tr>\n",
       "    <tr>\n",
       "      <th>14</th>\n",
       "      <td>4.0</td>\n",
       "      <td>$\\beta$14</td>\n",
       "      <td>-0.0</td>\n",
       "      <td>0.0</td>\n",
       "      <td>-0.0</td>\n",
       "      <td>-0.0</td>\n",
       "    </tr>\n",
       "  </tbody>\n",
       "</table>\n",
       "</div>"
      ],
      "text/plain": [
       "   degree coeff name coeff value std error CI lower CI upper\n",
       "0     4.0   $\\beta$0        -0.0       0.0     -0.0      0.0\n",
       "1     4.0   $\\beta$1     -0.0026    0.0001  -0.0027  -0.0025\n",
       "2     4.0   $\\beta$2      0.0004    0.0001   0.0003   0.0005\n",
       "3     4.0   $\\beta$3     -0.2825     0.005  -0.2922  -0.2727\n",
       "4     4.0   $\\beta$4       0.288    0.0067   0.2748   0.3011\n",
       "5     4.0   $\\beta$5      -0.133     0.005  -0.1427  -0.1233\n",
       "6     4.0   $\\beta$6      0.0024    0.0001   0.0023   0.0025\n",
       "7     4.0   $\\beta$7     -0.0008    0.0001  -0.0009  -0.0007\n",
       "8     4.0   $\\beta$8     -0.0013    0.0001  -0.0015  -0.0012\n",
       "9     4.0   $\\beta$9      0.0014    0.0001   0.0013   0.0015\n",
       "10    4.0  $\\beta$10        -0.0       0.0     -0.0     -0.0\n",
       "11    4.0  $\\beta$11        -0.0       0.0     -0.0     -0.0\n",
       "12    4.0  $\\beta$12         0.0       0.0      0.0      0.0\n",
       "13    4.0  $\\beta$13        -0.0       0.0     -0.0     -0.0\n",
       "14    4.0  $\\beta$14        -0.0       0.0     -0.0     -0.0"
      ]
     },
     "metadata": {}
    },
    {
     "output_type": "display_data",
     "data": {
      "image/png": "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",
      "text/plain": [
       "<Figure size 261.104x288 with 1 Axes>"
      ]
     },
     "metadata": {
      "needs_background": "light"
     }
    }
   ],
   "outputs": [],
   "metadata": {}
  },
  {
   "cell_type": "code",
   "execution_count": null,
   "source": [],
   "outputs": [],
   "metadata": {}
  },
  {
   "cell_type": "markdown",
   "source": [
    "## Plotting the fitted terrain image using the most optimal degree"
   ],
   "metadata": {}
  },
  {
   "cell_type": "code",
   "execution_count": 14,
   "source": [
    "X = create_X(x1, y1, optimal_degree) # Design Matrix \r\n",
    "X_scaled, _ = standard_scaling_single(X)\r\n",
    "z1_scaled, z1_scaler = standard_scaling_single(z.ravel().reshape(-1,1))\r\n",
    "\r\n",
    "# Model construction, fitting, and predictions\r\n",
    "model = OLS(degree=optimal_degree) # The model\r\n",
    "z_hat_train = model.fit(X_scaled, z1_scaled, SVDfit=False, keep_intercept=True) # Fitting the model and predict on training data\r\n",
    "\r\n",
    "z_hat = z1_scaler.inverse_transform(z_hat_train)\r\n",
    "z_hat = z_hat.reshape((ySteps,xSteps))\r\n",
    "\r\n",
    "# 2D plot of the terrain patches\r\n",
    "fig, (ax1, ax2) = plt.subplots(1, 2)\r\n",
    "ax1.title.set_text(F\"Terrain to predict\\nMean:\\\r\n",
    "{np.round(np.mean(z),decimals=1)}\\nVariance: {np.round(np.var(z),decimals=1)}\")\r\n",
    "ax1.set_xlabel(\"X\"); ax1.set_ylabel(\"Y\")\r\n",
    "surf1 = ax1.imshow(z, cmap='gray')\r\n",
    "\r\n",
    "ax2.title.set_text(F\"Predicted terrain using OLS at degree{optimal_degree}\\nMean:\\\r\n",
    "{np.round(np.mean(z_hat),decimals=1)}\\nVariance: {np.round(np.var(z_hat),decimals=1)}\")\r\n",
    "ax2.set_xlabel(\"X\"); ax2.set_ylabel(\"Y\")\r\n",
    "surf2 = ax2.imshow(z_hat, cmap='gray')\r\n",
    "plt.savefig(f\"{REPORT_FIGURES}{EX6_1}chosen_terrain_data_and_prediction_at_degree{optimal_degree}.pdf\")\r\n",
    "plt.show()\r\n",
    "\r\n",
    "# 3D plot of predicted terrain patches\r\n",
    "fig = plt.figure()\r\n",
    "ax1 = fig.add_subplot(1,2,1, projection='3d')\r\n",
    "ax1.title.set_text(\"3D plot of Terrain to predict\")\r\n",
    "ax1.set_xlabel(\"x\"); ax1.set_ylabel(\"y\"); ax1.set_zlabel(\"z\")\r\n",
    "#ax1.view_init(elev=60., azim=-120.0-70)\r\n",
    "ax1.view_init(elev=-75., azim=-91)\r\n",
    "ax1.plot_surface(x1, y1, z1, cmap=cm.coolwarm, linewidth = 0, antialiased=False)\r\n",
    "\r\n",
    "ax2 = fig.add_subplot(1,2,2, projection='3d')\r\n",
    "ax2.title.set_text(\"3D plot of predicted terrain\\n(OLS)\")\r\n",
    "ax2.set_xlabel(\"x\"); ax2.set_ylabel(\"y\"); ax2.set_zlabel(\"z\")\r\n",
    "#ax2.view_init(elev=60., azim=-120.0-70)\r\n",
    "ax2.view_init(elev=-75., azim=-91)\r\n",
    "ax2.plot_surface(x1, y1, z_hat, cmap=cm.coolwarm, linewidth = 0, antialiased=False)\r\n",
    "plt.savefig(f\"{REPORT_FIGURES}{EX6_1}chosen_terrain_data_and_prediction_at_degree{optimal_degree}_3D.pdf\")\r\n",
    "plt.show()"
   ],
   "outputs": [],
   "metadata": {}
  },
  {
   "cell_type": "markdown",
   "source": [
    "### Comments on the OLS fit to terrain data:\r\n",
    "We scale the data since x, y, z is they are not between 0 to 1. Degree of 4 seems to yeild the best performance when fitting to the choosen terrain data."
   ],
   "metadata": {}
  },
  {
   "cell_type": "markdown",
   "source": [
    "## Trying to overfit to terrain for all patches"
   ],
   "metadata": {}
  },
  {
   "cell_type": "code",
   "execution_count": null,
   "source": [
    "testDegree = 150\n",
    "testDegree = 4\n",
    "patches_1_preds = []\n",
    "X = create_X(x1, y1, testDegree) # Design Matrix\n",
    "X_scaled, _ = standard_scaling_single(X)\n",
    "\n",
    "for patch in tqdm(patches_1):\n",
    "    z_scaled, _ = standard_scaling_single(patch.ravel().reshape(-1,1))\n",
    "    model = OLS(degree=testDegree) # The model\n",
    "    z_hat_train = model.fit(X_scaled, z_scaled, SVDfit=False, keep_intercept=True) # Fitting the model and predict on training data\n",
    "    z_hat = z_hat_train.reshape((ySteps,xSteps))\n",
    "    patches_1_preds.append(z_hat)\n",
    "    \n",
    "terrain1_predicted = patches_to_img(patches_1_preds, ySteps, xSteps, nYpatches, nXpatches, plotImage=False)\n",
    "\n",
    "# Plotting predicted patches\n",
    "fig, (ax1, ax2) = plt.subplots(1, 2)\n",
    "ax1.title.set_text(f\"Terrain1 (resized)\")\n",
    "ax1.set_xlabel(\"X\"); ax1.set_ylabel(\"Y\")\n",
    "surf1 = ax1.imshow(terrain1Resized, cmap='gray')\n",
    "ax2.title.set_text(f\"Terrain1 - OLS predicted\")\n",
    "ax2.set_xlabel(\"X\"); ax2.set_ylabel(\"Y\")\n",
    "surf2 = ax2.imshow(terrain1_predicted, cmap='gray')\n",
    "plt.savefig(f\"{REPORT_FIGURES}{EX6_1}terrain_and_all_patches_predicted_at_degree{testDegree}.pdf\")\n",
    "plt.show()"
   ],
   "outputs": [
    {
     "output_type": "stream",
     "name": "stderr",
     "text": [
      "100%|██████████| 8/8 [00:00<00:00, 499.14it/s]\n"
     ]
    },
    {
     "output_type": "display_data",
     "data": {
      "image/png": "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",
      "text/plain": [
       "<Figure size 432x288 with 2 Axes>"
      ]
     },
     "metadata": {
      "needs_background": "light"
     }
    }
   ],
   "metadata": {}
  },
  {
   "cell_type": "markdown",
   "source": [
    "# TODO:\r\n",
    "#### This text may have to be adjusted\r\n",
    "A degree of 4 or 5 seems to give a smooth surface for all the predicted patches. We find that the distortion and noise increase in the predicted image when the degree increases above 4-5 considering all patches. At higher degrees, some artifacts within the predicted patches also appear. In the predicted image with all patches, one can see some of the contours of the topographic structures in the image we try to approximate. However, the predicted image that is reconstructed from all the predicted patches is not very accurate. The task of this kind of problem is too complex for an OLS to manage. It may be that having smaller patches would increase the accuracy in reproducing the details incorporated in the input image. "
   ],
   "metadata": {}
  },
  {
   "cell_type": "markdown",
   "source": [
    "# 6.2 Bias-variance trade-off and resampling techniques on terrain data (Exercise2)"
   ],
   "metadata": {}
  },
  {
   "cell_type": "markdown",
   "source": [
    "## 6.2.1 Setting up variables and data"
   ],
   "metadata": {}
  },
  {
   "cell_type": "code",
   "execution_count": null,
   "source": [
    "np.random.seed(SEED_VALUE)\n",
    "maxdegree = 10\n",
    "n_bootstraps = 10\n",
    "MSE_test = np.zeros(maxdegree)\n",
    "MSE_train = np.zeros(maxdegree)\n",
    "polydegree = np.arange(1,maxdegree+1)\n",
    "bias = np.zeros(maxdegree)\n",
    "variance = np.zeros(maxdegree)\n",
    "z_flat = z.ravel().reshape(-1,1); \n",
    "z_flat = z_flat.reshape(-1,1)"
   ],
   "outputs": [],
   "metadata": {}
  },
  {
   "cell_type": "markdown",
   "source": [
    "## 6.2.2 Testing out different degrees while resampling using bootstrap"
   ],
   "metadata": {}
  },
  {
   "cell_type": "code",
   "execution_count": null,
   "source": [
    "for degree in tqdm(range(1, maxdegree+1), desc = f\"Looping through polynomials up to {maxdegree} degrees with {n_bootstraps} bootstraps: \"):\n",
    "    #model= make_pipeline(PolynomialFeatures(degree=degree), LinearRegression(fit_intercept=False)) \n",
    "    X = create_X(x, y, n=degree)\n",
    "\n",
    "    # Train test split\n",
    "    X_train, X_test, z_train, z_test = prepare_data(X, z_flat, test_size=0.2, shuffle=True, scale_X=True, scale_t=True, random_state=SEED_VALUE)\n",
    "\n",
    "    #TODO: why scale?!?\n",
    "    # How do we scale? should test and train have different scalers or use the same?\n",
    "    # Scaling\n",
    "    \n",
    "    model =  OLS(degree=degree)\n",
    "    z_hat_trains, z_hat_tests = bootstrapping(X_train, z_train, X_test, z_test, \n",
    "                                              n_bootstraps, model, keep_intercept=True)\n",
    "      \n",
    "    MSE_test[degree-1] = np.mean( np.mean((z_test - z_hat_tests)**2, axis=1, keepdims=True ))\n",
    "    MSE_train[degree-1] = np.mean( np.mean((z_train - z_hat_trains)**2, axis=1, keepdims=True ))\n",
    "    bias[degree-1] = np.mean( (z_test - np.mean(z_hat_tests, axis=1, keepdims=True))**2 )\n",
    "    variance[degree-1] = np.mean( np.var(z_hat_tests, axis=1, keepdims=True))\n",
    "       \n",
    "plt.plot(polydegree, MSE_test,\"m\", label='MSE test')\n",
    "plt.plot(polydegree, MSE_train,\"c\", label='MSE train')\n",
    "plt.plot(polydegree, bias,\"b--\", label='bias')\n",
    "plt.plot(polydegree, variance,\"r--\", label='Variance')\n",
    "#plt.plot(polydegree, bias+variance,\"g--\", label='bias+variance')\n",
    "\n",
    "plt.xlabel(\"Model complexity / Polynomial Degree\")\n",
    "plt.ylabel(\"Prediction Error - MSE\")\n",
    "plt.xticks(polydegree)\n",
    "plt.grid(True)\n",
    "plt.legend()\n",
    "plt.savefig(f\"{REPORT_FIGURES}{EX6_2}model_complexity_using_bootstrap.pdf\")\n",
    "plt.show()"
   ],
   "outputs": [
    {
     "output_type": "stream",
     "name": "stderr",
     "text": [
      "Looping through polynomials up to 10 degrees with 10 bootstraps: 100%|██████████| 10/10 [00:00<00:00, 12.85it/s]\n"
     ]
    },
    {
     "output_type": "display_data",
     "data": {
      "image/png": "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",
      "text/plain": [
       "<Figure size 432x288 with 1 Axes>"
      ]
     },
     "metadata": {
      "needs_background": "light"
     }
    }
   ],
   "metadata": {}
  },
  {
   "cell_type": "markdown",
   "source": [
    "# 6.3 Cross-validation as resampling techniques, adding more complexity (Exercise3)"
   ],
   "metadata": {}
  },
  {
   "cell_type": "markdown",
   "source": [
    "## 6.3.1 Cross validation algorithm"
   ],
   "metadata": {}
  },
  {
   "cell_type": "code",
   "execution_count": null,
   "source": [
    "\"\"\"\n",
    "np.random.seed(SEED_VALUE)\n",
    "def cross_val(X_data:np.ndarray, t_data:np.ndarray, model: object, k_folds_from = 5,k_folds_to = 11)-> Tuple[list, list]:\n",
    "    t_data = t_data.ravel()\n",
    "    t_data = np.expand_dims(t_data, axis=1)\n",
    "    numb_of_its = k_folds_to-k_folds_from\n",
    "    mean_MSE_test = np.zeros(numb_of_its)\n",
    "    mean_MSE_train = np.zeros(numb_of_its)\n",
    "    \n",
    "    inds = np.arange(t_data.shape[0])\n",
    "    #shuffle indicies to create random folds: \n",
    "    np.random.shuffle(inds)\n",
    "    \n",
    "    #create array for plotting:\n",
    "    folds = np.zeros(numb_of_its)\n",
    "    for fold in range(k_folds_from,k_folds_to):\n",
    "        #split inds into multiple sub-arrays of equal or aprox equal size: \n",
    "        fold_inds = np.array_split(inds, fold)\n",
    "        MSE_test = np.zeros(fold)\n",
    "        MSE_train = np.zeros(fold)\n",
    "        folds[fold-k_folds_from] = fold \n",
    "        for k in range(fold):\n",
    "            #get array elements at indx k from folds_inds and use as test data: \n",
    "            X_test = X_data[fold_inds[k],:]\n",
    "            z_test = t_data[fold_inds[k]]\n",
    "    \n",
    "            #create training data by removing test-indicies from data\n",
    "            X_train = np.delete(arr = X_data, obj = fold_inds[k],axis = 0)\n",
    "            z_train = np.delete(t_data, fold_inds[k]) \n",
    "            z_train = np.expand_dims(z_train, axis=1)\n",
    "      \n",
    "            # Scale data: \n",
    "            X_train, _ = standard_scaling(X_train)\n",
    "            z_train, _ = standard_scaling(z_train)\n",
    "            X_test, _ = standard_scaling(X_test)\n",
    "            z_test, _ = standard_scaling(z_test)\n",
    "            \n",
    "            #fit model and predict on train data:\n",
    "            z_hat_train = model.fit(X_train, z_train, SVDfit=False)\n",
    "            \n",
    "            #predict on test data:\n",
    "            z_hat_test = model.predict(X_test)\n",
    "            \n",
    "            # Storing MSE values\n",
    "            MSE_test[k] = np.mean((z_test - z_hat_test)**2)\n",
    "            MSE_train[k] = np.mean((z_train - z_hat_train)**2) \n",
    "            \n",
    "        mean_MSE_test[fold-k_folds_to] = np.mean(MSE_test)\n",
    "        mean_MSE_train[fold-k_folds_to] = np.mean(MSE_train)\n",
    "        \n",
    "    return mean_MSE_test,mean_MSE_train, folds\n",
    "\"\"\""
   ],
   "outputs": [],
   "metadata": {}
  },
  {
   "cell_type": "markdown",
   "source": [
    "## 6.3.2 Setting up variables and data"
   ],
   "metadata": {}
  },
  {
   "cell_type": "code",
   "execution_count": null,
   "source": [
    "z_flat = z.ravel().reshape(-1,1); \n",
    "z_flat = z_flat.reshape(-1,1)"
   ],
   "outputs": [],
   "metadata": {}
  },
  {
   "cell_type": "markdown",
   "source": [
    "## 6.3.3 Testing out different degrees"
   ],
   "metadata": {}
  },
  {
   "cell_type": "code",
   "execution_count": null,
   "source": [
    "degree = 10\n",
    "mean_folds_error = np.zeros(6)\n",
    "\n",
    "for folds in range(5,11):\n",
    "    sk_model = sk.LinearRegression()\n",
    "    sk_scores = cross_val_score(sk_model, X, z_flat, cv=folds, scoring = \"neg_mean_squared_error\")\n",
    "    \n",
    "    implemented_scores = cross_val(k = folds, model = \"OLS\", X = X, z = z_flat, shuffle=True)\n",
    "    #plt.plot(np.arange(folds), score,\"-o\", label = f\"{folds} folds\")\n",
    "    plt.plot(np.arange(folds), sk_scores*-1,\"--o\", label = f\"{folds} folds(sk.cv)\")\n",
    "    plt.xlabel(\"fold used as test data\")\n",
    "    plt.ylabel(\"MSE\")\n",
    "    plt.legend()\n",
    "    mean_folds_error[folds-5] = np.mean(implemented_scores)\n",
    "    #print(sk_scores)\n",
    "    #print(implemented_scores)"
   ],
   "outputs": [],
   "metadata": {}
  },
  {
   "cell_type": "code",
   "execution_count": null,
   "source": [
    "plt.plot(np.arange(5,11), mean_folds_error)\n",
    "plt.xlabel(\"Number of folds\")\n",
    "plt.ylabel(\"MSE\")\n",
    "plt.show()"
   ],
   "outputs": [],
   "metadata": {}
  },
  {
   "cell_type": "code",
   "execution_count": null,
   "source": [
    "\"\"\"\n",
    "maxdegree = 5\n",
    "for degree in range(1, maxdegree+1):\n",
    "    X = create_X(x, y, n=degree)  \n",
    "    MSE_test, MSE_train, folds = cross_val(X_data= X, t_data=z, model=OLS(degree))\n",
    "    plt.plot(folds, MSE_test,\"m\", label='MSE test')\n",
    "    plt.plot(folds, MSE_train,\"c\", label='MSE train')\n",
    "\n",
    "    plt.xlabel(f\"Folds at polynomial degree:{degree}\")\n",
    "    plt.ylabel(\"Prediction Error - MSE\")\n",
    "\n",
    "    plt.grid(True)\n",
    "    plt.legend()\n",
    "    plt.savefig(f\"{REPORT_FIGURES}{EX6_3}model_complexity_using_CV_degree{degree}.pdf\")\n",
    "    plt.show()\n",
    "\"\"\""
   ],
   "outputs": [],
   "metadata": {}
  },
  {
   "cell_type": "code",
   "execution_count": null,
   "source": [],
   "outputs": [],
   "metadata": {}
  },
  {
   "cell_type": "markdown",
   "source": [
    "# 6.4 Ridge Regression on the Franke function with resampling (Exercise4)"
   ],
   "metadata": {}
  },
  {
   "cell_type": "markdown",
   "source": [
    "## 6.4.1 Setting up variables and data"
   ],
   "metadata": {}
  },
  {
   "cell_type": "code",
   "execution_count": null,
   "source": [
    "nbf_lambdas = 10\n",
    "lambdas = np.logspace(-5,5, nbf_lambdas)\n",
    "z_train_ridge = pd.DataFrame()\n",
    "z_hat_train_ridge = pd.DataFrame()\n",
    "z_test_ridge = pd.DataFrame()\n",
    "z_hat_test_ridge = pd.DataFrame()\n",
    "z_hat_train_ridge_sk = pd.DataFrame()\n",
    "z_hat_test_ridge_sk = pd.DataFrame()"
   ],
   "outputs": [],
   "metadata": {}
  },
  {
   "cell_type": "markdown",
   "source": [
    "## 6.4.2 Ridge regression - finding optimal lambda without resampling"
   ],
   "metadata": {}
  },
  {
   "cell_type": "code",
   "execution_count": null,
   "source": [
    "for lmb in lambdas:\n",
    "    #X_train, X_test, z_train, z_test = prepare_data(X, z, test_size=0.2, shuffle=True, scale_X=False, scale_t=False)\n",
    "    X_train, X_test, z_train, z_test = prepare_data(X, z_flat, test_size=0.2, shuffle=True, \n",
    "                                                    zero_center = False, scale_X=True, scale_t=True, \n",
    "                                                    random_state=SEED_VALUE)\n",
    "    \n",
    "    \"\"\"\n",
    "    print(f\"X_train.shape:{X_train.shape}\")\n",
    "    print(f\"z_train.shape:{z_train.shape}\")\n",
    "    print(f\"X_test.shape:{X_test.shape}\")\n",
    "    print(f\"z_test.shape:{z_test.shape}\")\n",
    "    \"\"\"\n",
    "    # Fitting the scikit Ridge model\n",
    "    model_sk = lm.Ridge(lmb, fit_intercept=True)\n",
    "    model_sk.fit(X_train, z_train)\n",
    "    \n",
    "    # Predictions sklearn Ridge\n",
    "    z_hat_train_sk = model_sk.predict(X_train) # predict on train data\n",
    "    z_hat_test_sk = model_sk.predict(X_test) # predict on test data\n",
    "    \n",
    "    # Fitting our Ridge model and predicting on training data\n",
    "    model = RidgeRegression(lmb) # The model\n",
    "    z_hat_train = model.fit(X_train, z_train, SVDfit=False, keep_intercept=False) # Fitting the model    \n",
    "    z_hat_test = model.predict(X_test) # predict on test data\n",
    "\n",
    "    # Filling up sk dataframes\n",
    "    z_hat_train_ridge_sk[lmb] = z_hat_train_sk.flatten()\n",
    "    z_hat_test_ridge_sk[lmb] = z_hat_test_sk.flatten()\n",
    "    \n",
    "    # Filling up dataframes\n",
    "    z_train_ridge[lmb] = z_train.flatten() \n",
    "    z_hat_train_ridge[lmb] = z_hat_train.flatten()\n",
    "    z_test_ridge[lmb] = z_test.flatten()\n",
    "    z_hat_test_ridge[lmb] = z_hat_test.flatten()\n",
    "\n",
    "# MSE calculations for all lambda values\n",
    "mse_scores_train = ((z_train_ridge - z_hat_train_ridge) ** 2).mean()\n",
    "mse_scores_test = ((z_test_ridge - z_hat_test_ridge) ** 2).mean()\n",
    "mse_scors_train_sk = ((z_train_ridge - z_hat_train_ridge_sk) ** 2).mean()\n",
    "mse_scores_test_sk = ((z_test_ridge - z_hat_test_ridge_sk) ** 2).mean()\n",
    "\n",
    "# R2 calculations for all lambda values\n",
    "R2_scores_train = 1 - ((z_train_ridge - z_hat_train_ridge) ** 2).sum() / ((z_train_ridge - z_train_ridge.mean())**2).sum() \n",
    "R2_scores_test = 1 - ((z_test_ridge - z_hat_test_ridge) ** 2).sum() / ((z_test_ridge - z_test_ridge.mean())**2).sum()  \n",
    "\n",
    "# Plots\n",
    "plt.figure(figsize=(8,7))\n",
    "plt.plot(-np.log(lambdas), mse_scores_train, label=\"Training data\")\n",
    "plt.plot(-np.log(lambdas), mse_scores_test, label=\"Test data\")\n",
    "\n",
    "plt.plot(-np.log(lambdas), mse_scors_train_sk, 'm--', label=\"Training data sklearn\")\n",
    "plt.plot(-np.log(lambdas), mse_scores_test_sk, 'y--', label=\"Test data sklearn\")\n",
    "\n",
    "#plt.plot(mse_scores_train,-np.log(lambdas), label=\"Training data\")\n",
    "#plt.plot(mse_scores_test,-np.log(lambdas), label=\"Test data\")\n",
    "plt.xlabel(\"log(lambda)\")\n",
    "plt.ylabel(\"MSE\")\n",
    "plt.title(\"Training evaluation on Ridge regression fit\")\n",
    "plt.legend()\n",
    "plt.savefig(f\"{REPORT_FIGURES}{EX6_4}Ridge_finding_optimal_lambda_without_resampling.pdf\")\n",
    "plt.show()"
   ],
   "outputs": [],
   "metadata": {}
  },
  {
   "cell_type": "markdown",
   "source": [
    "## 6.4.3 Ridge regression - finding optimal lambda using bootstrap"
   ],
   "metadata": {}
  },
  {
   "cell_type": "code",
   "execution_count": null,
   "source": [
    "n_bootstraps = 100\n",
    "maxdegree = 12\n",
    "\n",
    "#lambdas = [-5,4]\n",
    "i = 0\n",
    "for lmb in lambdas:\n",
    "    MSE_test = np.zeros(maxdegree)\n",
    "    MSE_train = np.zeros(maxdegree)\n",
    "    polydegree = np.arange(maxdegree)\n",
    "    bias = np.zeros(maxdegree)\n",
    "    variance = np.zeros(maxdegree)\n",
    "\n",
    "    for degree in tqdm(range(maxdegree), desc = f\"Looping through polynomials up to {maxdegree} degrees with {n_bootstraps} bootstraps: \"):\n",
    "        #model= make_pipeline(PolynomialFeatures(degree=degree), LinearRegression(fit_intercept=False)) \n",
    "        X = create_X(x, y, n=degree)\n",
    "\n",
    "        # Train test split\n",
    "        X_train, X_test, z_train, z_test = prepare_data(X, z_flat, test_size=0.2, shuffle=True, scale_X=True, scale_t=True, random_state=SEED_VALUE)\n",
    "\n",
    "        #TODO: why scale?!?\n",
    "        # How do we scale? should test and train have different scalers or use the same?\n",
    "        # Scaling\n",
    "\n",
    "        model =  RidgeRegression(lambda_val=lmb)\n",
    "        z_hat_trains, z_hat_tests = bootstrapping(X_train, z_train, X_test, z_test, \n",
    "                                                  n_bootstraps, model, keep_intercept=False)\n",
    "            \n",
    "        MSE_test[degree] = np.mean( np.mean((z_test - z_hat_tests)**2, axis=1, keepdims=True ))\n",
    "        MSE_train[degree] = np.mean( np.mean((z_train - z_hat_trains)**2, axis=1, keepdims=True ))\n",
    "        bias[degree] = np.mean( (z_test - np.mean(z_hat_tests, axis=1, keepdims=True))**2 )\n",
    "        variance[degree] = np.mean( np.var(z_hat_tests, axis=1, keepdims=True))\n",
    "\n",
    "    plt.figure()\n",
    "    plt.plot(polydegree, MSE_test,\"m\", label='MSE test')\n",
    "    plt.plot(polydegree, MSE_train,\"c\", label='MSE train')\n",
    "\n",
    "    plt.plot(polydegree, bias,\"g--\", label='bias')\n",
    "    plt.plot(polydegree, variance,\"r--\", label='Variance')\n",
    "\n",
    "    plt.title(f\"Bias-Variance for lambda:{lmb}\")\n",
    "    plt.xlabel(\"Model complexity / Polynomial Degree\")\n",
    "    plt.ylabel(\"Prediction Error\")\n",
    "\n",
    "    plt.grid(True)\n",
    "    plt.legend()\n",
    "    plt.savefig(f\"{REPORT_FIGURES}{EX6_4}Ridge_finding_optimal_lambda_using_bootstrap_lambda_num{i}.pdf\")\n",
    "    plt.show()\n",
    "\n",
    "    summary_df, _ = model.summary()\n",
    "    CI_lower_betas = summary_df[\"CI lower\"]\n",
    "    CI_upper_betas = summary_df[\"CI upper\"]\n",
    "    betas = summary_df[\"coeff value\"]\n",
    "    i+=1\n",
    "\n",
    "    #display(model.summary())\n",
    "      "
   ],
   "outputs": [
    {
     "output_type": "stream",
     "name": "stderr",
     "text": [
      "Looping through polynomials up to 12 degrees with 100 bootstraps: 100%|██████████| 12/12 [00:07<00:00,  1.68it/s]\n"
     ]
    },
    {
     "output_type": "display_data",
     "data": {
      "image/png": "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",
      "text/plain": [
       "<Figure size 432x288 with 1 Axes>"
      ]
     },
     "metadata": {
      "needs_background": "light"
     }
    },
    {
     "output_type": "stream",
     "name": "stderr",
     "text": [
      "c:\\Users\\andre\\Dropbox\\FYS-STK4155_projects\\FYS-STK4155 - Project1\\FYS-STK4155-Prj1_report\\code\\common.py:79: RuntimeWarning: invalid value encountered in sqrt\n",
      "  return np.sqrt(var_hat * invXTX_diag)\n"
     ]
    },
    {
     "output_type": "error",
     "ename": "ValueError",
     "evalue": "too many values to unpack (expected 2)",
     "traceback": [
      "\u001b[1;31m---------------------------------------------------------------------------\u001b[0m",
      "\u001b[1;31mValueError\u001b[0m                                Traceback (most recent call last)",
      "\u001b[1;32m~\\AppData\\Local\\Temp/ipykernel_35380/339070401.py\u001b[0m in \u001b[0;36m<module>\u001b[1;34m\u001b[0m\n\u001b[0;32m     47\u001b[0m     \u001b[0mplt\u001b[0m\u001b[1;33m.\u001b[0m\u001b[0mshow\u001b[0m\u001b[1;33m(\u001b[0m\u001b[1;33m)\u001b[0m\u001b[1;33m\u001b[0m\u001b[1;33m\u001b[0m\u001b[0m\n\u001b[0;32m     48\u001b[0m \u001b[1;33m\u001b[0m\u001b[0m\n\u001b[1;32m---> 49\u001b[1;33m     \u001b[0msummary_df\u001b[0m\u001b[1;33m,\u001b[0m \u001b[0m_\u001b[0m \u001b[1;33m=\u001b[0m \u001b[0mmodel\u001b[0m\u001b[1;33m.\u001b[0m\u001b[0msummary\u001b[0m\u001b[1;33m(\u001b[0m\u001b[1;33m)\u001b[0m\u001b[1;33m\u001b[0m\u001b[1;33m\u001b[0m\u001b[0m\n\u001b[0m\u001b[0;32m     50\u001b[0m     \u001b[0mCI_lower_betas\u001b[0m \u001b[1;33m=\u001b[0m \u001b[0msummary_df\u001b[0m\u001b[1;33m[\u001b[0m\u001b[1;34m\"CI lower\"\u001b[0m\u001b[1;33m]\u001b[0m\u001b[1;33m\u001b[0m\u001b[1;33m\u001b[0m\u001b[0m\n\u001b[0;32m     51\u001b[0m     \u001b[0mCI_upper_betas\u001b[0m \u001b[1;33m=\u001b[0m \u001b[0msummary_df\u001b[0m\u001b[1;33m[\u001b[0m\u001b[1;34m\"CI upper\"\u001b[0m\u001b[1;33m]\u001b[0m\u001b[1;33m\u001b[0m\u001b[1;33m\u001b[0m\u001b[0m\n",
      "\u001b[1;31mValueError\u001b[0m: too many values to unpack (expected 2)"
     ]
    }
   ],
   "metadata": {}
  },
  {
   "cell_type": "markdown",
   "source": [
    "## Ploting beta error for different lambda values for the most optimal degree"
   ],
   "metadata": {}
  },
  {
   "cell_type": "code",
   "execution_count": null,
   "source": [
    "optimal_degree = 4\n",
    "min_lambda = -4 \n",
    "max_lambda = 4 \n",
    "nbf_lambdas = 20\n",
    "lambdas = np.logspace(min_lambda,max_lambda, nbf_lambdas)\n",
    "summaries_df = pd.DataFrame()\n",
    "\n",
    "for lmb in lambdas:\n",
    "    #MSE_test = np.zeros(maxdegree)\n",
    "    #MSE_train = np.zeros(maxdegree)\n",
    "    #polydegree = np.arange(maxdegree)\n",
    "    #bias = np.zeros(maxdegree)\n",
    "    #variance = np.zeros(maxdegree)\n",
    "\n",
    "    X = create_X(x, y, n=optimal_degree)\n",
    "    X_train, X_test, z_train, z_test = prepare_data(X, z_flat, test_size=0.2, shuffle=True, scale_X=True, scale_t=True, random_state=SEED_VALUE)\n",
    "    model =  RidgeRegression(lambda_val=lmb)\n",
    "    z_hat_train = model.fit(X_train, z_train, SVDfit=False, keep_intercept=False)        \n",
    "    summary_df = model.summary()\n",
    "    summaries_df = pd.concat([summaries_df,summary_df], axis=0)\n",
    "    \n",
    "fig = plot_beta_errors_for_lambdas(summaries_df, optimal_degree)\n",
    "fig.savefig(f\"{REPORT_FIGURES}{EX6_4}Ridge_beta_SE_for_lambdas.pdf\")\n",
    "\n",
    "fig = plot_beta_CI_for_lambdas(summaries_df, optimal_degree)\n",
    "fig.savefig(f\"{REPORT_FIGURES}{EX6_4}Ridge_beta_CI_for_lambdas.pdf\")"
   ],
   "outputs": [],
   "metadata": {}
  },
  {
   "cell_type": "markdown",
   "source": [
    "## 6.4.4 Ridge regression - finding optimal lambda using cross-validation"
   ],
   "metadata": {}
  },
  {
   "cell_type": "code",
   "execution_count": null,
   "source": [],
   "outputs": [],
   "metadata": {}
  },
  {
   "cell_type": "markdown",
   "source": [
    "## 6.4.5 Ridge regression - bias-variance trade-off using bootstrap"
   ],
   "metadata": {}
  },
  {
   "cell_type": "code",
   "execution_count": null,
   "source": [],
   "outputs": [],
   "metadata": {}
  },
  {
   "cell_type": "markdown",
   "source": [
    "# 6.5. Lasso Regression on the Franke function with resampling (Exercise5)"
   ],
   "metadata": {}
  },
  {
   "cell_type": "markdown",
   "source": [
    "## 6.5.1 Lasso"
   ],
   "metadata": {}
  },
  {
   "cell_type": "markdown",
   "source": [
    "# Tests of dimensions image reduction and patches"
   ],
   "metadata": {}
  },
  {
   "cell_type": "code",
   "execution_count": null,
   "source": [
    "i = 1\n",
    "value = 720\n",
    "while True:\n",
    "    i += 1\n",
    "    if((value % i)==0):\n",
    "        print(f\"value:{value / i} at i:{i}\")\n",
    "    if(i>=value):\n",
    "        break"
   ],
   "outputs": [],
   "metadata": {}
  },
  {
   "cell_type": "code",
   "execution_count": null,
   "source": [
    "i = 1\n",
    "value = 360\n",
    "while True:\n",
    "    i += 1\n",
    "    if((value % i)==0):\n",
    "        print(f\"value:{value / i} at i:{i}\")\n",
    "    if(i>=value):\n",
    "        break"
   ],
   "outputs": [],
   "metadata": {}
  }
 ],
 "metadata": {
  "orig_nbformat": 4,
  "language_info": {
   "name": "python",
   "version": "3.9.7",
   "mimetype": "text/x-python",
   "codemirror_mode": {
    "name": "ipython",
    "version": 3
   },
   "pygments_lexer": "ipython3",
   "nbconvert_exporter": "python",
   "file_extension": ".py"
  },
  "kernelspec": {
   "name": "python3",
   "display_name": "Python 3.9.7 64-bit"
  },
  "interpreter": {
   "hash": "e7370f93d1d0cde622a1f8e1c04877d8463912d04d973331ad4851f04de6915a"
  }
 },
 "nbformat": 4,
 "nbformat_minor": 2
}