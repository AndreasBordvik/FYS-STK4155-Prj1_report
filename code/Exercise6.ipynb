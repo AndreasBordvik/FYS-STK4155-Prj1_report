{
 "cells": [
  {
   "cell_type": "markdown",
   "source": [
    "# Exercise 6: Analysis of real data  (score 30 points)\n"
   ],
   "metadata": {}
  },
  {
   "cell_type": "code",
   "execution_count": null,
   "source": [
    "import numpy as np\r\n",
    "import pandas as pd\r\n",
    "import seaborn as sns\r\n",
    "from imageio import imread\r\n",
    "import matplotlib.pyplot as plt\r\n",
    "from mpl_toolkits.mplot3d import Axes3D\r\n",
    "from matplotlib import cm\r\n",
    "import seaborn as sns\r\n",
    "import os\r\n",
    "from common import *\r\n",
    "import cv2\r\n",
    "from sklearn.model_selection import cross_val_score\r\n",
    "from sklearn import linear_model as sk\r\n",
    "#from mpl_toolkits.mplot3d import Axes3D\r\n",
    "#from sklearn.linear_model import Lasso, Ridge, LinearRegression\r\n",
    "from sklearn import linear_model as lm\r\n",
    "\r\n",
    "from sklearn.preprocessing import MinMaxScaler\r\n",
    "from typing import Tuple\r\n",
    "\r\n",
    "\r\n",
    "print(f\"Root directory: {os.getcwd()}\")\r\n",
    "\r\n",
    "plt.rcParams.update({\r\n",
    "    \"text.usetex\": True,\r\n",
    "    \"font.family\": \"serif\",\r\n",
    "    \"font.serif\": [\"Palatino\"],\r\n",
    "    \"font.size\": 10,\r\n",
    "})\r\n",
    "\r\n",
    "#%matplotlib"
   ],
   "outputs": [],
   "metadata": {}
  },
  {
   "cell_type": "markdown",
   "source": [
    "# Global variables"
   ],
   "metadata": {}
  },
  {
   "cell_type": "code",
   "execution_count": null,
   "source": [
    "SEED_VALUE = 4155\r\n",
    "np.random.seed(SEED_VALUE) # Random seed to guarantee reproducibility\r\n"
   ],
   "outputs": [],
   "metadata": {}
  },
  {
   "cell_type": "markdown",
   "source": [
    "# Reading and plotting terrain data"
   ],
   "metadata": {}
  },
  {
   "cell_type": "code",
   "execution_count": null,
   "source": [
    "# Load the terrain\r\n",
    "terrain1_file = \"SRTM_data_Norway_1.tif\"\r\n",
    "terrain2_file = \"SRTM_data_Norway_2.tif\"\r\n",
    "terrain1 =  imread(f'{INPUT_DATA}{terrain1_file}')\r\n",
    "terrain2 = imread(f'{INPUT_DATA}{terrain2_file}')\r\n",
    "\r\n",
    "# Plotting terrain\r\n",
    "fig, (ax1, ax2) = plt.subplots(1, 2)\r\n",
    "ax1.title.set_text(\"Terrain over Norway 1\")\r\n",
    "ax1.set_xlabel(\"X\"); ax1.set_ylabel(\"Y\")\r\n",
    "surf1 = ax1.imshow(terrain1, cmap='gray')\r\n",
    "ax2.title.set_text(\"Terrain over Norway 2\")\r\n",
    "ax2.set_xlabel(\"X\"); ax2.set_ylabel(\"Y\")\r\n",
    "surf2 = ax2.imshow(terrain2, cmap='gray')\r\n",
    "plt.savefig(f\"{REPORT_FIGURES}{EX6}terrain_data.pdf\")\r\n",
    "plt.show()\r\n",
    "print(terrain1.shape)"
   ],
   "outputs": [],
   "metadata": {}
  },
  {
   "cell_type": "markdown",
   "source": [],
   "metadata": {}
  },
  {
   "cell_type": "markdown",
   "source": [
    "## Thoughts on the topographical data\n",
    "Before we proceed with this exercise, we want to briefly discuss the nature of this terrain data compared to the generated frank function. We regard the franke function as generic because it is known and its behavior or shape can be generated for other values of x and y. Thus, creating a model that can generalize the function even with added noise for other unknown data points for x and y makes sense. However, we are uncertain if this idea of generalization is transferable to topographical terrain data in the same sense. The terrain data given is unique, and its shape cannot be generalized for unknown data points. If the purpose is to create the absolute best fit for the specific and unique terrain data, one could simply overfit to the terrain data by having an extremely high degree when fitting a model, and that is not really ML. One could probably argue that a model should tackle added noise on the terrain data and still be able to represent the shapes and contours incorporated in the image. However, images are what they are, and in this case, the topographical terrain \"is what it is.\"  With that being said, we proceed with this exercise in the same spirit as done for exercises 1-5 even though we question this use case when working on this kind of real data."
   ],
   "metadata": {}
  },
  {
   "cell_type": "markdown",
   "source": [
    "# 6.0. Terrain data - Preprocessing and transformation\r\n",
    "Least Square regression is not designed to tackle images directly. Thus, we must first transform the terrain data by slicing it into several bits and pieces. "
   ],
   "metadata": {}
  },
  {
   "cell_type": "markdown",
   "source": [
    "## 6.0.1 Resizeing the terrain image\r\n",
    "For computational purpose, we resize the terrain image to have a resonable amount of datapoints for our least sqaure models."
   ],
   "metadata": {}
  },
  {
   "cell_type": "code",
   "execution_count": null,
   "source": [
    "rescale_factor = 0.1\r\n",
    "ySize = int(terrain1.shape[0] * rescale_factor); print(ySize)\r\n",
    "xSize = int(terrain1.shape[1] * rescale_factor); print(xSize)\r\n",
    "terrain1Resized = cv2.resize(terrain1, (xSize, ySize))\r\n",
    "terrain2Resized = cv2.resize(terrain2, (xSize, ySize))\r\n",
    "\r\n",
    "# Plotting terrain\r\n",
    "fig, (ax1, ax2) = plt.subplots(1, 2)\r\n",
    "ax1.title.set_text(\"Terrain over Norway 1 (Resized)\")\r\n",
    "ax1.set_xlabel(\"X\"); ax1.set_ylabel(\"Y\")\r\n",
    "surf1 = ax1.imshow(terrain1Resized, cmap='gray')\r\n",
    "ax2.title.set_text(\"Terrain over Norway 2 (Resized)\")\r\n",
    "ax2.set_xlabel(\"X\"); ax2.set_ylabel(\"Y\")\r\n",
    "surf2 = ax2.imshow(terrain2Resized, cmap='gray')\r\n",
    "plt.savefig(f\"{REPORT_FIGURES}{EX6}terrain_data_resized.pdf\")\r\n",
    "plt.show()\r\n",
    "print(terrain1[0,0])"
   ],
   "outputs": [],
   "metadata": {}
  },
  {
   "cell_type": "markdown",
   "source": [
    "## 6.0.2 Creating image patches and Terrain data selection"
   ],
   "metadata": {}
  },
  {
   "cell_type": "markdown",
   "source": [
    "## Methods"
   ],
   "metadata": {}
  },
  {
   "cell_type": "code",
   "execution_count": null,
   "source": [
    "def create_img_patches(img, ySteps, xSteps):\r\n",
    "    patches = []\r\n",
    "    for y in range(0,img.shape[0], ySteps):\r\n",
    "        for x in range(0,img.shape[1], xSteps):\r\n",
    "            y_from = y; \r\n",
    "            y_to = y+ySteps; \r\n",
    "            x_from = x; \r\n",
    "            x_to = x+xSteps; \r\n",
    "            img_patch = img[y_from:y_to, x_from:x_to]        \r\n",
    "            patches.append(img_patch)\r\n",
    "\r\n",
    "    return patches\r\n",
    "\r\n",
    "def patches_to_img(patches, ySteps, xSteps, nYpatches, nXpatches, plotImage=False):\r\n",
    "    img = np.zeros((ySteps*nYpatches, xSteps*nXpatches))\r\n",
    "    i = 0\r\n",
    "    for y in range(0,img.shape[0], ySteps):\r\n",
    "        for x in range(0,img.shape[1], xSteps):\r\n",
    "            y_from = y; \r\n",
    "            y_to = y+ySteps; \r\n",
    "            x_from = x; \r\n",
    "            x_to = x+xSteps; \r\n",
    "            img[y_from:y_to, x_from:x_to] = patches[i]         \r\n",
    "            i += 1\r\n",
    "    \r\n",
    "    if plotImage:\r\n",
    "        plt.imshow(img, cmap='gray')\r\n",
    "        plt.title(\"Reconstructed img\")\r\n",
    "        plt.show()\r\n",
    "    return img\r\n",
    "\r\n",
    "def plotTerrainPatches(patches, nYpatches, nXpatches, plotTitle=\"Terrain patches\"):\r\n",
    "    # Plotting terrain patches\r\n",
    "    fig, ax = plt.subplots(nYpatches, nXpatches,figsize=(4,10))\r\n",
    "    i=0\r\n",
    "    for y in range(nYpatches):\r\n",
    "        for x in range(nXpatches):\r\n",
    "            ax[y,x].title.set_text(f\"Patch{i}\")\r\n",
    "            ax[y,x].set_xlabel(\"X\"); ax1.set_ylabel(\"Y\")\r\n",
    "            ax[y,x].imshow(patches[i], cmap='gray')\r\n",
    "            i+=1\r\n",
    "    \r\n",
    "    fig.suptitle(f\"{plotTitle}\") # or plt.suptitle('Main title')\r\n",
    "    plt.tight_layout()\r\n",
    "    plt.savefig(f\"{REPORT_FIGURES}{EX6}{plotTitle}.pdf\")\r\n",
    "    plt.show()\r\n",
    "\r\n",
    "def createTerrainData(terrain, includeMeshgrid=True):\r\n",
    "    z = np.array(terrain) \r\n",
    "    x = np.arange(0, z.shape[1])\r\n",
    "    y = np.arange(0, z.shape[0])\r\n",
    "    if includeMeshgrid:\r\n",
    "        x, y = np.meshgrid(x,y)\r\n",
    "    return x,y,z\r\n"
   ],
   "outputs": [],
   "metadata": {}
  },
  {
   "cell_type": "code",
   "execution_count": null,
   "source": [
    "nXpatches = 3; nYpatches=6\r\n",
    "y_steps = int(terrain2Resized.shape[0] / nYpatches); print(y_steps)\r\n",
    "x_steps = int(terrain2Resized.shape[1] / nXpatches); print(x_steps)\r\n",
    "\r\n",
    "patches_1 = create_img_patches(terrain1Resized, y_steps, x_steps)\r\n",
    "plotTerrainPatches(patches_1, nYpatches, nXpatches, plotTitle=\"Terrain1 patches\")\r\n",
    "\r\n",
    "patches_2 = create_img_patches(terrain2Resized, y_steps, x_steps)\r\n",
    "plotTerrainPatches(patches_2, nYpatches, nXpatches, plotTitle=\"Terrain2 patches\")\r\n",
    "\r\n",
    "# test\r\n",
    "#img_reconstructed = patches_to_img(patches, y_steps, x_steps, nYpatches, nXpatches, plotImage=True)\r\n"
   ],
   "outputs": [],
   "metadata": {}
  },
  {
   "cell_type": "markdown",
   "source": [
    "## 6.0.3 Choosing of terrain patch and data creation\r\n",
    "We look at the terrain data patches and choose which to create a fit for"
   ],
   "metadata": {}
  },
  {
   "cell_type": "code",
   "execution_count": null,
   "source": [
    "img1 = patches_1[2]\r\n",
    "img2 = patches_2[5]\r\n",
    "x1, y1, z1 = createTerrainData(img1)\r\n",
    "x2, y2, z2 = createTerrainData(img2)"
   ],
   "outputs": [],
   "metadata": {}
  },
  {
   "cell_type": "code",
   "execution_count": null,
   "source": [
    "scaler1 = MinMaxScaler()\r\n",
    "scaler1.fit(img1)\r\n",
    "img1_normalized = scaler1.transform(img1)\r\n",
    "norm_var1 = np.round(np.var(img1_normalized),decimals=4)\r\n",
    "\r\n",
    "scaler2 = MinMaxScaler()\r\n",
    "scaler2.fit(img2)\r\n",
    "img2_normalized = scaler1.transform(img2)\r\n",
    "norm_var2 = np.round(np.var(img2_normalized),decimals=4)\r\n",
    "\r\n",
    "# 2D plot of the terrain patches\r\n",
    "fig, (ax1, ax2) = plt.subplots(1, 2)\r\n",
    "ax1.title.set_text(f\"Terrain patch from terrain1\\nMean:\\\r\n",
    "{np.round(np.mean(img1),decimals=1)}\\nVariance: {np.round(np.var(img1),decimals=1)}\\n\\\r\n",
    "normalized variance: {norm_var1}\")\r\n",
    "ax1.set_xlabel(\"X\"); ax1.set_ylabel(\"Y\")\r\n",
    "surf1 = ax1.imshow(img1, cmap='gray')\r\n",
    "\r\n",
    "ax2.title.set_text(F\"Terrain patch from terrain2\\nMean:\\\r\n",
    "{np.round(np.mean(img2),decimals=1)}\\nVariance: {np.round(np.var(img2),decimals=1)}\\n\\\r\n",
    "normalized variance: {norm_var2}\")\r\n",
    "ax2.set_xlabel(\"X\"); ax2.set_ylabel(\"Y\")\r\n",
    "surf2 = ax2.imshow(img2, cmap='gray')\r\n",
    "plt.savefig(f\"{REPORT_FIGURES}{EX6}terrain_patch_to_fit_2D.pdf\")\r\n",
    "plt.show()\r\n",
    "\r\n",
    "# 3D plot of the terrain patches\r\n",
    "fig = plt.figure()\r\n",
    "ax1 = fig.add_subplot(1,2,1, projection='3d')\r\n",
    "ax1.title.set_text(f\"3D plot of terrain1 patch\")\r\n",
    "ax1.set_xlabel(\"x\"); ax1.set_ylabel(\"y\"); ax1.set_zlabel(\"z\")\r\n",
    "#ax1.view_init(elev=60., azim=-120.0-70)\r\n",
    "#ax1.view_init(elev=-60., azim=-120.0+30)\r\n",
    "ax1.view_init(elev=-75., azim=-91)\r\n",
    "ax1.plot_surface(x1, y1, z1, cmap=cm.coolwarm, linewidth = 0, antialiased=False)\r\n",
    "\r\n",
    "ax2 = fig.add_subplot(1,2,2, projection='3d')\r\n",
    "ax2.title.set_text(\"3D plot of terrain2 patch\")\r\n",
    "ax2.set_xlabel(\"x\"); ax2.set_ylabel(\"y\"); ax2.set_zlabel(\"z\")\r\n",
    "#ax2.view_init(elev=60., azim=-120.0)\r\n",
    "ax2.view_init(elev=-45., azim=-85.0)\r\n",
    "ax2.plot_surface(x2, y2, z2, cmap=cm.coolwarm, linewidth = 0, antialiased=False)\r\n",
    "plt.savefig(f\"{REPORT_FIGURES}{EX6}terrain_patch_to_fit_3D.pdf\")\r\n",
    "plt.show()\r\n"
   ],
   "outputs": [],
   "metadata": {}
  },
  {
   "cell_type": "markdown",
   "source": [
    "## 6.0.4 Base input data for all exercises\r\n",
    "We construct the data for least square regression based on preprocessed data. We also set up variables that will be used throughout the exercise.<br>\r\n",
    "Terrain patch from terrain 1 is used as input for our models and our tests "
   ],
   "metadata": {}
  },
  {
   "cell_type": "code",
   "execution_count": null,
   "source": [
    "terrain_data = 1\r\n",
    "\r\n",
    "if terrain_data == 1: # Choosing terrain1*\r\n",
    "    x, y, z = x1, y1, z1.copy() \r\n",
    "    #z_min = np.min(z)\r\n",
    "    z_max = np.max(z)\r\n",
    "    z = z1\r\n",
    "\r\n",
    "elif terrain_data == 2: # Choosing terrain2\r\n",
    "    x, y, z = x2, y2, z2.copy() \r\n",
    "    #z_min = np.min(z)\r\n",
    "    z_max = np.max(z)\r\n",
    "    z = z2\r\n",
    "    \r\n",
    "z_flat = z.ravel(); z_flat = z_flat.reshape(-1,1)"
   ],
   "outputs": [],
   "metadata": {}
  },
  {
   "cell_type": "markdown",
   "source": [
    "# 6.1 OLS on data (Exercise1)"
   ],
   "metadata": {}
  },
  {
   "cell_type": "markdown",
   "source": [
    "## Running OLS fit on the data as done in EX1 \r\n",
    "Note that we exlude the calculation of CL for betas, since it is emedded within the model itself. See common.py for that code"
   ],
   "metadata": {}
  },
  {
   "cell_type": "code",
   "execution_count": null,
   "source": [
    "np.random.seed(SEED_VALUE) \r\n",
    "z_train_OLS = pd.DataFrame()\r\n",
    "z_hat_train_OLS = pd.DataFrame()\r\n",
    "z_test_OLS = pd.DataFrame()\r\n",
    "z_hat_test_OLS = pd.DataFrame()\r\n",
    "X_test_OLS = {}\r\n",
    "df = pd.DataFrame()\r\n",
    "\r\n",
    "degrees = 44\r\n",
    "scale_X = True\r\n",
    "scale_z = True\r\n",
    "test_size = 0.2\r\n",
    "fitted_models = []\r\n",
    "for degree in range(1, degrees+1):\r\n",
    "    print(f\"Running OLS fitting on degree{degree}\")\r\n",
    "    X = create_X(x, y, degree) # Design Matrix\r\n",
    "\r\n",
    "    # Scaling data and splitting it into training and test sets\r\n",
    "    if scale_X:\r\n",
    "        if scale_z:\r\n",
    "            X_train, X_test, z_train, z_test = prepare_data(X, z_flat, test_size=test_size, shuffle=True, scale_X=True, scale_t=True, random_state=SEED_VALUE)\r\n",
    "        else:\r\n",
    "            X_train, X_test, z_train, z_test = prepare_data(X, z_flat, test_size=test_size, shuffle=True, scale_X=True, scale_t=False, random_state=SEED_VALUE)\r\n",
    "    else:\r\n",
    "         X_train, X_test, z_train, z_test = prepare_data(X, z_flat, test_size=test_size, shuffle=True, scale_X=False, scale_t=False, random_state=SEED_VALUE)\r\n",
    "    \r\n",
    "    #print(X_train[:, 0:1])\r\n",
    "    # Model construction, fitting, and predictions\r\n",
    "    model = OLS(degree=degree) # The model\r\n",
    "    z_hat_train = model.fit(X_train, z_train) # Fitting the model and predict on training data\r\n",
    "    z_hat_test = model.predict(X_test) # predict on test data\r\n",
    "    \r\n",
    "    # Evaluatation metrics\r\n",
    "    MSE_score_train = MSE(z_train, z_hat_train)\r\n",
    "    R2_score_train = R2(z_train, z_hat_train)\r\n",
    "    MSE_score_test = MSE(z_test, z_hat_test)\r\n",
    "    R2_score_test = R2(z_test, z_hat_test)\r\n",
    "            \r\n",
    "    # Filling up dataframes for train and test evaluation\r\n",
    "    summary_df = model.summary()\r\n",
    "    df = pd.concat([df,summary_df], axis=0)\r\n",
    "\r\n",
    "    z_train_OLS[degree] = z_train.flatten()\r\n",
    "    z_hat_train_OLS[degree] = z_hat_train.flatten()\r\n",
    "    z_test_OLS[degree] = z_test.flatten()\r\n",
    "    z_hat_test_OLS[degree] = z_hat_test.flatten()\r\n",
    "    X_test_OLS[f\"{degree}\"] = X_test\r\n",
    "\r\n",
    "    # Storing data for all degrees\r\n",
    "    results = {\"X_train\":X_train, \"X_test\":X_test,\"z_train\":z_train, \"z_test\":z_test,\r\n",
    "               \"z_hat_train\":z_hat_train, \"z_hat_test\":z_hat_test, \"model\":model, \"summary\":summary_df}\r\n",
    "    #OLSrun.append(results)\r\n",
    "    fitted_models.append(model)\r\n",
    "\r\n",
    "# MSE calculations for all degrees\r\n",
    "mse_scores_train = ((z_train_OLS - z_hat_train_OLS) ** 2).mean()\r\n",
    "mse_scores_test = ((z_test_OLS - z_hat_test_OLS) ** 2).mean()\r\n",
    "# R2 calculations for all degrees\r\n",
    "R2_scores_train = 1 - ((z_train_OLS - z_hat_train_OLS) ** 2).sum() / ((z_train_OLS - z_train_OLS.mean())**2).sum() \r\n",
    "R2_scores_test = 1 - ((z_test_OLS - z_hat_test_OLS) ** 2).sum() / ((z_test_OLS - z_test_OLS.mean())**2).sum()\r\n",
    "\r\n",
    "# Plotting performance of OLS for different degrees\r\n",
    "plt.figure(figsize=(10,6))\r\n",
    "plt.plot(np.arange(1,degrees+1), mse_scores_test,\"m\", label=f'MSE on test (test fraction:{test_size})')\r\n",
    "plt.plot(np.arange(1,degrees+1), mse_scores_train,\"c\", label='MSE on train')\r\n",
    "plt.plot(np.arange(1,degrees+1), R2_scores_test, label=f'R2 on test (test fraction:{test_size})')\r\n",
    "plt.plot(np.arange(1,degrees+1), R2_scores_train, label='R2 on train')\r\n",
    "plt.xlabel(\"Model complexity / Polynomial Degree\")\r\n",
    "plt.ylabel(\"Prediction Error - MSE\")\r\n",
    "plt.xticks(np.arange(1,degrees+1))\r\n",
    "plt.grid(True)\r\n",
    "plt.legend()\r\n",
    "plt.title(\"Exercise 6.1 - Model evaluation\")\r\n",
    "plt.savefig(f\"{REPORT_FIGURES}{EX6_1}OLS_evaluattion.pdf\")\r\n",
    "plt.show()"
   ],
   "outputs": [],
   "metadata": {}
  },
  {
   "cell_type": "markdown",
   "source": [
    "## Looking at $\\beta$ values"
   ],
   "metadata": {}
  },
  {
   "cell_type": "code",
   "execution_count": null,
   "source": [
    "optimal_degree = 5\r\n",
    "df_degree = df[df[\"degree\"] == optimal_degree]\r\n",
    "print(\"df_degree.shape:\",df_degree.shape)\r\n",
    "display(df_degree)\r\n",
    "df_degree.to_csv(f\"{REPORT_DATA}{EX6_1}OLS_beta_error_degree{optimal_degree}.csv\")\r\n",
    "\r\n",
    "fig = plot_beta_errors(df_degree, optimal_degree)\r\n",
    "fig.savefig(f\"{REPORT_FIGURES}{EX6_1}OLS_beta_error_degree{optimal_degree}.pdf\")\r\n",
    "plt.show()"
   ],
   "outputs": [],
   "metadata": {}
  },
  {
   "cell_type": "markdown",
   "source": [
    "## Plotting predicted terrain using fitted degrees"
   ],
   "metadata": {}
  },
  {
   "cell_type": "code",
   "execution_count": null,
   "source": [
    "degrees_insight = [4,5,17]\r\n",
    "z_hats = [z]\r\n",
    "for deg in degrees_insight:\r\n",
    "    X = create_X(x, y, deg) # Design Matrix \r\n",
    "    X = remove_intercept(X)\r\n",
    "    X_scaled, _ = standard_scaling_single(X)\r\n",
    "    z_scaled, z_scaler = standard_scaling_single(z.ravel().reshape(-1,1))\r\n",
    "         \r\n",
    "    # Using fitted model to predict the terrain patch \r\n",
    "    model = fitted_models[deg-1]\r\n",
    "    z_hat = model.predict(X_scaled)\r\n",
    "\r\n",
    "    z_hat = z_scaler.inverse_transform(z_hat)\r\n",
    "    #print(z_hat.shape)\r\n",
    "    z_hat = z_hat.reshape((y_steps,x_steps))\r\n",
    "    z_hats.append(z_hat)\r\n",
    "z_hats = np.array(z_hats)\r\n",
    "\r\n",
    "# 2D plot of predicted terrain patches\r\n",
    "fig = plt.figure(figsize=(7,16))\r\n",
    "j = 0\r\n",
    "for i in range(z_hats.shape[0]):\r\n",
    "    ax = fig.add_subplot(z_hats.shape[0],2,1+i)\r\n",
    "    title = f\"Predicted terrain\\n(OLS degree {degrees_insight[j]})\" if i>0 else \"Target terrain\"\r\n",
    "    ax.title.set_text(f\"{title}\\nMean:\\\r\n",
    "    {np.round(np.mean(z_hats[i]),decimals=1)}\\nVariance: {np.round(np.var(z_hats[i]),decimals=1)}\")\r\n",
    "    \r\n",
    "    ax.set_xlabel(\"x\"); ax.set_ylabel(\"y\")\r\n",
    "    surf2 = ax.imshow(z_hats[i], cmap='gray')\r\n",
    "    j+=1 if i > 0 else j\r\n",
    "\r\n",
    "plt.suptitle(\"Exercise 6.1 - 2D plot of Terrain\")\r\n",
    "plt.tight_layout()\r\n",
    "plt.savefig(f\"{REPORT_FIGURES}{EX6_1}target_terrain_and_OLS_prediction_2D.pdf\")\r\n",
    "plt.show()\r\n",
    "\r\n",
    "\r\n",
    "# 3D plot of predicted terrain patches\r\n",
    "fig = plt.figure(figsize=(7,16))\r\n",
    "j = 0\r\n",
    "for i in range(z_hats.shape[0]):\r\n",
    "    ax = fig.add_subplot(z_hats.shape[0],2,1+i, projection='3d')\r\n",
    "    title = f\"Predicted terrain\\n(OLS degree {degrees_insight[j]})\" if i>0 else \"Target terrain\"\r\n",
    "    ax.title.set_text(title)\r\n",
    "    ax.set_xlabel(\"x\"); ax.set_ylabel(\"y\"); ax.set_zlabel(\"z\")\r\n",
    "    #ax2.view_init(elev=60., azim=-120.0-70)\r\n",
    "    ax.view_init(elev=-75., azim=-91)\r\n",
    "    ax.plot_surface(x, y, z_hats[i], cmap=cm.coolwarm, linewidth = 0, antialiased=False)\r\n",
    "    j+=1 if i > 0 else j\r\n",
    "\r\n",
    "plt.suptitle(\"Exercise 6.1 - 3D plot of Terrain\")\r\n",
    "plt.tight_layout()\r\n",
    "plt.savefig(f\"{REPORT_FIGURES}{EX6_1}target_terrain_and_OLS_prediction_3D.pdf\")\r\n",
    "plt.show()"
   ],
   "outputs": [],
   "metadata": {}
  },
  {
   "cell_type": "markdown",
   "source": [
    "### Comments on the OLS fit to terrain data:\r\n",
    "We scale the data since x, y, z is they are not between 0 to 1. Degree of 4 seems to yeild the best performance when fitting to the choosen terrain data."
   ],
   "metadata": {}
  },
  {
   "cell_type": "markdown",
   "source": [
    "# TODO:\r\n",
    "#### This text may have to be adjusted\r\n",
    "A degree of 4 or 5 seems to give a smooth surface for all the predicted patches. We find that the distortion and noise increase in the predicted image when the degree increases above 4-5 considering all patches. At higher degrees, some artifacts within the predicted patches also appear. In the predicted image with all patches, one can see some of the contours of the topographic structures in the image we try to approximate. However, the predicted image that is reconstructed from all the predicted patches is not very accurate. The task of this kind of problem is too complex for an OLS to manage. It may be that having smaller patches would increase the accuracy in reproducing the details incorporated in the input image. "
   ],
   "metadata": {}
  },
  {
   "cell_type": "markdown",
   "source": [
    "# 6.2 Bias-variance trade-off and resampling techniques on terrain data (Exercise2)"
   ],
   "metadata": {}
  },
  {
   "cell_type": "markdown",
   "source": [
    "## 6.2.1 Exercise 2"
   ],
   "metadata": {}
  },
  {
   "cell_type": "code",
   "execution_count": null,
   "source": [],
   "outputs": [],
   "metadata": {}
  },
  {
   "cell_type": "markdown",
   "source": [
    "# 6.3 Cross-validation as resampling techniques, adding more complexity (Exercise3)"
   ],
   "metadata": {}
  },
  {
   "cell_type": "markdown",
   "source": [
    "## 6.4.1 Exercise 3"
   ],
   "metadata": {}
  },
  {
   "cell_type": "code",
   "execution_count": null,
   "source": [],
   "outputs": [],
   "metadata": {}
  },
  {
   "cell_type": "markdown",
   "source": [
    "# 6.4 Ridge Regression on the Franke function with resampling (Exercise4)"
   ],
   "metadata": {}
  },
  {
   "cell_type": "markdown",
   "source": [
    "## 6.4.1 Exercise 4"
   ],
   "metadata": {}
  },
  {
   "cell_type": "code",
   "execution_count": null,
   "source": [],
   "outputs": [],
   "metadata": {}
  },
  {
   "cell_type": "markdown",
   "source": [
    "# 6.5. Lasso Regression on the Franke function with resampling (Exercise5)"
   ],
   "metadata": {}
  },
  {
   "cell_type": "markdown",
   "source": [
    "## 6.5.1 Exercise 5"
   ],
   "metadata": {}
  },
  {
   "cell_type": "code",
   "execution_count": null,
   "source": [],
   "outputs": [],
   "metadata": {}
  },
  {
   "cell_type": "markdown",
   "source": [
    "# 6.6 Extras"
   ],
   "metadata": {}
  },
  {
   "cell_type": "code",
   "execution_count": null,
   "source": [
    "# This cell is used to evaluate best degree for all patches\r\n",
    "n_xpatches = 9; n_ypatches=18\r\n",
    "y_steps = int(terrain1Resized.shape[0] / n_ypatches); print(y_steps)\r\n",
    "x_steps = int(terrain1Resized.shape[1] / n_xpatches); print(x_steps)\r\n",
    "\r\n",
    "patches_1_test = create_img_patches(terrain1Resized, y_steps, x_steps)\r\n",
    "#plotTerrainPatches(patches_1_test, n_ypatches, n_xpatches, plotTitle=\"Terrain1 patches\")\r\n",
    "\r\n",
    "\r\n",
    "\r\n",
    "np.random.seed(SEED_VALUE) \r\n",
    "z_flat = z.ravel(); z_flat = z_flat.reshape(-1,1)\r\n",
    "z_train_OLS = pd.DataFrame()\r\n",
    "z_hat_train_OLS = pd.DataFrame()\r\n",
    "z_test_OLS = pd.DataFrame()\r\n",
    "z_hat_test_OLS = pd.DataFrame()\r\n",
    "X_test_OLS = {}\r\n",
    "df = pd.DataFrame()\r\n",
    "\r\n",
    "degrees = 22\r\n",
    "scale_X = True\r\n",
    "scale_z = True\r\n",
    "test_size = 0.2\r\n",
    "fitted_models = []\r\n",
    "plot = False\r\n",
    "for patch in patches_1_test:\r\n",
    "    for degree in range(1, degrees+1):\r\n",
    "        #print(f\"Running OLS fitting on degree{degree}\")\r\n",
    "        xpatch, ypatch, zpatch = createTerrainData(patch)\r\n",
    "        zpatch = zpatch.ravel().reshape(-1,1)\r\n",
    "\r\n",
    "        X = create_X(xpatch, ypatch, degree) # Design Matrix\r\n",
    "\r\n",
    "        # Scaling data and splitting it into training and test sets\r\n",
    "        if scale_X:\r\n",
    "            if scale_z:\r\n",
    "                X_train, X_test, z_train, z_test = prepare_data(X, zpatch, test_size=test_size, shuffle=True, scale_X=True, scale_t=True, random_state=SEED_VALUE)\r\n",
    "            else:\r\n",
    "                X_train, X_test, z_train, z_test = prepare_data(X, zpatch, test_size=test_size, shuffle=True, scale_X=True, scale_t=False, random_state=SEED_VALUE)\r\n",
    "        else:\r\n",
    "            X_train, X_test, z_train, z_test = prepare_data(X, zpatch, test_size=test_size, shuffle=True, scale_X=False, scale_t=False, random_state=SEED_VALUE)\r\n",
    "        \r\n",
    "        #print(X_train[:, 0:1])\r\n",
    "        # Model construction, fitting, and predictions\r\n",
    "        model = OLS(degree=degree) # The model\r\n",
    "        z_hat_train = model.fit(X_train, z_train) # Fitting the model and predict on training data\r\n",
    "        z_hat_test = model.predict(X_test) # predict on test data\r\n",
    "        \r\n",
    "        # Evaluatation metrics\r\n",
    "        MSE_score_train = MSE(z_train, z_hat_train)\r\n",
    "        R2_score_train = R2(z_train, z_hat_train)\r\n",
    "        MSE_score_test = MSE(z_test, z_hat_test)\r\n",
    "        R2_score_test = R2(z_test, z_hat_test)\r\n",
    "                \r\n",
    "        # Filling up dataframes for train and test evaluation\r\n",
    "        z_train_OLS[degree] = z_train.flatten()\r\n",
    "        z_hat_train_OLS[degree] = z_hat_train.flatten()\r\n",
    "        z_test_OLS[degree] = z_test.flatten()\r\n",
    "        z_hat_test_OLS[degree] = z_hat_test.flatten()\r\n",
    "        X_test_OLS[f\"{degree}\"] = X_test\r\n",
    "\r\n",
    "   \r\n",
    "        fitted_models.append(model)\r\n",
    "\r\n",
    "    # MSE calculations for all degrees\r\n",
    "    mse_scores_train = ((z_train_OLS - z_hat_train_OLS) ** 2).mean()\r\n",
    "    mse_scores_test = ((z_test_OLS - z_hat_test_OLS) ** 2).mean()\r\n",
    "    # R2 calculations for all degrees\r\n",
    "    R2_scores_train = 1 - ((z_train_OLS - z_hat_train_OLS) ** 2).sum() / ((z_train_OLS - z_train_OLS.mean())**2).sum() \r\n",
    "    R2_scores_test = 1 - ((z_test_OLS - z_hat_test_OLS) ** 2).sum() / ((z_test_OLS - z_test_OLS.mean())**2).sum()\r\n",
    "\r\n",
    "    # Plotting performance of OLS for different degrees\r\n",
    "    if plot:\r\n",
    "        plt.figure(figsize=(10,6))\r\n",
    "        plt.plot(np.arange(1,degrees+1), mse_scores_test,\"m\", label=f'MSE on test (test fraction:{test_size})')\r\n",
    "        plt.plot(np.arange(1,degrees+1), mse_scores_train,\"c\", label='MSE on train')\r\n",
    "        # plt.plot(np.arange(1,degrees+1), R2_scores_test, label=f'R2 on test (test fraction:{test_size})')\r\n",
    "        # plt.plot(np.arange(1,degrees+1), R2_scores_train, label='R2 on train')\r\n",
    "        plt.xlabel(\"Model complexity / Polynomial Degree\")\r\n",
    "        plt.ylabel(\"Prediction Error - MSE\")\r\n",
    "        plt.xticks(np.arange(1,degrees+1))\r\n",
    "        plt.grid(True)\r\n",
    "        plt.legend()\r\n",
    "        plt.title(\"Exercise 6.1 - Model evaluation\")\r\n",
    "        plt.show()"
   ],
   "outputs": [],
   "metadata": {}
  },
  {
   "cell_type": "markdown",
   "source": [
    "# OLS fit on the whole terrain1 data\r\n",
    "Using degree 8 for all models for alle patches"
   ],
   "metadata": {}
  },
  {
   "cell_type": "code",
   "execution_count": null,
   "source": [
    "n_xpatches = 9; n_ypatches=18\r\n",
    "y_steps = int(terrain1Resized.shape[0] / n_ypatches); print(y_steps)\r\n",
    "x_steps = int(terrain1Resized.shape[1] / n_xpatches); print(x_steps)\r\n",
    "\r\n",
    "patches_1_test = create_img_patches(terrain1Resized, y_steps, x_steps)\r\n",
    "#plotTerrainPatches(patches_1_test, n_ypatches, n_xpatches, plotTitle=\"Terrain1 patches\")\r\n",
    "\r\n",
    "np.random.seed(SEED_VALUE) \r\n",
    "z_flat = z.ravel(); z_flat = z_flat.reshape(-1,1)\r\n",
    "z_train_OLS = pd.DataFrame()\r\n",
    "z_hat_train_OLS = pd.DataFrame()\r\n",
    "z_test_OLS = pd.DataFrame()\r\n",
    "z_hat_test_OLS = pd.DataFrame()\r\n",
    "X_test_OLS = {}\r\n",
    "df = pd.DataFrame()\r\n",
    "\r\n",
    "degree = 8\r\n",
    "\r\n",
    "# Fitting the model \r\n",
    "scale_X = True\r\n",
    "scale_z = True\r\n",
    "test_size = 0.2\r\n",
    "fitted_models = []\r\n",
    "for patch in patches_1_test:\r\n",
    "    xpatch, ypatch, zpatch = createTerrainData(patch)\r\n",
    "    zpatch = zpatch.ravel().reshape(-1,1)\r\n",
    "    X = create_X(xpatch, ypatch, degree) # Design Matrix\r\n",
    "\r\n",
    "    # Scaling data and splitting it into training and test sets\r\n",
    "    if scale_X:\r\n",
    "        if scale_z:\r\n",
    "            X_train, X_test, z_train, z_test = prepare_data(X, zpatch, test_size=test_size, shuffle=True, scale_X=True, scale_t=True, random_state=SEED_VALUE)\r\n",
    "        else:\r\n",
    "            X_train, X_test, z_train, z_test = prepare_data(X, zpatch, test_size=test_size, shuffle=True, scale_X=True, scale_t=False, random_state=SEED_VALUE)\r\n",
    "    else:\r\n",
    "        X_train, X_test, z_train, z_test = prepare_data(X, zpatch, test_size=test_size, shuffle=True, scale_X=False, scale_t=False, random_state=SEED_VALUE)\r\n",
    "    \r\n",
    "    #print(X_train[:, 0:1])\r\n",
    "    # Model construction, fitting, and predictions\r\n",
    "    model = OLS(degree=degree) # The model\r\n",
    "    z_hat_train = model.fit(X_train, z_train) # Fitting the model and predict on training data\r\n",
    "    fitted_models.append(model)\r\n",
    "    \r\n",
    "\r\n",
    "# prediction patches\r\n",
    "z_hats = []\r\n",
    "for i, patch in enumerate(patches_1_test):\r\n",
    "    #z_scaled, _ = standard_scaling_single(patch.ravel().reshape(-1,1))\r\n",
    "    xpatch, ypatch, zpatch = createTerrainData(patch)\r\n",
    "    X = create_X(xpatch, ypatch, degree) # Design Matrix\r\n",
    "    X = remove_intercept(X)\r\n",
    "    X_scaled, _ = standard_scaling_single(X)\r\n",
    "    model = fitted_models[i]\r\n",
    "    z_hat = model.predict(X_scaled)\r\n",
    "    z_hats.append(z_hat.reshape((y_steps,x_steps)))\r\n",
    "\r\n",
    "    \r\n",
    "terrain1_predicted = patches_to_img(z_hats, y_steps, x_steps, n_ypatches, n_xpatches, plotImage=False)\r\n",
    "\r\n",
    "# Plotting predicted patches\r\n",
    "fig, (ax1, ax2) = plt.subplots(1, 2)\r\n",
    "ax1.title.set_text(f\"Terrain1 (resized)\")\r\n",
    "ax1.set_xlabel(\"X\"); ax1.set_ylabel(\"Y\")\r\n",
    "surf1 = ax1.imshow(terrain1Resized, cmap='gray')\r\n",
    "ax2.title.set_text(f\"Terrain1 - OLS predicted\")\r\n",
    "ax2.set_xlabel(\"X\"); ax2.set_ylabel(\"Y\")\r\n",
    "surf2 = ax2.imshow(terrain1_predicted, cmap='gray')\r\n",
    "plt.savefig(f\"{REPORT_FIGURES}{EX6}terrain_OLS_pred_all_patches_at_degree{degree}.pdf\")\r\n",
    "plt.show()"
   ],
   "outputs": [],
   "metadata": {}
  },
  {
   "cell_type": "markdown",
   "source": [
    "# Trying to overfit to terrain for all patches"
   ],
   "metadata": {}
  },
  {
   "cell_type": "code",
   "execution_count": null,
   "source": [
    "\r\n",
    "testDegree = 150\r\n",
    "testDegree = 10\r\n",
    "patches_1_preds = []\r\n",
    "X = create_X(x1, y1, testDegree) # Design Matrix\r\n",
    "X_scaled, _ = standard_scaling_single(X)\r\n",
    "\r\n",
    "for patch in tqdm(patches_1_test):\r\n",
    "    z_scaled, _ = standard_scaling_single(patch.ravel().reshape(-1,1))\r\n",
    "    model = OLS(degree=testDegree) # The model\r\n",
    "    z_hat_train = model.fit(X_scaled, z_scaled) # Fitting the model and predict on training data\r\n",
    "    z_hat = z_hat_train.reshape((y_steps,x_steps))\r\n",
    "    patches_1_preds.append(z_hat)\r\n",
    "    \r\n",
    "terrain1_predicted = patches_to_img(patches_1_preds, y_steps, x_steps, nYpatches, nXpatches, plotImage=False)\r\n",
    "\r\n",
    "# Plotting predicted patches\r\n",
    "fig, (ax1, ax2) = plt.subplots(1, 2)\r\n",
    "ax1.title.set_text(f\"Terrain1 (resized)\")\r\n",
    "ax1.set_xlabel(\"X\"); ax1.set_ylabel(\"Y\")\r\n",
    "surf1 = ax1.imshow(terrain1Resized, cmap='gray')\r\n",
    "ax2.title.set_text(f\"Terrain1 - OLS predicted\")\r\n",
    "ax2.set_xlabel(\"X\"); ax2.set_ylabel(\"Y\")\r\n",
    "surf2 = ax2.imshow(terrain1_predicted, cmap='gray')\r\n",
    "plt.savefig(f\"{REPORT_FIGURES}{EX6_1}terrain_and_all_patches_predicted_at_degree{testDegree}.pdf\")\r\n",
    "plt.show()"
   ],
   "outputs": [],
   "metadata": {}
  },
  {
   "cell_type": "markdown",
   "source": [
    "# Tests of dimensions image reduction and patches"
   ],
   "metadata": {}
  },
  {
   "cell_type": "code",
   "execution_count": null,
   "source": [
    "i = 1\r\n",
    "value = 180\r\n",
    "while True:\r\n",
    "    i += 1\r\n",
    "    if((value % i)==0):\r\n",
    "        print(f\"value:{value / i} at i:{i}\")\r\n",
    "    if(i>=value):\r\n",
    "        break"
   ],
   "outputs": [],
   "metadata": {}
  },
  {
   "cell_type": "code",
   "execution_count": null,
   "source": [
    "i = 1\r\n",
    "value = 360\r\n",
    "while True:\r\n",
    "    i += 1\r\n",
    "    if((value % i)==0):\r\n",
    "        print(f\"value:{value / i} at i:{i}\")\r\n",
    "    if(i>=value):\r\n",
    "        break"
   ],
   "outputs": [],
   "metadata": {}
  }
 ],
 "metadata": {
  "orig_nbformat": 4,
  "language_info": {
   "name": "python",
   "version": "3.8.11",
   "mimetype": "text/x-python",
   "codemirror_mode": {
    "name": "ipython",
    "version": 3
   },
   "pygments_lexer": "ipython3",
   "nbconvert_exporter": "python",
   "file_extension": ".py"
  },
  "kernelspec": {
   "name": "python3",
   "display_name": "Python 3.8.11 64-bit ('pytorch_lightning': conda)"
  },
  "interpreter": {
   "hash": "cdd16a4e159c1067d9dfa51729b478ccc85a4bb59359633d71fef71fb1a46b1f"
  }
 },
 "nbformat": 4,
 "nbformat_minor": 2
}