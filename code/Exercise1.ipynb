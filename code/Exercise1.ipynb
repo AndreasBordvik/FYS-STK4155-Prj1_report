{
 "cells": [
  {
   "cell_type": "code",
   "execution_count": null,
   "source": [
    "import numpy as np\n",
    "import pandas as pd\n",
    "import seaborn as sns\n",
    "import matplotlib.pyplot as plt\n",
    "import os\n",
    "from common import *\n",
    "import pandas as pd\n",
    "#from mpl_toolkits.mplot3d import Axes3D\n",
    "from sklearn.linear_model import Lasso, Ridge, LinearRegression\n",
    "\n",
    "print(f\"Root directory: {os.getcwd()}\")\n",
    "\n",
    "plt.rcParams.update({\n",
    "    \"text.usetex\": True,\n",
    "    \"font.family\": \"serif\",\n",
    "    \"font.serif\": [\"Palatino\"],\n",
    "    \"font.size\": 10,\n",
    "})\n",
    "\n",
    "%matplotlib inline "
   ],
   "outputs": [],
   "metadata": {}
  },
  {
   "cell_type": "markdown",
   "source": [
    "### Global variables "
   ],
   "metadata": {
    "tags": []
   }
  },
  {
   "cell_type": "code",
   "execution_count": null,
   "source": [],
   "outputs": [],
   "metadata": {}
  },
  {
   "cell_type": "markdown",
   "source": [
    "#  Franke function 3D preview\r\n",
    "First we plot a 3D plot of the franke function.\r\n",
    "The plot is based on the provided code in the assignmentext for plotting the franke function "
   ],
   "metadata": {}
  },
  {
   "cell_type": "code",
   "execution_count": null,
   "source": [
    "# Preview plot of the franke function\n",
    "%matplotlib\n",
    "np.random.seed(4155)\n",
    "y = x = np.arange(0, 1, 0.05)\n",
    "x, y = np.meshgrid(x,y)\n",
    "z = FrankeFunction(x, y)\n",
    "noise_mesh = 0.05 * np.random.randn(z.shape[0], z.shape[1]) # Stochastic noise\n",
    "z_noisy = z + noise_mesh\n",
    "\n",
    "fig = plt.figure()\n",
    "# Ploting frankefunction without noise\n",
    "ax1 = fig.add_subplot(1,1,1, projection='3d') # Are :)steike\n",
    "ax1.title.set_text(\"Plot of the Franke Function\")\n",
    "ax1.view_init(elev=30., azim=-25.0)\n",
    "ax1.set_xlabel(\"x\"); ax1.set_ylabel(\"y\"); ax1.set_zlabel(\"z\")\n",
    "surf1 = ax1.plot_surface(x,y,z, cmap=cm.coolwarm, linewidth = 0, antialiased=False)\n",
    "# Customize the z axis.\n",
    "ax1.set_zlim(-0.10, 1.40)\n",
    "ax1.zaxis.set_major_locator(LinearLocator(10))\n",
    "ax1.zaxis.set_major_formatter(FormatStrFormatter('%.02f'))\n",
    "\n",
    "plt.savefig(f\"{REPORT_FIGURES}franke_function_preview_nonoise.pdf\")\n",
    "\n",
    "plt.figure()\n",
    "# Ploting frankefunction with noise\n",
    "ax2 = fig.add_subplot(111, projection='3d')\n",
    "ax2.title.set_text(\"Plot of the Franke Function\\n(noise added)\")\n",
    "ax2.view_init(elev=30., azim=-25.0)\n",
    "ax2.set_xlabel(\"x\"); ax2.set_ylabel(\"y\"); ax2.set_zlabel(\"z\")\n",
    "surf2 = ax2.plot_surface(x,y,z_noisy, cmap=cm.coolwarm, linewidth = 0, antialiased=False)\n",
    "# Customize the z axis.\n",
    "ax2.set_zlim(-0.10, 1.40)\n",
    "ax2.zaxis.set_major_locator(LinearLocator(10))\n",
    "ax2.zaxis.set_major_formatter(FormatStrFormatter('%.02f'))\n",
    "\n",
    "plt.savefig(f\"{REPORT_FIGURES}franke_function_preview.pdf\")"
   ],
   "outputs": [],
   "metadata": {}
  },
  {
   "cell_type": "markdown",
   "source": [
    "# 1 - Ordinary Least Squeares (OLS)"
   ],
   "metadata": {}
  },
  {
   "cell_type": "markdown",
   "source": [
    "## 1.1 Data\r\n",
    "Defining and creating the data\r\n"
   ],
   "metadata": {}
  },
  {
   "cell_type": "code",
   "execution_count": null,
   "source": [
    "np.random.seed(4155)\n",
    "n = 1000 # The number of point in the franke function\n",
    "x = np.random.rand(n)\n",
    "y = np.random.rand(n)\n",
    "z = FrankeFunction(x, y) \n",
    "noise = 0.05 * np.random.randn(n) # Stochastic noise\n",
    "#noise = 0.7 * np.random.randn(n) # Stochastic noise\n",
    "z += noise # Adding stochastic noise"
   ],
   "outputs": [],
   "metadata": {}
  },
  {
   "cell_type": "markdown",
   "source": [
    "## 1.2 Plot of fit for all degrees before evaluation\r\n",
    " We plot the fit up to degree 6 to get an intuition on the curvature of the fitted models"
   ],
   "metadata": {}
  },
  {
   "cell_type": "code",
   "execution_count": null,
   "source": [
    "fig = plt.figure(figsize=(8,8))\n",
    "degrees = 6\n",
    "z_train_OLS = pd.DataFrame()\n",
    "z_hat_train_OLS = pd.DataFrame()\n",
    "z_test_OLS = pd.DataFrame()\n",
    "z_hat_test_OLS = pd.DataFrame()\n",
    "\n",
    "# TODO: Must fix so that training and test data are used. \n",
    "# Must evalute model using MSE from traning and test\n",
    "for degree in range(1, degrees + 1):\n",
    "    X = create_X(x, y, degree) # Design MatrixS\n",
    "    model = OLS() # The model\n",
    "    model.fit(X, z) # Fitting the model\n",
    "    z_hat = model.predict(X) # predict on train data\n",
    "    \n",
    "    # Plot\n",
    "    ax = fig.add_subplot(3,2, degree, projection='3d')\n",
    "    ax.view_init(elev=30., azim=-25.0)\n",
    "    ax.title.set_text(f\"OLS/Linear fit of degree{degree}\")\n",
    "    ax.set_xlabel(\"x\"); ax.set_ylabel(\"y\"); ax.set_zlabel(\"z\")\n",
    "    ax.scatter3D(y, x, z_hat, c=z_hat ,marker = '.', cmap=cm.coolwarm)\n",
    "fig.suptitle(\"OLS fit to the Franke Function\")\n",
    "plt.tight_layout()\n",
    "plt.savefig(f\"{REPORT_FIGURES}franke_function_OLS_fit.pdf\")"
   ],
   "outputs": [],
   "metadata": {}
  },
  {
   "cell_type": "markdown",
   "source": [
    "## 1.3 - Finding degree/model complexity for the optimal OLS fit\r\n",
    "Approximate the franke function using ordinary least squares\r\n",
    "We estimate the franke functinon using polynomials up to 6th degree. We than look at the MSE scores to look for overfitting. We use the MSE score values from the test data to determine overfit together with the curvature of the evaluation plot"
   ],
   "metadata": {}
  },
  {
   "cell_type": "markdown",
   "source": [
    "### Confidence intervall \r\n",
    "$$CI_{0.95}(\\hat\\beta_i) = [\\hat\\beta_i-1.96 SE(\\hat\\beta_i), \\hat\\beta_i+1.96 SE(\\hat\\beta_i)] =\\hat\\beta_i \\pm 1.96\\hat \\sigma(\\hat\\beta_i)$$ \r\n",
    "In order to estimate the variance of the $i$-th beta values: $$\\sigma^2 (\\beta_i ) = \\sigma^2 [(X^{T} X)^{-1}]_{ii}$$\r\n",
    "However, $\\sigma$ is unkown and can be generaly estimated as followed:\r\n",
    "$$\\hat\\sigma^2 = \\frac{\\sum_{i=0}^{N-1}(y_i - \\hat y_i)^2}{N}$$\r\n",
    "For simplification purposes, we N instead of N-p-1 in the denominator.<br>\r\n",
    "To get the variance estimate of each $\\beta$ component one must calculate the variance with respect to the diagonal elements of $(X^TX)^{-1}$ Estimated standard error is the square root of $\\hat\\sigma^2$, where the estimate for variance $\\hat\\sigma^2$ is:\r\n",
    "$$\\hat\\sigma^2 = \\frac{\\sum_{i=0}^{N-1}(y_i - \\hat y_i)^2}{N}(X^TX)^{-1}$$\r\n",
    "Where y is the true value, and $\\hat y$ being the predicted value. <br>\r\n",
    "The variance estimate of each $\\hat\\beta$ estimate can be written as:\r\n",
    "$$\\hat\\sigma_{\\hat\\beta_i}^2 = \\hat\\sigma^2(X^TX)_{i,i}^{-1}$$\r\n",
    "\r\n"
   ],
   "metadata": {}
  },
  {
   "cell_type": "code",
   "execution_count": null,
   "source": [
    "degrees = 6\r\n",
    "z_train_OLS = pd.DataFrame()\r\n",
    "z_hat_train_OLS = pd.DataFrame()\r\n",
    "z_test_OLS = pd.DataFrame()\r\n",
    "z_hat_test_OLS = pd.DataFrame()\r\n",
    "coeffs_df = pd.DataFrame()\r\n",
    "\r\n",
    "for degree in range(1, degrees+1):\r\n",
    "    X = create_X(x, y, degree) # Design Matrix\r\n",
    "    \r\n",
    "    # Scaling data and splitting it into training and test sets\r\n",
    "    #X_train, X_test, z_train, z_test = prepare_data(X, z, test_size=0.2, shuffle=True, scale_X=False, scale_t=False)\r\n",
    "    X_train, X_test, z_train, z_test = prepare_data(X, z, test_size=0.2, shuffle=True, scale_X=False, scale_t=False, random_state=4155)\r\n",
    "    \r\n",
    "    # Model construction, fitting, and predictions\r\n",
    "    model = OLS() # The model\r\n",
    "    z_hat_train = model.fit(X_train, z_train) # Fitting the model and predict on training data\r\n",
    "    z_hat_test = model.predict(X_test) # predict on test data\r\n",
    "    \r\n",
    "    # Evaluatation metrics\r\n",
    "    MSE_score_train = MSE(z_train, z_hat_train)\r\n",
    "    R2_score_train = R2(z_train, z_hat_train)\r\n",
    "    MSE_score_test = MSE(z_test, z_hat_test)\r\n",
    "    R2_score_test = R2(z_test, z_hat_test)\r\n",
    "    \r\n",
    "    # Estimated standard error for the beta coefficients\r\n",
    "    N, P = X_train.shape\r\n",
    "    #var_hat = (1/(N-P-1)) * np.sum((z_train - z_hat_train)**2)\r\n",
    "    var_hat = (1/N) * np.sum((z_train - z_hat_train)**2) # Estimated variance\r\n",
    "    invXTX_diag = np.diag(np.linalg.inv(X_train.T @ X_train)) \r\n",
    "    SE_betas = np.sqrt(var_hat * invXTX_diag) # Standard Error\r\n",
    "\r\n",
    "    # Calculating 95% confidence intervall\r\n",
    "    betas = model.get_all_betas()\r\n",
    "    CI_lower_all_betas = betas - (1.96 * SE_betas)\r\n",
    "    CI_upper_all_betas = betas + (1.96 * SE_betas)\r\n",
    "    CL = np.zeros((CI_upper_all_betas.shape[0],2))\r\n",
    "    CL[:,0] = CI_lower_all_betas\r\n",
    "    CL[:,1] = CI_upper_all_betas\r\n",
    "    \r\n",
    "    # Printing results\r\n",
    "    print(f\"Degree: {degree}\")\r\n",
    "    print(f\"Train data - Mean Square Error: {MSE_score_train}\")\r\n",
    "    print(f\"Train data - R2 score: {R2_score_train}\")\r\n",
    "    print(f\"Test data - Mean Square Error: {MSE_score_test}\")\r\n",
    "    print(f\"Test data - R2 score: {R2_score_test}\")\r\n",
    "    print(f\"Estimated variance: {var_hat}\")\r\n",
    "    print(f\"Beta - values{betas}\")\r\n",
    "    print(f\"Beta - Std Errors: {SE_betas}\")\r\n",
    "    print(f\"Beta - Confidence Interval (CI):\\n{CL}\\n\")\r\n",
    "\r\n",
    "    # Constructing dataframe for beta coefficients\r\n",
    "    degs = np.zeros(betas.shape[0]); degs.fill(degree)\r\n",
    "    df = pd.DataFrame.from_dict({\"degree\" :degs,\r\n",
    "                                 \"coeff name\": [f\"b{i}\" for i in range(1,betas.shape[0]+1)],\r\n",
    "                                 \"coeff value\": np.round(betas, decimals=4),\r\n",
    "                                 \"Std Error\": np.round(SE_betas, decimals=4),\r\n",
    "                                 \"CI lower\":np.round(CI_lower_all_betas, decimals=4), \r\n",
    "                                 \"CI_upper\":np.round(CI_upper_all_betas, decimals=4)},\r\n",
    "                                 orient='index').T\r\n",
    "    coeffs_df = pd.concat([coeffs_df,df], axis=0)\r\n",
    "        \r\n",
    "    # Filling up dataframes for train and test evaluation\r\n",
    "    z_train_OLS[degree] = z_train.flatten() \r\n",
    "    z_hat_train_OLS[degree] = z_hat_train.flatten()\r\n",
    "    z_test_OLS[degree] = z_test.flatten()\r\n",
    "    z_hat_test_OLS[degree] = z_hat_test.flatten()\r\n",
    "\r\n",
    "\r\n",
    "# MSE calculations for all lambda values\r\n",
    "mse_scores_train = ((z_train_OLS - z_hat_train_OLS) ** 2).mean()\r\n",
    "mse_scores_test = ((z_test_OLS - z_hat_test_OLS) ** 2).mean()\r\n",
    "# R2 calculations for all lambda values\r\n",
    "R2_scores_train = 1 - ((z_train_OLS - z_hat_train_OLS) ** 2).sum() / ((z_train_OLS - z_train_OLS.mean())**2).sum() \r\n",
    "R2_scores_test = 1 - ((z_test_OLS - z_hat_test_OLS) ** 2).sum() / ((z_test_OLS - z_test_OLS.mean())**2).sum()"
   ],
   "outputs": [],
   "metadata": {}
  },
  {
   "cell_type": "code",
   "execution_count": null,
   "source": [
    "# Plots\r\n",
    "plt.figure(figsize=(12,8))\r\n",
    "plt.plot(np.arange(1,degrees+1), mse_scores_train, c=\"c\", label=\"Training data\")\r\n",
    "plt.plot(np.arange(1,degrees+1), mse_scores_test, c=\"m\", label=\"Test data\")\r\n",
    "plt.xlabel(\"Model complexity - Number of polynomial degrees\")\r\n",
    "plt.ylabel(\"MSE\")\r\n",
    "plt.title(\"Training evaluation on OLS regression fit\")\r\n",
    "plt.legend()\r\n",
    "plt.tight_layout()\r\n",
    "plt.savefig(f\"{REPORT_FIGURES}franke_function_OLS_evaluate_fit.pdf\")"
   ],
   "outputs": [],
   "metadata": {}
  },
  {
   "cell_type": "markdown",
   "source": [
    "## 1.4 Analysis of plots and training metrics\r\n",
    "Do the analysis.......\r\n",
    "\r\n",
    "Conclusion:<br>\r\n",
    "Based on the analysis, we conclude that a model complexity of degree 5 yields the most optimal fit."
   ],
   "metadata": {}
  },
  {
   "cell_type": "markdown",
   "source": [
    "## 1.5 plot of the model using the most optimal parameters"
   ],
   "metadata": {}
  },
  {
   "cell_type": "code",
   "execution_count": null,
   "source": [
    "optimal_degree = 5\r\n",
    "X = create_X(x, y, optimal_degree) # Design Matrix\r\n",
    "model = OLS() # The model\r\n",
    "model.fit(X, z) # Fitting the model\r\n",
    "z_hat = model.predict(X) # predict on train data\r\n",
    "\r\n",
    "# Plot\r\n",
    "fig = plt.figure()#figsize=(8,8))\r\n",
    "ax = plt.axes(projection='3d')\r\n",
    "ax.title.set_text(f\"OLS regression fit to the Franke Function\\noptimal degree {optimal_degree},\")\r\n",
    "#ax.view_init(elev=5., azim=85.0)\r\n",
    "ax.view_init(elev=30., azim=-25.0)\r\n",
    "ax.set_xlabel(\"x\"); ax.set_ylabel(\"y\"); ax.set_zlabel(\"z\")\r\n",
    "ax.scatter3D(y, x, z_hat, c=z_hat ,marker = '.', cmap=cm.coolwarm)\r\n",
    "plt.savefig(f\"{REPORT_FIGURES}franke_function_OLS_best_fit.pdf\")"
   ],
   "outputs": [],
   "metadata": {}
  },
  {
   "cell_type": "code",
   "execution_count": null,
   "source": [
    "optimal_degree_coeffs = coeffs_df[coeffs_df[\"degree\"] == optimal_degree]\r\n",
    "display(optimal_degree_coeffs)\r\n",
    "optimal_degree_coeffs.to_csv(f\"{REPORT_DATA}EX1_coeffs_optimal_degree.csv\")"
   ],
   "outputs": [],
   "metadata": {}
  },
  {
   "cell_type": "code",
   "execution_count": null,
   "source": [],
   "outputs": [],
   "metadata": {}
  },
  {
   "cell_type": "code",
   "execution_count": null,
   "source": [],
   "outputs": [],
   "metadata": {}
  },
  {
   "cell_type": "markdown",
   "source": [
    "# test of summary functnion\r\n"
   ],
   "metadata": {}
  },
  {
   "cell_type": "code",
   "execution_count": null,
   "source": [
    "optimal_degree = 2\r\n",
    "X = create_X(x, y, optimal_degree) # Design Matrix\r\n",
    "model = OLS(optimal_degree) # The model\r\n",
    "z_hat_train = model.fit(X, z) # Fitting the model & predict on train data\r\n",
    "summary = model.summary()\r\n",
    "display(summary)"
   ],
   "outputs": [],
   "metadata": {}
  },
  {
   "cell_type": "code",
   "execution_count": null,
   "source": [
    "optimal_lambda = -1\r\n",
    "X = create_X(x, y, 3) # Design Matrix\r\n",
    "model = RidgeRegression(optimal_lambda) # The model\r\n",
    "z_hat_train = model.fit(X, z) # Fitting the model & predict on train data\r\n",
    "summary = model.summary()\r\n",
    "display(summary)"
   ],
   "outputs": [],
   "metadata": {}
  }
 ],
 "metadata": {
  "kernelspec": {
   "name": "python3",
   "display_name": "Python 3.9.7 64-bit"
  },
  "language_info": {
   "codemirror_mode": {
    "name": "ipython",
    "version": 3
   },
   "file_extension": ".py",
   "mimetype": "text/x-python",
   "name": "python",
   "nbconvert_exporter": "python",
   "pygments_lexer": "ipython3",
   "version": "3.9.7"
  },
  "interpreter": {
   "hash": "e7370f93d1d0cde622a1f8e1c04877d8463912d04d973331ad4851f04de6915a"
  }
 },
 "nbformat": 4,
 "nbformat_minor": 4
}