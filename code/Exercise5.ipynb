{
 "cells": [
  {
   "cell_type": "markdown",
   "metadata": {},
   "source": [
    "# Exercise 5: Lasso Regression on the Franke function  with resampling (Score 10 points))\n"
   ]
  },
  {
   "cell_type": "markdown",
   "metadata": {},
   "source": []
  },
  {
   "cell_type": "code",
   "execution_count": null,
   "metadata": {},
   "outputs": [],
   "source": [
    "import numpy as np\n",
    "import pandas as pd\n",
    "import seaborn as sns\n",
    "import matplotlib.pyplot as plt\n",
    "import seaborn as sns\n",
    "import os\n",
    "from common import *\n",
    "import pandas as pd\n",
    "#from mpl_toolkits.mplot3d import Axes3D\n",
    "import sklearn.linear_model as lm\n",
    "from sklearn.model_selection import train_test_split\n",
    "from warnings import simplefilter\n",
    "from sklearn.exceptions import ConvergenceWarning\n",
    "simplefilter(\"ignore\", category=ConvergenceWarning)\n",
    "\n",
    "print(f\"Root directory: {os.getcwd()}\")\n",
    "\n",
    "plt.rcParams.update({\n",
    "    \"text.usetex\": True,\n",
    "    \"font.family\": \"serif\",\n",
    "    \"font.serif\": [\"Palatino\"],\n",
    "    \"font.size\": 10,\n",
    "})\n",
    "\n",
    "%matplotlib inline "
   ]
  },
  {
   "cell_type": "markdown",
   "metadata": {},
   "source": [
    "# 1.5\n",
    "Start off by defining the data"
   ]
  },
  {
   "cell_type": "code",
   "execution_count": null,
   "metadata": {},
   "outputs": [],
   "source": [
    "SEED = np.random.seed(4155)\n",
    "maxdegree = 12\n",
    "n = 20\n",
    "x = np.sort(np.random.uniform(0, 1, n))\n",
    "y = np.sort(np.random.uniform(0, 1, n))\n",
    "x,y = np.meshgrid(x,y)\n",
    "t = FrankeFunction(x, y) + noise_factor(n, factor=0.2)\n",
    "min_lambda = -9\n",
    "max_lambda = 4\n",
    "nlambdas = 100\n",
    "lambdas = np.logspace(min_lambda, max_lambda, nlambdas)"
   ]
  },
  {
   "cell_type": "markdown",
   "metadata": {},
   "source": [
    "We want to essentially repeat the previous two exercises, as such, this exercise will follow in the footsteps of exercise 4. The difference is that the sci-kit learn implementation of Lasso regression is used. "
   ]
  },
  {
   "cell_type": "markdown",
   "metadata": {},
   "source": [
    "# Create a searchlandscape"
   ]
  },
  {
   "cell_type": "code",
   "execution_count": null,
   "metadata": {},
   "outputs": [],
   "source": [
    "test_mse = np.zeros((maxdegree, nlambdas))\n",
    "train_mse = np.zeros_like(test_mse)\n",
    "model_list = np.empty_like(test_mse, dtype=object)\n",
    "optimal_deg = 0\n",
    "optimal_lmb = 0\n",
    "lambda_degree = 0\n",
    "best_mse = np.inf\n",
    "\n",
    "for deg in range(1, maxdegree+1):\n",
    "    for lmb in range(len(lambdas)):\n",
    "\n",
    "        X = create_X(x,y,n=deg)\n",
    "\n",
    "        X_train, X_test, z_train, z_test = prepare_data(X, t.ravel(), 4155, scale_X=True, skip_intercept=True)\n",
    "\n",
    "        model = lm.Lasso(lambdas[lmb], fit_intercept=False)\n",
    "        model.fit(X_train, z_train)\n",
    "        z_hat_train = model.predict(X_train)\n",
    "        z_hat_test = model.predict(X_test)\n",
    "\n",
    "        test_mse[deg-1,lmb] = MSE(z_test, z_hat_test)\n",
    "        train_mse[deg-1, lmb] = MSE(z_train, z_hat_train)\n",
    "        model_list[deg-1,lmb] = model\n",
    "        \n",
    "        if test_mse[deg-1,lmb] < best_mse:\n",
    "            best_mse = test_mse[deg-1, lmb]\n",
    "            optimal_deg = deg\n",
    "            optimal_lmb = lambdas[lmb]\n",
    "            lambda_degree = lmb\n",
    "\n",
    "print(best_mse)\n",
    "print(optimal_lmb)\n",
    "print(optimal_deg)\n",
    "print(train_mse[deg-1, lmb])\n",
    "optimal_model = model_list[deg-1, lambda_degree]"
   ]
  },
  {
   "cell_type": "code",
   "execution_count": null,
   "metadata": {},
   "outputs": [],
   "source": [
    "import matplotlib.ticker as mticker\n",
    "%matplotlib\n",
    "fig = plt.figure()\n",
    "ax = fig.add_subplot(111, projection='3d')\n",
    "ax.title.set_text(\"Plot of the Search Landscape\")\n",
    "ax.set_xlabel(\"Polynomial degree\"); ax.set_ylabel(\"Lambda index\"); ax.set_zlabel(\"MSE\")\n",
    "#ax.set_yticklabels(f\"{np.log10(lambdas[i])}\" for i in np.linspace(0,499,6,dtype=int))\n",
    "ax.set_xticklabels(f\"{deg-2}\" for deg in range(1, maxdegree+2,2))\n",
    "\n",
    "degs, lambs = np.meshgrid(range(maxdegree), range(nlambdas))\n",
    "print(degs.shape)\n",
    "print(lambs.shape)\n",
    "print(test_mse.shape)\n",
    "surf = ax.plot_surface(degs, lambs, test_mse.swapaxes(0,1), cmap=cm.coolwarm)\n",
    "ax.view_init(elev=14., azim=-58.)\n",
    "ax.scatter(optimal_deg - 1, lambda_degree, best_mse, c='r', marker='o', s=100)\n",
    "plt.savefig(f\"{REPORT_FIGURES}{EX5}search_landscape_lasso.pdf\")"
   ]
  },
  {
   "cell_type": "markdown",
   "metadata": {},
   "source": [
    "# Betaplot showing effect of L1 regularizer"
   ]
  },
  {
   "cell_type": "code",
   "execution_count": null,
   "metadata": {},
   "outputs": [],
   "source": [
    "%matplotlib inline\n",
    "for deg in range(1, maxdegree-3):     # Only want the first 8\n",
    "    betas = []\n",
    "    summaries_df = pd.DataFrame()\n",
    "    for lmb in lambdas:\n",
    "        X = create_X(x,y,n=deg)\n",
    "        X_train, X_test, z_train, z_test = prepare_data(X, t.ravel(), 4155, scale_X=True, skip_intercept=True)\n",
    "        model = lm.Lasso(lmb, fit_intercept=False)\n",
    "        model.fit(X_train, z_train)\n",
    "        betas.append(model.get_params())\n",
    "        \n",
    "    #fig = plot_beta_errors_for_lambdas(summaries_df, deg)\n",
    "    #plt.savefig(f\"{REPORT_FIGURES}{EX4}beta_plot_ridge_{deg}.pdf\")"
   ]
  },
  {
   "cell_type": "markdown",
   "metadata": {},
   "source": [
    "# Cross Validation"
   ]
  }
 ],
 "metadata": {
  "interpreter": {
   "hash": "e7370f93d1d0cde622a1f8e1c04877d8463912d04d973331ad4851f04de6915a"
  },
  "kernelspec": {
   "display_name": "Python 3.8.10 64-bit",
   "name": "python3"
  },
  "language_info": {
   "codemirror_mode": {
    "name": "ipython",
    "version": 3
   },
   "file_extension": ".py",
   "mimetype": "text/x-python",
   "name": "python",
   "nbconvert_exporter": "python",
   "pygments_lexer": "ipython3",
   "version": "3.8.10"
  },
  "orig_nbformat": 4
 },
 "nbformat": 4,
 "nbformat_minor": 2
}
