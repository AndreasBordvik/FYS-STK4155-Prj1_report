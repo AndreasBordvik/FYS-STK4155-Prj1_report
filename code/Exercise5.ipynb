{
 "cells": [
  {
   "cell_type": "markdown",
   "source": [
    "# Exercise 5: Lasso Regression on the Franke function  with resampling (Score 10 points))\n"
   ],
   "metadata": {}
  },
  {
   "cell_type": "markdown",
   "source": [],
   "metadata": {}
  },
  {
   "cell_type": "code",
   "execution_count": 22,
   "source": [
    "import numpy as np\n",
    "import pandas as pd\n",
    "import seaborn as sns\n",
    "import matplotlib.pyplot as plt\n",
    "import seaborn as sns\n",
    "import os\n",
    "from common import *\n",
    "import pandas as pd\n",
    "#from mpl_toolkits.mplot3d import Axes3D\n",
    "import sklearn.linear_model as lm\n",
    "from sklearn.model_selection import train_test_split\n",
    "\n",
    "print(f\"Root directory: {os.getcwd()}\")\n",
    "\n",
    "plt.rcParams.update({\n",
    "    \"text.usetex\": True,\n",
    "    \"font.family\": \"serif\",\n",
    "    \"font.serif\": [\"Palatino\"],\n",
    "    \"font.size\": 10,\n",
    "})\n",
    "\n",
    "%matplotlib inline "
   ],
   "outputs": [
    {
     "output_type": "stream",
     "name": "stdout",
     "text": [
      "Root directory: /home/arefrode/uio/fys-stk4155/projects/FYS-STK4155-Prj1_report/code\n"
     ]
    }
   ],
   "metadata": {}
  },
  {
   "cell_type": "markdown",
   "source": [
    "# 1.5\n",
    "Start off by defining the data"
   ],
   "metadata": {}
  },
  {
   "cell_type": "code",
   "execution_count": 23,
   "source": [
    "np.random.seed(SEED_VALUE)\n",
    "maxdegree = 12\n",
    "degree = 9 # Chosen as the optimal degree from the bias-variance tentative\n",
    "n = 10000\n",
    "x = np.sort(np.random.uniform(0, 1, n))\n",
    "y = np.sort(np.random.uniform(0, 1, n))\n",
    "X = create_X(x,y, n = degree)\n",
    "z = FrankeFunction(x, y) + 0.2*np.random.normal(0, size = n)"
   ],
   "outputs": [],
   "metadata": {}
  },
  {
   "cell_type": "markdown",
   "source": [
    "We want to essentially repeat the previous two exercises, as such, this exercise will follow in the footsteps of exercise 4. The difference is that the sci-kit learn implementation of Lasso regression is used. "
   ],
   "metadata": {}
  },
  {
   "cell_type": "code",
   "execution_count": 24,
   "source": [
    "nbf_lambdas = 20\n",
    "lambdas = np.logspace(-4, 1, nbf_lambdas)\n",
    "z_train_lasso = pd.DataFrame()\n",
    "z_hat_train_lasso = pd.DataFrame()\n",
    "z_test_lasso = pd.DataFrame()\n",
    "z_hat_test_lasso = pd.DataFrame()\n",
    "\n",
    "MSE_test = np.zeros(nbf_lambdas)\n",
    "MSE_train = np.zeros(nbf_lambdas)"
   ],
   "outputs": [],
   "metadata": {}
  },
  {
   "cell_type": "code",
   "execution_count": 25,
   "source": [
    "X_train, X_test, z_train, z_test = prepare_data(X, z, test_size=0.2, shuffle=True, random_state=SEED_VALUE)\n",
    "\n",
    "scaler = StandardScaler()\n",
    "scaler.fit(X_train)\n",
    "X_train_scaled = scaler.transform(X_train)\n",
    "X_test_scaled = scaler.transform(X_test)\n",
    "\n",
    "for i in range(len(lambdas)):\n",
    "    clf = lm.Lasso(lambdas[i])\n",
    "    clf.fit(X_train_scaled, z_train)\n",
    "\n",
    "    z_pred = clf.predict(X_test_scaled)\n",
    "    z_fit = clf.predict(X_train_scaled)\n",
    "\n",
    "    MSE_test[i] = np.mean( np.mean((z_test - z_pred)**2) )\n",
    "    MSE_train[i] = np.mean( np.mean((z_train - z_fit)**2) )\n",
    "\n",
    "plt.figure()\n",
    "plt.plot(np.log10(lambdas), MSE_train, 'c', label = \"MSE train\")\n",
    "plt.plot(np.log10(lambdas), MSE_test, 'm', label = 'MSE test')\n",
    "plt.xlabel('log10(lambda)')\n",
    "plt.ylabel('MSE')\n",
    "plt.legend()\n",
    "plt.show()\n"
   ],
   "outputs": [
    {
     "output_type": "stream",
     "name": "stderr",
     "text": [
      "/usr/lib/python3.9/site-packages/sklearn/linear_model/_coordinate_descent.py:530: ConvergenceWarning: Objective did not converge. You might want to increase the number of iterations. Duality gap: 147.58010305534089, tolerance: 0.16952649222351013\n",
      "  model = cd_fast.enet_coordinate_descent(\n",
      "/usr/lib/python3.9/site-packages/sklearn/linear_model/_coordinate_descent.py:530: ConvergenceWarning: Objective did not converge. You might want to increase the number of iterations. Duality gap: 119.55266383707715, tolerance: 0.16952649222351013\n",
      "  model = cd_fast.enet_coordinate_descent(\n",
      "/usr/lib/python3.9/site-packages/sklearn/linear_model/_coordinate_descent.py:530: ConvergenceWarning: Objective did not converge. You might want to increase the number of iterations. Duality gap: 74.10742550751027, tolerance: 0.16952649222351013\n",
      "  model = cd_fast.enet_coordinate_descent(\n",
      "/usr/lib/python3.9/site-packages/sklearn/linear_model/_coordinate_descent.py:530: ConvergenceWarning: Objective did not converge. You might want to increase the number of iterations. Duality gap: 19.841179953442293, tolerance: 0.16952649222351013\n",
      "  model = cd_fast.enet_coordinate_descent(\n",
      "/usr/lib/python3.9/site-packages/sklearn/linear_model/_coordinate_descent.py:530: ConvergenceWarning: Objective did not converge. You might want to increase the number of iterations. Duality gap: 4.174588969424974, tolerance: 0.16952649222351013\n",
      "  model = cd_fast.enet_coordinate_descent(\n",
      "/usr/lib/python3.9/site-packages/sklearn/linear_model/_coordinate_descent.py:530: ConvergenceWarning: Objective did not converge. You might want to increase the number of iterations. Duality gap: 0.8892372581222503, tolerance: 0.16952649222351013\n",
      "  model = cd_fast.enet_coordinate_descent(\n"
     ]
    },
    {
     "output_type": "display_data",
     "data": {
      "image/png": "[encoded data removed]",
      "text/plain": [
       "<Figure size 432x288 with 1 Axes>"
      ]
     },
     "metadata": {
      "needs_background": "light"
     }
    }
   ],
   "metadata": {}
  },
  {
   "cell_type": "markdown",
   "source": [
    "Fitting the model for the different values of $\\lambda$"
   ],
   "metadata": {}
  },
  {
   "cell_type": "code",
   "execution_count": null,
   "source": [],
   "outputs": [],
   "metadata": {}
  },
  {
   "cell_type": "code",
   "execution_count": 26,
   "source": [
    "# Preparing data and training the model\n",
    "X_train, X_test, z_train, z_test = prepare_data(X, z, test_size=0.2, shuffle=True, scale_X=False, scale_t=False, random_state=SEED_VALUE)\n",
    "\n",
    "for lmb in lambdas:\n",
    "    # Fitting the linear model\n",
    "    model = lm.Lasso(lmb, fit_intercept=False)\n",
    "    model.fit(X_train, z_train)\n",
    "\n",
    "    # Predicting values using the trained model\n",
    "    z_hat_train = model.predict(X_train)\n",
    "    z_hat_test = model.predict(X_test)\n",
    "\n",
    "    # Filling up the dataframes\n",
    "    z_train_lasso[lmb] = z_train.flatten()\n",
    "    z_hat_train_lasso[lmb] = z_hat_train.flatten()\n",
    "    z_test_lasso[lmb] = z_test.flatten()\n",
    "    z_hat_test_lasso[lmb] = z_hat_test.flatten()\n",
    "\n",
    "# Calculate the MSE for all lambda values\n",
    "mse_scores_train = ((z_train_lasso - z_hat_train_lasso) ** 2).mean()\n",
    "mse_scores_test = ((z_test_lasso - z_hat_test_lasso) ** 2).mean()\n",
    "# R2 calculations for all lambda values\n",
    "R2_scores_train = 1 - ((z_train_lasso - z_hat_train_lasso) ** 2).sum() / ((z_train_lasso - z_train_lasso.mean())**2).sum() \n",
    "R2_scores_test = 1 - ((z_test_lasso - z_hat_test_lasso) ** 2).sum() / ((z_test_lasso - z_test_lasso.mean())**2).sum()  \n",
    "\n"
   ],
   "outputs": [
    {
     "output_type": "stream",
     "name": "stderr",
     "text": [
      "/usr/lib/python3.9/site-packages/sklearn/linear_model/_coordinate_descent.py:530: ConvergenceWarning: Objective did not converge. You might want to increase the number of iterations. Duality gap: 136.86696075119937, tolerance: 0.37641101088929585\n",
      "  model = cd_fast.enet_coordinate_descent(\n",
      "/usr/lib/python3.9/site-packages/sklearn/linear_model/_coordinate_descent.py:530: ConvergenceWarning: Objective did not converge. You might want to increase the number of iterations. Duality gap: 94.8286797087087, tolerance: 0.37641101088929585\n",
      "  model = cd_fast.enet_coordinate_descent(\n",
      "/usr/lib/python3.9/site-packages/sklearn/linear_model/_coordinate_descent.py:530: ConvergenceWarning: Objective did not converge. You might want to increase the number of iterations. Duality gap: 30.939160541255035, tolerance: 0.37641101088929585\n",
      "  model = cd_fast.enet_coordinate_descent(\n",
      "/usr/lib/python3.9/site-packages/sklearn/linear_model/_coordinate_descent.py:530: ConvergenceWarning: Objective did not converge. You might want to increase the number of iterations. Duality gap: 1.489327171705952, tolerance: 0.37641101088929585\n",
      "  model = cd_fast.enet_coordinate_descent(\n"
     ]
    }
   ],
   "metadata": {}
  },
  {
   "cell_type": "markdown",
   "source": [
    "# Bootstrap\n",
    "Performing the same bootstrap analysis as in Exercise 4, that is, for each lambda, loop over each degree whereas for each degree, bootstrapping is performed to generate a set of different predicted values."
   ],
   "metadata": {}
  },
  {
   "cell_type": "code",
   "execution_count": 27,
   "source": [
    "nlambdas = 10\n",
    "n_bootstraps = 100\n",
    "maxdegree = 12\n",
    "lambdas = np.logspace(-4, 1, nlambdas)\n",
    "polydegree = np.arange(maxdegree)\n",
    "\n",
    "for lmb in lambdas:\n",
    "    MSE_test = np.zeros(maxdegree)\n",
    "    MSE_train = np.zeros(maxdegree)\n",
    "    bias = np.zeros(maxdegree)\n",
    "    variance = np.zeros(maxdegree)\n",
    "\n",
    "    for degree in tqdm(range(maxdegree), desc = f\"Looping through polynomials up to {maxdegree} degrees with {n_bootstraps} bootstraps: \"):\n",
    "        model = lm.Lasso(lmb)\n",
    "        X = create_X(x, y, n=degree)\n",
    "        X_train, X_test, z_train, z_test = train_test_split(X, z, test_size=0.2)\n",
    "\n",
    "        z_test_ = np.reshape(z_test, newshape=(z_test.shape[0],1))\n",
    "        z_train_ = np.reshape(z_train, newshape=(z_train.shape[0],1))\n",
    "\n",
    "        scaler = StandardScaler()\n",
    "        scaler.fit(X_train)\n",
    "        X_train_scaled = scaler.transform(X_train)\n",
    "        X_test_scaled = scaler.transform(X_test)\n",
    "\n",
    "        z_pred = np.empty((z_test.shape[0], n_bootstraps))\n",
    "        z_fit = np.empty((z_train.shape[0], n_bootstraps))\n",
    "\n",
    "        # Bootstrapping\n",
    "        for i in range(n_bootstraps):\n",
    "            x_, z_ = resample(X_train, z_train)\n",
    "            clf = model.fit(x_, z_)\n",
    "            z_pred[:, i] = clf.predict(X_test_scaled)\n",
    "            z_fit[:, i] = clf.predict(X_train_scaled)\n",
    "\n",
    "        MSE_test[degree] = np.mean( np.mean((z_test_ - z_pred)**2, axis=1, keepdims=True) )\n",
    "        MSE_train[degree] = np.mean( np.mean((z_train_ - z_fit)**2, axis=1, keepdims=True) )\n",
    "        bias[degree] = np.mean( (z_test - np.mean(z_pred, axis=1, keepdims=True))**2 )\n",
    "        variance[degree] = np.mean( np.var(z_pred, axis=1, keepdims=True))\n",
    "\n",
    "    plt.figure()\n",
    "    plt.plot(polydegree, MSE_test,\"m\", label='MSE\\_test')\n",
    "    plt.plot(polydegree, MSE_train,\"c\", label='MSE\\_train')\n",
    "\n",
    "    plt.plot(polydegree, bias,\"g--\", label='bias')\n",
    "    plt.plot(polydegree, variance,\"r--\", label='Variance')\n",
    "\n",
    "    plt.title(f\"Bias-Variance for log10(lambda) = {np.log10(lmb)}\")\n",
    "    plt.xlabel(\"Model complexity / Polynomial Degree\")\n",
    "    plt.ylabel(\"Prediction Error\")\n",
    "\n",
    "    plt.grid(True)\n",
    "    plt.legend()\n",
    "    plt.show()\n"
   ],
   "outputs": [
    {
     "output_type": "stream",
     "name": "stderr",
     "text": [
      "Looping through polynomials up to 12 degrees with 100 bootstraps:   0%|          | 0/12 [00:00<?, ?it/s]\n"
     ]
    },
    {
     "output_type": "error",
     "ename": "TypeError",
     "evalue": "train_test_split() got an unexpected keyword argument 'test_split'",
     "traceback": [
      "\u001b[0;31m---------------------------------------------------------------------------\u001b[0m",
      "\u001b[0;31mTypeError\u001b[0m                                 Traceback (most recent call last)",
      "\u001b[0;32m/tmp/ipykernel_404620/1137688080.py\u001b[0m in \u001b[0;36m<module>\u001b[0;34m\u001b[0m\n\u001b[1;32m     14\u001b[0m         \u001b[0mmodel\u001b[0m \u001b[0;34m=\u001b[0m \u001b[0mlm\u001b[0m\u001b[0;34m.\u001b[0m\u001b[0mLasso\u001b[0m\u001b[0;34m(\u001b[0m\u001b[0mlmb\u001b[0m\u001b[0;34m)\u001b[0m\u001b[0;34m\u001b[0m\u001b[0;34m\u001b[0m\u001b[0m\n\u001b[1;32m     15\u001b[0m         \u001b[0mX\u001b[0m \u001b[0;34m=\u001b[0m \u001b[0mcreate_X\u001b[0m\u001b[0;34m(\u001b[0m\u001b[0mx\u001b[0m\u001b[0;34m,\u001b[0m \u001b[0my\u001b[0m\u001b[0;34m,\u001b[0m \u001b[0mn\u001b[0m\u001b[0;34m=\u001b[0m\u001b[0mdegree\u001b[0m\u001b[0;34m)\u001b[0m\u001b[0;34m\u001b[0m\u001b[0;34m\u001b[0m\u001b[0m\n\u001b[0;32m---> 16\u001b[0;31m         \u001b[0mX_train\u001b[0m\u001b[0;34m,\u001b[0m \u001b[0mX_test\u001b[0m\u001b[0;34m,\u001b[0m \u001b[0mz_train\u001b[0m\u001b[0;34m,\u001b[0m \u001b[0mz_test\u001b[0m \u001b[0;34m=\u001b[0m \u001b[0mtrain_test_split\u001b[0m\u001b[0;34m(\u001b[0m\u001b[0mX\u001b[0m\u001b[0;34m,\u001b[0m \u001b[0mz\u001b[0m\u001b[0;34m,\u001b[0m \u001b[0mtest_split\u001b[0m\u001b[0;34m=\u001b[0m\u001b[0;36m0.2\u001b[0m\u001b[0;34m)\u001b[0m\u001b[0;34m\u001b[0m\u001b[0;34m\u001b[0m\u001b[0m\n\u001b[0m\u001b[1;32m     17\u001b[0m \u001b[0;34m\u001b[0m\u001b[0m\n\u001b[1;32m     18\u001b[0m         \u001b[0mz_test_\u001b[0m \u001b[0;34m=\u001b[0m \u001b[0mnp\u001b[0m\u001b[0;34m.\u001b[0m\u001b[0mreshape\u001b[0m\u001b[0;34m(\u001b[0m\u001b[0mz_test\u001b[0m\u001b[0;34m,\u001b[0m \u001b[0mnewshape\u001b[0m\u001b[0;34m=\u001b[0m\u001b[0;34m(\u001b[0m\u001b[0mz_test\u001b[0m\u001b[0;34m.\u001b[0m\u001b[0mshape\u001b[0m\u001b[0;34m[\u001b[0m\u001b[0;36m0\u001b[0m\u001b[0;34m]\u001b[0m\u001b[0;34m,\u001b[0m\u001b[0;36m1\u001b[0m\u001b[0;34m)\u001b[0m\u001b[0;34m)\u001b[0m\u001b[0;34m\u001b[0m\u001b[0;34m\u001b[0m\u001b[0m\n",
      "\u001b[0;31mTypeError\u001b[0m: train_test_split() got an unexpected keyword argument 'test_split'"
     ]
    }
   ],
   "metadata": {}
  }
 ],
 "metadata": {
  "orig_nbformat": 4,
  "language_info": {
   "name": "python",
   "version": "3.9.7",
   "mimetype": "text/x-python",
   "codemirror_mode": {
    "name": "ipython",
    "version": 3
   },
   "pygments_lexer": "ipython3",
   "nbconvert_exporter": "python",
   "file_extension": ".py"
  },
  "kernelspec": {
   "name": "python3",
   "display_name": "Python 3.9.7 64-bit"
  },
  "interpreter": {
   "hash": "e7370f93d1d0cde622a1f8e1c04877d8463912d04d973331ad4851f04de6915a"
  }
 },
 "nbformat": 4,
 "nbformat_minor": 2
}