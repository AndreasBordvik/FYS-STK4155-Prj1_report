{
 "cells": [
  {
   "cell_type": "markdown",
   "source": [
    "# Exercise 5: Lasso Regression on the Franke function  with resampling (Score 10 points))\n"
   ],
   "metadata": {}
  },
  {
   "cell_type": "markdown",
   "source": [],
   "metadata": {}
  },
  {
   "cell_type": "code",
   "execution_count": 63,
   "source": [
    "import numpy as np\n",
    "import pandas as pd\n",
    "import seaborn as sns\n",
    "import matplotlib.pyplot as plt\n",
    "import seaborn as sns\n",
    "import os\n",
    "from common import *\n",
    "import pandas as pd\n",
    "#from mpl_toolkits.mplot3d import Axes3D\n",
    "from sklearn.linear_model import Lasso\n",
    "from sklearn.model_selection import train_test_split\n",
    "\n",
    "print(f\"Root directory: {os.getcwd()}\")\n",
    "\n",
    "plt.rcParams.update({\n",
    "    \"text.usetex\": True,\n",
    "    \"font.family\": \"serif\",\n",
    "    \"font.serif\": [\"Palatino\"],\n",
    "    \"font.size\": 10,\n",
    "})\n",
    "\n",
    "%matplotlib inline "
   ],
   "outputs": [
    {
     "output_type": "stream",
     "name": "stdout",
     "text": [
      "Root directory: /home/arefrode/uio/fys-stk4155/projects/FYS-STK4155-Prj1_report\n"
     ]
    }
   ],
   "metadata": {}
  },
  {
   "cell_type": "markdown",
   "source": [
    "# 1.5\n",
    "Start off by defining the data"
   ],
   "metadata": {}
  },
  {
   "cell_type": "code",
   "execution_count": 64,
   "source": [
    "np.random.seed(SEED_VALUE)\n",
    "maxdegree = 12\n",
    "degree = 9 # Chosen as the optimal degree from the bias-variance tentative\n",
    "n = 10000\n",
    "x = np.sort(np.random.uniform(0, 1, n))\n",
    "y = np.sort(np.random.uniform(0, 1, n))\n",
    "X = create_X(x,y, n = degree)\n",
    "z = FrankeFunction(x, y) + 0.2*np.random.normal(0, size = n)"
   ],
   "outputs": [],
   "metadata": {}
  },
  {
   "cell_type": "markdown",
   "source": [
    "We want to essentially repeat the previous two exercises, as such, this exercise will follow in the footsteps of exercise 4. The difference is that the sci-kit learn implementation of Lasso regression is used. "
   ],
   "metadata": {}
  },
  {
   "cell_type": "code",
   "execution_count": 65,
   "source": [
    "nbf_lambdas = 20\n",
    "lambdas = np.logspace(-4, 1, nbf_lambdas)\n",
    "z_train_lasso = pd.DataFrame()\n",
    "z_hat_train_lasso = pd.DataFrame()\n",
    "z_test_lasso = pd.DataFrame()\n",
    "z_hat_test_lasso = pd.DataFrame()"
   ],
   "outputs": [],
   "metadata": {}
  },
  {
   "cell_type": "markdown",
   "source": [
    "Fitting the model for the different values of $\\lambda$"
   ],
   "metadata": {}
  },
  {
   "cell_type": "code",
   "execution_count": 66,
   "source": [
    "# Preparing data and training the model\n",
    "X_train, X_test, z_train, z_test = prepare_data(X, z, test_size=0.2, shuffle=True, scale_X=False, scale_t=False, random_state=SEED_VALUE)\n",
    "\n",
    "for lmb in lambdas:\n",
    "    # Fitting the linear model\n",
    "    model = Lasso(lmb, fit_intercept=False)\n",
    "    model.fit(X_train, z_train)\n",
    "\n",
    "    # Predicting values using the trained model\n",
    "    z_hat_train = model.predict(X_train)\n",
    "    z_hat_test = model.predict(X_test)\n",
    "\n",
    "    # Filling up the dataframes\n",
    "    z_train_lasso[lmb] = z_train.flatten()\n",
    "    z_hat_train_lasso[lmb] = z_hat_train.flatten()\n",
    "    z_test_lasso[lmb] = z_test.flatten()\n",
    "    z_hat_test_lasso[lmb] = z_hat_test.flatten()\n",
    "\n",
    "# Calculate the MSE for all lambda values\n",
    "mse_scores_train = ((z_train_lasso - z_hat_train_lasso) ** 2).mean()\n",
    "mse_scores_test = ((z_test_lasso - z_hat_test_lasso) ** 2).mean()\n",
    "# R2 calculations for all lambda values\n",
    "R2_scores_train = 1 - ((z_train_lasso - z_hat_train_lasso) ** 2).sum() / ((z_train_lasso - z_train_lasso.mean())**2).sum() \n",
    "R2_scores_test = 1 - ((z_test_lasso - z_hat_test_lasso) ** 2).sum() / ((z_test_lasso - z_test_lasso.mean())**2).sum()  \n",
    "\n"
   ],
   "outputs": [
    {
     "output_type": "stream",
     "name": "stderr",
     "text": [
      "/usr/lib/python3.9/site-packages/sklearn/linear_model/_coordinate_descent.py:530: ConvergenceWarning: Objective did not converge. You might want to increase the number of iterations. Duality gap: 136.86696075119937, tolerance: 0.37641101088929585\n",
      "  model = cd_fast.enet_coordinate_descent(\n",
      "/usr/lib/python3.9/site-packages/sklearn/linear_model/_coordinate_descent.py:530: ConvergenceWarning: Objective did not converge. You might want to increase the number of iterations. Duality gap: 94.8286797087087, tolerance: 0.37641101088929585\n",
      "  model = cd_fast.enet_coordinate_descent(\n",
      "/usr/lib/python3.9/site-packages/sklearn/linear_model/_coordinate_descent.py:530: ConvergenceWarning: Objective did not converge. You might want to increase the number of iterations. Duality gap: 30.939160541255035, tolerance: 0.37641101088929585\n",
      "  model = cd_fast.enet_coordinate_descent(\n",
      "/usr/lib/python3.9/site-packages/sklearn/linear_model/_coordinate_descent.py:530: ConvergenceWarning: Objective did not converge. You might want to increase the number of iterations. Duality gap: 1.489327171705952, tolerance: 0.37641101088929585\n",
      "  model = cd_fast.enet_coordinate_descent(\n"
     ]
    }
   ],
   "metadata": {}
  }
 ],
 "metadata": {
  "orig_nbformat": 4,
  "language_info": {
   "name": "python",
   "version": "3.9.7",
   "mimetype": "text/x-python",
   "codemirror_mode": {
    "name": "ipython",
    "version": 3
   },
   "pygments_lexer": "ipython3",
   "nbconvert_exporter": "python",
   "file_extension": ".py"
  },
  "kernelspec": {
   "name": "python3",
   "display_name": "Python 3.9.7 64-bit"
  },
  "interpreter": {
   "hash": "e7370f93d1d0cde622a1f8e1c04877d8463912d04d973331ad4851f04de6915a"
  }
 },
 "nbformat": 4,
 "nbformat_minor": 2
}