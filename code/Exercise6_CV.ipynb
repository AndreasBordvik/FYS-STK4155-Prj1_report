{
 "cells": [
  {
   "cell_type": "code",
   "execution_count": 1,
   "source": [
    "import numpy as np\n",
    "import pandas as pd\n",
    "import seaborn as sns\n",
    "from imageio import imread\n",
    "import matplotlib.pyplot as plt\n",
    "from mpl_toolkits.mplot3d import Axes3D\n",
    "from matplotlib import cm\n",
    "import seaborn as sns\n",
    "import os\n",
    "from common import *\n",
    "import cv2\n",
    "from sklearn.model_selection import cross_val_score\n",
    "from sklearn import linear_model as sk\n",
    "#from mpl_toolkits.mplot3d import Axes3D\n",
    "#from sklearn.linear_model import Lasso, Ridge, LinearRegression\n",
    "from sklearn import linear_model as lm\n",
    "\n",
    "from sklearn.preprocessing import MinMaxScaler\n",
    "from typing import Tuple\n",
    "\n",
    "rescale_factor = 0.2\n"
   ],
   "outputs": [],
   "metadata": {}
  },
  {
   "cell_type": "markdown",
   "source": [
    "## Methods:"
   ],
   "metadata": {}
  },
  {
   "cell_type": "code",
   "execution_count": 2,
   "source": [
    "def create_img_patches(img, ySteps, xSteps):\n",
    "    patches = []\n",
    "    for y in range(0,img.shape[0], ySteps):\n",
    "        for x in range(0,img.shape[1], xSteps):\n",
    "            y_from = y; \n",
    "            y_to = y+ySteps; \n",
    "            x_from = x; \n",
    "            x_to = x+xSteps; \n",
    "            img_patch = img[y_from:y_to, x_from:x_to]        \n",
    "            patches.append(img_patch)\n",
    "\n",
    "    return patches\n",
    "\n",
    "def patches_to_img(patches, ySteps, xSteps, nYpatches, nXpatches, plotImage=False):\n",
    "    img = np.zeros((ySteps*nYpatches, xSteps*nXpatches))\n",
    "    i = 0\n",
    "    for y in range(0,img.shape[0], ySteps):\n",
    "        for x in range(0,img.shape[1], xSteps):\n",
    "            y_from = y; \n",
    "            y_to = y+ySteps; \n",
    "            x_from = x; \n",
    "            x_to = x+xSteps; \n",
    "            img[y_from:y_to, x_from:x_to] = patches[i]         \n",
    "            i += 1\n",
    "    \n",
    "    if plotImage:\n",
    "        plt.imshow(img, cmap='gray')\n",
    "        plt.title(\"Reconstructed img\")\n",
    "        plt.show()\n",
    "    return img\n",
    "\n",
    "def plotTerrainPatches(patches, nYpatches, nXpatches, plotTitle=\"Terrain patches\"):\n",
    "    # Plotting terrain patches\n",
    "    fig, ax = plt.subplots(nYpatches, nXpatches,figsize=(4,8))\n",
    "    i=0\n",
    "    for y in range(nYpatches):\n",
    "        for x in range(nXpatches):\n",
    "            ax[y,x].title.set_text(f\"Patch{i}\")\n",
    "            ax[y,x].set_xlabel(\"X\"); ax1.set_ylabel(\"Y\")\n",
    "            ax[y,x].imshow(patches[i], cmap='gray')\n",
    "            i+=1\n",
    "    \n",
    "    fig.suptitle(f\"{plotTitle}\") # or plt.suptitle('Main title')\n",
    "    plt.tight_layout()\n",
    "    plt.savefig(f\"{REPORT_FIGURES}{EX6}{plotTitle}.pdf\")\n",
    "    plt.show()\n",
    "\n",
    "def createTerrainData(terrain, includeMeshgrid=True):\n",
    "    z = np.array(terrain) \n",
    "    x = np.arange(0, z.shape[1])\n",
    "    y = np.arange(0, z.shape[0])\n",
    "    if includeMeshgrid:\n",
    "        x, y = np.meshgrid(x,y)\n",
    "    return x,y,z\n"
   ],
   "outputs": [],
   "metadata": {}
  },
  {
   "cell_type": "markdown",
   "source": [
    "## Load the terrain:\n"
   ],
   "metadata": {}
  },
  {
   "cell_type": "code",
   "execution_count": 3,
   "source": [
    "terrain1_file = \"SRTM_data_Norway_1.tif\"\n",
    "terrain2_file = \"SRTM_data_Norway_2.tif\"\n",
    "terrain1 =  imread(f'{INPUT_DATA}{terrain1_file}')\n",
    "terrain2 = imread(f'{INPUT_DATA}{terrain2_file}')\n",
    "\n",
    "ySize = int(terrain1.shape[0] * rescale_factor); print(ySize)\n",
    "xSize = int(terrain1.shape[1] * rescale_factor); print(xSize)\n",
    "terrain1Resized = cv2.resize(terrain1, (xSize, ySize))\n",
    "terrain2Resized = cv2.resize(terrain2, (xSize, ySize))\n",
    "\n",
    "nXpatches = 2; nYpatches=4\n",
    "ySteps = int(terrain2Resized.shape[0] / nYpatches)\n",
    "xSteps = int(terrain2Resized.shape[1] / nXpatches)\n",
    "\n",
    "patches_1 = create_img_patches(terrain1Resized, ySteps, xSteps)\n",
    "\n",
    "patches_2 = create_img_patches(terrain2Resized, ySteps, xSteps)\n",
    "\n",
    "img1 = patches_1[1]\n",
    "img2 = patches_2[3]\n",
    "x1, y1, z1 = createTerrainData(img1)\n",
    "x2, y2, z2 = createTerrainData(img2)\n",
    "\n",
    "scaler1 = MinMaxScaler()\n",
    "scaler1.fit(img1)\n",
    "img1_normalized = scaler1.transform(img1)\n",
    "norm_var1 = np.round(np.var(img1_normalized),decimals=4)\n",
    "\n",
    "scaler2 = MinMaxScaler()\n",
    "scaler2.fit(img2)\n",
    "img2_normalized = scaler1.transform(img2)\n",
    "norm_var2 = np.round(np.var(img2_normalized),decimals=4)\n",
    "\n",
    "terrain_data = 1\n",
    "\n",
    "if terrain_data == 1: # Choosing terrain1\n",
    "    x, y, z = x1, y1, z1.copy() \n",
    "    #z_min = np.min(z)\n",
    "    z_max = np.max(z)\n",
    "    z = z1\n",
    "\n",
    "elif terrain_data == 2: # Choosing terrain2\n",
    "    x, y, z = x2, y2, z2.copy() \n",
    "    #z_min = np.min(z)\n",
    "    z_max = np.max(z)\n",
    "    z = z2\n"
   ],
   "outputs": [
    {
     "output_type": "stream",
     "name": "stdout",
     "text": [
      "720\n",
      "360\n"
     ]
    }
   ],
   "metadata": {}
  },
  {
   "cell_type": "markdown",
   "source": [
    "## Cross-Validation:"
   ],
   "metadata": {}
  },
  {
   "cell_type": "code",
   "execution_count": 7,
   "source": [
    "\n",
    "SEED_VALUE = np.random.seed(4155)\n",
    "z_flat = z.ravel().reshape(-1,1); \n",
    "z_flat = z_flat.reshape(-1,1)\n",
    "\n",
    "sk = True\n",
    "\n",
    "for degree in range(5,7):\n",
    "    X = create_X(x,y,degree)\n",
    "\n",
    "\n",
    "    mean_folds_error = np.zeros(6)\n",
    "    mean_folds_error_sk = np.zeros(6)\n",
    "\n",
    "    mse_std_arr = np.zeros(6)\n",
    "    for folds in range(5,11):\n",
    "        \n",
    "        if sk == True:\n",
    "            sk_model = linear_model.LinearRegression()\n",
    "            sk_scores = cross_val_score(sk_model, X, z_flat, cv=folds, scoring = \"neg_mean_squared_error\")\n",
    "        else:\n",
    "     \n",
    "            implemented_scores = cross_val(k = folds, model = \"OLS\", X = X, z = z_flat, shuffle=True)\n",
    "            mean_folds_error[folds-5] = np.mean(implemented_scores)\n",
    "            mse_std_arr[folds-5] = np.std(implemented_scores)\n",
    "\n",
    "    plt.plot(np.arange(5,11), mean_folds_error, \"o--\",  label = \"Mean MSE CV\")\n",
    "    plt.plot(np.arange(5,11), mean_folds_error_sk, label = \"Mean MSE CV(sklearn)\")\n",
    "\n",
    "    plt.fill_between(np.arange(5,11), mean_folds_error-mse_std_arr, mean_folds_error+mse_std_arr,  alpha = 0.2)\n",
    "    plt.title(f\"Model complexity: {degree} degrees\")\n",
    "    plt.xlabel(\"K-fold\")\n",
    "    plt.ylabel(\"MSE\")\n",
    "    #plt.ylim(0,2)\n",
    "    plt.xticks(np.arange(5,11))\n",
    "    plt.grid(True)\n",
    "    plt.legend()\n",
    "    plt.savefig(f\"{REPORT_FIGURES}{EX6}mse_cv_boot{degree}.pdf\")\n",
    "\n",
    "    plt.show()\n"
   ],
   "outputs": [
    {
     "output_type": "display_data",
     "data": {
      "image/png": "[encoded data removed]",
      "text/plain": [
       "<Figure size 432x288 with 1 Axes>"
      ]
     },
     "metadata": {
      "needs_background": "light"
     }
    },
    {
     "output_type": "display_data",
     "data": {
      "image/png": "[encoded data removed]",
      "text/plain": [
       "<Figure size 432x288 with 1 Axes>"
      ]
     },
     "metadata": {
      "needs_background": "light"
     }
    }
   ],
   "metadata": {}
  },
  {
   "cell_type": "code",
   "execution_count": null,
   "source": [],
   "outputs": [],
   "metadata": {}
  }
 ],
 "metadata": {
  "orig_nbformat": 4,
  "language_info": {
   "name": "python",
   "version": "3.7.11",
   "mimetype": "text/x-python",
   "codemirror_mode": {
    "name": "ipython",
    "version": 3
   },
   "pygments_lexer": "ipython3",
   "nbconvert_exporter": "python",
   "file_extension": ".py"
  },
  "kernelspec": {
   "name": "python3",
   "display_name": "Python 3.9.7 64-bit ('fysstk_env': conda)"
  },
  "interpreter": {
   "hash": "9c543d25d076d866156e6f2c445c66d614286218a5e81464998dcfdeffc50581"
  }
 },
 "nbformat": 4,
 "nbformat_minor": 2
}