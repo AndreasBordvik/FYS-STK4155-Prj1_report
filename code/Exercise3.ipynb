{
 "cells": [
  {
   "cell_type": "markdown",
   "source": [
    "# Exercise 3:  Cross-validation as resampling techniques, adding more complexity (score 15 points)\n"
   ],
   "metadata": {}
  },
  {
   "cell_type": "markdown",
   "source": [
    "### Exercise 3:  Cross-validation as resampling techniques, adding more complexity (score 15 points)\n",
    "\n",
    "The aim here is to write your own code for another widely popular\n",
    "resampling technique, the so-called cross-validation method.  Again,\n",
    "before you start with cross-validation approach, you should scale your\n",
    "data.\n",
    "\n",
    "Implement the $k$-fold cross-validation algorithm (write your own\n",
    "code) and evaluate again the MSE function resulting\n",
    "from the test folds. You can compare your own code with that from\n",
    "**Scikit-Learn** if needed. \n",
    "\n",
    "Compare the MSE you get from your cross-validation code with the one\n",
    "you got from your **bootstrap** code. Comment your results. Try $5-10$\n",
    "folds.  You can also compare your own cross-validation code with the\n",
    "one provided by **Scikit-Learn**.\n"
   ],
   "metadata": {}
  },
  {
   "cell_type": "code",
   "execution_count": null,
   "source": [
    "import numpy as np\n",
    "from common import *\n",
    "from sklearn.model_selection import cross_val_score\n",
    "from sklearn import linear_model as sk\n",
    "\n",
    "#generate some data: \n",
    "np.random.seed(4155)\n",
    "n = 20\n",
    "x = np.sort(np.random.uniform(0, 1, n))\n",
    "y = np.sort(np.random.uniform(0, 1, n))\n",
    "x,y = np.meshgrid(x,y)\n",
    "\n",
    "degree = 5\n",
    "\n",
    "X = create_X(x,y,degree)\n",
    "t = FrankeFunction(x, y) + 0.3*np.random.randn(n)\n",
    "\n",
    "\n",
    "mean_folds_error = np.zeros(6)\n",
    "for folds in range(5,11):\n",
    "    sk_model = sk.LinearRegression()\n",
    "    sk_scores = cross_val_score(sk_model, X, t.ravel(), cv=folds, scoring = \"neg_mean_squared_error\")\n",
    "    k_fold_score = np.zeros(folds)\n",
    "    score = cross_val(k = folds, model = \"OLS\", X = X, z = t, shuffle=False)\n",
    "    #print(score)\n",
    "    plt.plot(np.arange(folds), score,\"-o\", label = f\"{folds} folds\")\n",
    "    plt.plot(np.arange(folds), sk_scores*-1,\"--o\", label = f\"{folds} folds(sk.cv)\")\n",
    "    plt.xlabel(\"fold # used as test data\")\n",
    "    plt.ylabel(\"MSE\")\n",
    "    plt.legend()\n",
    "    mean_folds_error[folds-5] = np.mean(score)\n",
    "   # print(sk_scores)\n"
   ],
   "outputs": [],
   "metadata": {}
  },
  {
   "cell_type": "code",
   "execution_count": null,
   "source": [
    "plt.plot(np.arange(5,11), mean_folds_error)\n",
    "plt.xlabel(\"Number of folds\")\n",
    "plt.ylabel(\"MSE\")"
   ],
   "outputs": [],
   "metadata": {}
  },
  {
   "cell_type": "code",
   "execution_count": null,
   "source": [],
   "outputs": [],
   "metadata": {}
  }
 ],
 "metadata": {
  "orig_nbformat": 4,
  "language_info": {
   "name": "python",
   "version": "3.8.8",
   "mimetype": "text/x-python",
   "codemirror_mode": {
    "name": "ipython",
    "version": 3
   },
   "pygments_lexer": "ipython3",
   "nbconvert_exporter": "python",
   "file_extension": ".py"
  },
  "kernelspec": {
   "name": "python3",
   "display_name": "Python 3.8.8 64-bit ('base': conda)"
  },
  "interpreter": {
   "hash": "dca0ade3e726a953b501b15e8e990130d2b7799f14cfd9f4271676035ebe5511"
  }
 },
 "nbformat": 4,
 "nbformat_minor": 2
}