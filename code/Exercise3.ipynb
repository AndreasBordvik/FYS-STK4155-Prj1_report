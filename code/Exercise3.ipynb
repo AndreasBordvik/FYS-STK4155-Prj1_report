{
 "cells": [
  {
   "cell_type": "markdown",
   "source": [
    "# Exercise 3:  Cross-validation as resampling techniques, adding more complexity (score 15 points)\n"
   ],
   "metadata": {}
  },
  {
   "cell_type": "markdown",
   "source": [
    "### Exercise 3:  Cross-validation as resampling techniques, adding more complexity (score 15 points)\n",
    "\n",
    "The aim here is to write your own code for another widely popular\n",
    "resampling technique, the so-called cross-validation method.  Again,\n",
    "before you start with cross-validation approach, you should scale your\n",
    "data.\n",
    "\n",
    "Implement the $k$-fold cross-validation algorithm (write your own\n",
    "code) and evaluate again the MSE function resulting\n",
    "from the test folds. You can compare your own code with that from\n",
    "**Scikit-Learn** if needed. \n",
    "\n",
    "Compare the MSE you get from your cross-validation code with the one\n",
    "you got from your **bootstrap** code. Comment your results. Try $5-10$\n",
    "folds.  You can also compare your own cross-validation code with the\n",
    "one provided by **Scikit-Learn**.\n"
   ],
   "metadata": {}
  },
  {
   "cell_type": "code",
   "execution_count": null,
   "source": [
    "import matplotlib.pyplot as plt\n",
    "import numpy as np\n",
    "from sklearn.linear_model import LinearRegression, Ridge, Lasso\n",
    "from sklearn.preprocessing import PolynomialFeatures\n",
    "from sklearn.model_selection import train_test_split\n",
    "from sklearn.pipeline import make_pipeline\n",
    "from sklearn.utils import resample\n",
    "import common\n",
    "from sklearn.preprocessing import StandardScaler\n",
    "from tqdm import tqdm\n",
    "from typing import Tuple\n",
    "\n",
    "np.random.seed(4155)\n",
    "\n",
    "\n",
    "def cross_val(x_data:np.ndarray, y_data:np.ndarray, model= LinearRegression(),k_folds_from = 5,k_folds_to = 11)-> Tuple[list, list]:\n",
    "    print(f\"x_data.shape: {x_data.shape}\")\n",
    "    numb_of_its = k_folds_to-k_folds_from\n",
    "    \n",
    "    mean_MSE_test = np.zeros(numb_of_its)\n",
    "    mean_MSE_train = np.zeros(numb_of_its)\n",
    "    \n",
    "    inds = np.arange(n)\n",
    "    #shuffle indicies to create random folds: \n",
    "    np.random.shuffle(inds)\n",
    "    \n",
    "    #create array for plotting:\n",
    "    folds = np.zeros(numb_of_its)\n",
    "    for fold in range(k_folds_from,k_folds_to):\n",
    "        #split inds into multiple sub-arrays of equal or aprox equal size: \n",
    "        fold_inds = np.array_split(inds, fold)\n",
    "        MSE_test = np.zeros(fold)\n",
    "        MSE_train = np.zeros(fold)\n",
    "        folds[fold-k_folds_from] = fold \n",
    "        for k in range(fold):\n",
    "            #get array elements at indx k from folds_inds and use as test data: \n",
    "            x_test = x_data[fold_inds[k],:]\n",
    "            y_test = y_data[fold_inds[k]]\n",
    "        # print(f\"x_test.shape: {x_test.shape}\")\n",
    "\n",
    "            #create training data by removing test-indicies from data\n",
    "            x_train = np.delete(arr = x_data, obj = fold_inds[k],axis = 0)\n",
    "            y_train = np.delete(y_data, fold_inds[k])\n",
    "            \n",
    "            # Scale data: \n",
    "            scaler = StandardScaler()\n",
    "            scaler.fit(x_train)\n",
    "            x_train_scaled = scaler.transform(x_train)\n",
    "            x_test_scaled = scaler.transform(x_test)\n",
    "            \n",
    "            #fit model and predict on test data:\n",
    "            clf =  model.fit(x_train_scaled, y_train)\n",
    "            y_pred = clf.predict(x_test_scaled).reshape(-1,1)\n",
    "            #predict on train data:\n",
    "            y_fit = clf.predict(x_train_scaled).reshape(-1,1)\n",
    "            # print(f\"y_test.shape: {y_test.shape}, y_pred.shape = {y_pred.shape}\")\n",
    "            \n",
    "            MSE_test[k] = np.mean((y_test - y_pred)**2)\n",
    "            MSE_train[k] = np.mean((y_train - y_fit)**2) \n",
    "            \n",
    "        mean_MSE_test[fold-k_folds_to] = np.mean(MSE_test)\n",
    "        mean_MSE_train[fold-k_folds_to] = np.mean(MSE_train)\n",
    "        \n",
    "    return mean_MSE_test,mean_MSE_train, folds\n",
    "     \n",
    "        "
   ],
   "outputs": [],
   "metadata": {}
  },
  {
   "cell_type": "code",
   "execution_count": null,
   "source": [],
   "outputs": [],
   "metadata": {}
  },
  {
   "cell_type": "code",
   "execution_count": null,
   "source": [
    "\n",
    "\n",
    "\n",
    "np.random.seed(4155)\n",
    "\n",
    "# Generate the data.\n",
    "n = 25\n",
    "x = np.sort(np.random.uniform(0, 1, n))\n",
    "y = np.sort(np.random.uniform(0, 1, n))\n",
    "x,y = np.meshgrid(x,y)\n",
    "\n",
    "z = common.FrankeFunction(x, y) + 0.3*np.random.normal(0, size = n)\n",
    "\n",
    "for degree in range(10):\n",
    "    \n",
    "    X = common.create_X(x, y, n=degree)  \n",
    "    MSE_test, MSE_train, folds = cross_val(x_data= X,y_data=z)\n",
    "    plt.plot(folds, MSE_test,\"m\", label='MSE_test')\n",
    "    plt.plot(folds, MSE_train,\"c\", label='MSE_train')\n",
    "\n",
    "    plt.xlabel(f\"folds at polynomial degree:{degree}\")\n",
    "    plt.ylabel(\"Error\")\n",
    "\n",
    "    plt.grid(True)\n",
    "    plt.legend()\n",
    "    plt.show()"
   ],
   "outputs": [],
   "metadata": {}
  },
  {
   "cell_type": "code",
   "execution_count": null,
   "source": [],
   "outputs": [],
   "metadata": {}
  }
 ],
 "metadata": {
  "orig_nbformat": 4,
  "language_info": {
   "name": "python",
   "version": "3.8.8",
   "mimetype": "text/x-python",
   "codemirror_mode": {
    "name": "ipython",
    "version": 3
   },
   "pygments_lexer": "ipython3",
   "nbconvert_exporter": "python",
   "file_extension": ".py"
  },
  "kernelspec": {
   "name": "python3",
   "display_name": "Python 3.8.8 64-bit ('base': conda)"
  },
  "interpreter": {
   "hash": "dca0ade3e726a953b501b15e8e990130d2b7799f14cfd9f4271676035ebe5511"
  }
 },
 "nbformat": 4,
 "nbformat_minor": 2
}