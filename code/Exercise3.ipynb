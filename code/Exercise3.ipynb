{
 "cells": [
  {
   "cell_type": "markdown",
   "source": [
    "# Exercise 3:  Cross-validation as resampling techniques, adding more complexity (score 15 points)\n"
   ],
   "metadata": {}
  },
  {
   "cell_type": "markdown",
   "source": [
    "### Exercise 3:  Cross-validation as resampling techniques, adding more complexity (score 15 points)\n",
    "\n",
    "The aim here is to write your own code for another widely popular\n",
    "resampling technique, the so-called cross-validation method.  Again,\n",
    "before you start with cross-validation approach, you should scale your\n",
    "data.\n",
    "\n",
    "Implement the $k$-fold cross-validation algorithm (write your own\n",
    "code) and evaluate again the MSE function resulting\n",
    "from the test folds. You can compare your own code with that from\n",
    "**Scikit-Learn** if needed. \n",
    "\n",
    "Compare the MSE you get from your cross-validation code with the one\n",
    "you got from your **bootstrap** code. Comment your results. Try $5-10$\n",
    "folds.  You can also compare your own cross-validation code with the\n",
    "one provided by **Scikit-Learn**.\n"
   ],
   "metadata": {}
  },
  {
   "cell_type": "code",
   "execution_count": null,
   "source": [
    "import numpy as np\n",
    "from common import *\n",
    "from sklearn.model_selection import cross_val_score\n",
    "from sklearn import linear_model\n",
    "\n",
    "\n",
    "#generate some data:\n",
    "SEED_VALUE = np.random.seed(4155)\n",
    "n = 22\n",
    "x = np.sort(np.random.uniform(0, 1, n))\n",
    "y = np.sort(np.random.uniform(0, 1, n))\n",
    "x,y = np.meshgrid(x,y)\n",
    "t = FrankeFunction(x, y) + noise_factor(n, factor=0.3)\n",
    "ndegrees = 14\n",
    "\n",
    "boot_strp_MSE_test, _, _, boot_strp_variance = bootstrap(x, y, t, ndegrees, n - int(n/5), OLS(), SEED_VALUE)\n",
    "boot_strp_std = np.sqrt(boot_strp_variance)\n",
    "\n",
    "\n",
    "for degree in range(3,14):\n",
    "    X = create_X(x,y,degree)\n",
    "\n",
    "\n",
    "    mean_folds_error = np.zeros(6)\n",
    "    mse_std_arr = np.zeros(6)\n",
    "    for folds in range(5,11):\n",
    "     \n",
    "        implemented_scores = cross_val(k = folds, model = \"OLS\", X = X, z = t, shuffle=True)\n",
    "        mean_folds_error[folds-5] = np.mean(implemented_scores)\n",
    "        mse_std_arr[folds-5] = np.std(implemented_scores)\n",
    "        \n",
    "        \n",
    "    plt.plot(np.arange(5,11), np.ones(6)*boot_strp_MSE_test[degree],\"--\", label =\"Mean MSE bootstrap with STD\")\n",
    "    plt.fill_between(np.arange(5,11), np.ones(6)*boot_strp_MSE_test[degree]-boot_strp_std[degree],\n",
    "                     np.ones(6)*boot_strp_MSE_test[degree]+boot_strp_std[degree], alpha = 0.2 )\n",
    "    plt.plot(np.arange(5,11), mean_folds_error, \"o--\",  label = \"Mean MSE CV\")\n",
    "    plt.fill_between(np.arange(5,11), mean_folds_error-mse_std_arr, mean_folds_error+mse_std_arr,  alpha = 0.2, color = \"darkorange\")\n",
    "    plt.title(f\"Model complexity: {degree} degrees\")\n",
    "    plt.xlabel(\"K-fold\")\n",
    "    plt.ylabel(\"MSE\")\n",
    "    #plt.ylim(0,2)\n",
    "    plt.xticks(np.arange(5,11))\n",
    "    plt.grid(True)\n",
    "    plt.legend()\n",
    "    plt.savefig(f\"{REPORT_FIGURES}{EX3}mse_cv_boot{degree}.pdf\")\n",
    "\n",
    "    plt.show()"
   ],
   "outputs": [],
   "metadata": {}
  },
  {
   "cell_type": "markdown",
   "source": [
    "### Compare MSE from CV with bootstrap: "
   ],
   "metadata": {}
  },
  {
   "cell_type": "code",
   "execution_count": null,
   "source": [
    "import numpy as np\n",
    "from common import *\n",
    "from sklearn.model_selection import cross_val_score\n",
    "from sklearn import linear_model\n",
    "\n",
    "\n",
    "#generate some data: \n",
    "SEED_VALUE = np.random.seed(4155)\n",
    "n = 10\n",
    "x = np.sort(np.random.uniform(0, 1, n))\n",
    "y = np.sort(np.random.uniform(0, 1, n))\n",
    "x,y = np.meshgrid(x,y)\n",
    "t = FrankeFunction(x, y) + noise_factor(n, factor=0.1)\n",
    "\n",
    "degree = 5\n",
    "\n",
    "X = create_X(x,y,degree)\n",
    "\n",
    "\n",
    "mean_folds_error = np.zeros(6)\n",
    "mean_folds_error_sk = np.zeros(6)\n",
    "mse_std_arr = np.zeros(6)\n",
    "for folds in range(5,11):\n",
    "    #create LinearRegression model object from SK to use in sk.cross_val_score\n",
    "    sk_model = linear_model.LinearRegression()\n",
    "    #Get scores from SK crossval:\n",
    "    sk_scores = cross_val_score(sk_model, X, t.ravel(), cv=folds, scoring = \"neg_mean_squared_error\")\n",
    "\n",
    "    implemented_scores = cross_val(k = folds, model = \"OLS\", X = X, z = t)\n",
    "    \n",
    "    sk_scores = sk_scores*-1\n",
    "    mean_folds_error[folds-5] = np.mean(implemented_scores)\n",
    "    mean_folds_error_sk[folds-5] = np.mean(sk_scores)\n",
    "    mse_std_arr[folds-5] = np.std(implemented_scores)\n",
    "    \n",
    "plt.plot(np.arange(5,11), mean_folds_error, \"o--\",  label = \"Mean MSE CV(implemented)\")\n",
    "plt.plot(np.arange(5,11), mean_folds_error_sk, label = \"Mean MSE CV(sklearn)\")\n",
    "plt.title(f\"Model complexity: {degree} degrees\")\n",
    "plt.xlabel(\"K-fold\")\n",
    "plt.ylabel(\"MSE\")\n",
    "plt.xticks(np.arange(5,11))\n",
    "plt.grid(True)\n",
    "plt.legend()\n",
    "plt.savefig(f\"{REPORT_FIGURES}{EX3}sk_vs_implemented_CV.pdf\")\n",
    "\n",
    "plt.show()"
   ],
   "outputs": [],
   "metadata": {}
  },
  {
   "cell_type": "code",
   "execution_count": null,
   "source": [],
   "outputs": [],
   "metadata": {}
  }
 ],
 "metadata": {
  "orig_nbformat": 4,
  "language_info": {
   "name": "python",
   "version": "3.9.7",
   "mimetype": "text/x-python",
   "codemirror_mode": {
    "name": "ipython",
    "version": 3
   },
   "pygments_lexer": "ipython3",
   "nbconvert_exporter": "python",
   "file_extension": ".py"
  },
  "kernelspec": {
   "name": "python3",
   "display_name": "Python 3.9.7 64-bit"
  },
  "interpreter": {
   "hash": "e7370f93d1d0cde622a1f8e1c04877d8463912d04d973331ad4851f04de6915a"
  }
 },
 "nbformat": 4,
 "nbformat_minor": 2
}