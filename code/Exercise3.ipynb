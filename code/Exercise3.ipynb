{
 "cells": [
  {
   "cell_type": "markdown",
   "source": [
    "# Exercise 3:  Cross-validation as resampling techniques, adding more complexity (score 15 points)\n"
   ],
   "metadata": {}
  },
  {
   "cell_type": "markdown",
   "source": [
    "### Exercise 3:  Cross-validation as resampling techniques, adding more complexity (score 15 points)\n",
    "\n",
    "The aim here is to write your own code for another widely popular\n",
    "resampling technique, the so-called cross-validation method.  Again,\n",
    "before you start with cross-validation approach, you should scale your\n",
    "data.\n",
    "\n",
    "Implement the $k$-fold cross-validation algorithm (write your own\n",
    "code) and evaluate again the MSE function resulting\n",
    "from the test folds. You can compare your own code with that from\n",
    "**Scikit-Learn** if needed. \n",
    "\n",
    "Compare the MSE you get from your cross-validation code with the one\n",
    "you got from your **bootstrap** code. Comment your results. Try $5-10$\n",
    "folds.  You can also compare your own cross-validation code with the\n",
    "one provided by **Scikit-Learn**.\n"
   ],
   "metadata": {}
  },
  {
   "cell_type": "code",
   "execution_count": null,
   "source": [
    "import numpy as np\n",
    "from common import *\n",
    "from sklearn.model_selection import cross_val_score\n",
    "from sklearn import linear_model\n",
    "\n",
    "\n",
    "#generate some data: \n",
    "np.random.seed(4155)\n",
    "n = 20\n",
    "x = np.sort(np.random.uniform(0, 1, n))\n",
    "y = np.sort(np.random.uniform(0, 1, n))\n",
    "x,y = np.meshgrid(x,y)\n",
    "\n",
    "#ndegrees = 14\n",
    "bootstrap_MSE_std = pd.read_csv(f\"{REPORT_DATA}EX2_bootstrap_test_MSE.csv\")\n",
    "\n",
    "for degree in (1,3,6,11):\n",
    "    X = create_X(x,y,degree)\n",
    "    t = FrankeFunction(x, y) + 0.4*np.random.randn(n)\n",
    "\n",
    "    mean_folds_error = np.zeros(6)\n",
    "    mse_std_arr = np.zeros(6)\n",
    "    for folds in range(5,11):\n",
    "        #create LinearRegression model object from SK to use in sk.cross_val_score\n",
    "        sk_model = linear_model.LinearRegression()\n",
    "        #Get scores from SK crossval:\n",
    "        sk_scores = cross_val_score(sk_model, X, t.ravel(), cv=folds, scoring = \"neg_mean_squared_error\")\n",
    "        \n",
    "\n",
    "        implemented_scores = cross_val(k = folds, model = \"OLS\", X = X, z = t, shuffle=True, scale = True)\n",
    "        # plt.plot(np.arange(1,folds+1), implemented_scores,\"-o\", label = f\"Splitted in {folds} folds\")\n",
    "        # #plt.plot(np.arange(folds), sk_scores*-1,\"--o\", label = f\"{folds} folds(sk.cv)\")\n",
    "        # plt.xlabel(\"MSE at testfold number\")\n",
    "        # plt.ylabel(\"MSE\")\n",
    "        # plt.title(f\"Complexity degree: {degree} \")\n",
    "        # plt.ylim(0,1)\n",
    "        # plt.xticks(np.arange(1,folds+1))\n",
    "        # plt.grid(True)\n",
    "        # plt.legend()\n",
    "        mean_folds_error[folds-5] = np.mean(implemented_scores)\n",
    "        mse_std_arr[folds-5] = np.std(implemented_scores)\n",
    "        \n",
    "        \n",
    "    plt.errorbar(np.arange(5,11), mean_folds_error, yerr = mse_std_arr, fmt='o--', ecolor='deeppink', capthick=2)\n",
    "    boot_vals = bootstrap_MSE_std.iloc[degree, 1:4]\n",
    "    plt.plot(np.arange(5,11), np.ones(6)*boot_vals[1], \"o-\")\n",
    "    plt.fill_between(np.arange(5,11),np.ones(6)*boot_vals[1]-boot_vals[2], np.ones(6)*boot_vals[1]+boot_vals[2], alpha=0.2) \n",
    "    plt.title(f\"Model complexity: {degree} degrees\")\n",
    "    plt.xlabel(\"K-fold\")\n",
    "    plt.ylabel(\"MSE\")\n",
    "    #plt.errorbar(np.arange(5,11), mse_std_arr)\n",
    "    plt.ylim(0,1)\n",
    "    plt.xticks(np.arange(5,11))\n",
    "    plt.grid(True)\n",
    "\n",
    "    plt.show()\n"
   ],
   "outputs": [],
   "metadata": {}
  },
  {
   "cell_type": "markdown",
   "source": [
    "### Compare MSE from CV with bootstrap: "
   ],
   "metadata": {}
  },
  {
   "cell_type": "code",
   "execution_count": null,
   "source": [
    "bootstrap_MSE_std = pd.read_csv(f\"{REPORT_DATA}EX2_bootstrap_test_MSE.csv\")\n",
    "bootstrap_MSE_std"
   ],
   "outputs": [],
   "metadata": {}
  },
  {
   "cell_type": "code",
   "execution_count": null,
   "source": [],
   "outputs": [],
   "metadata": {}
  },
  {
   "cell_type": "code",
   "execution_count": null,
   "source": [],
   "outputs": [],
   "metadata": {}
  }
 ],
 "metadata": {
  "orig_nbformat": 4,
  "language_info": {
   "name": "python",
   "version": "3.9.7",
   "mimetype": "text/x-python",
   "codemirror_mode": {
    "name": "ipython",
    "version": 3
   },
   "pygments_lexer": "ipython3",
   "nbconvert_exporter": "python",
   "file_extension": ".py"
  },
  "kernelspec": {
   "name": "python3",
   "display_name": "Python 3.9.7 64-bit"
  },
  "interpreter": {
   "hash": "e7370f93d1d0cde622a1f8e1c04877d8463912d04d973331ad4851f04de6915a"
  }
 },
 "nbformat": 4,
 "nbformat_minor": 2
}