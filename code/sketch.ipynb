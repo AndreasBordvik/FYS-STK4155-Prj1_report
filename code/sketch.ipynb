{
 "cells": [
  {
   "cell_type": "code",
   "execution_count": null,
   "source": [
    "\n"
   ],
   "outputs": [],
   "metadata": {}
  },
  {
   "cell_type": "code",
   "execution_count": 4,
   "source": [
    "\n",
    "import matplotlib.pyplot as plt\n",
    "import numpy as np\n",
    "import sklearn.linear_model as lm\n",
    "from sklearn.preprocessing import PolynomialFeatures\n",
    "from sklearn.model_selection import train_test_split\n",
    "from sklearn.pipeline import make_pipeline\n",
    "from sklearn.utils import resample\n",
    "from sklearn.preprocessing import StandardScaler\n",
    "from tqdm import tqdm\n",
    "\n",
    "\n",
    "def prepare_data(X: np.ndarray, t: np.ndarray, test_size=0.2):\n",
    "    # split in training and test data\n",
    "\n",
    "    X_train, X_test, t_train, t_test = train_test_split(\n",
    "        X, t, test_size=test_size)\n",
    "\n",
    "    return X_train, X_test, t_train, t_test\n",
    "\n",
    "def FrankeFunction(x,y):\n",
    "\tterm1 = 0.75*np.exp(-(0.25*(9*x-2)**2) - 0.25*((9*y-2)**2))\n",
    "\tterm2 = 0.75*np.exp(-((9*x+1)**2)/49.0 - 0.1*(9*y+1))\n",
    "\tterm3 = 0.5*np.exp(-(9*x-7)**2/4.0 - 0.25*((9*y-3)**2))\n",
    "\tterm4 = -0.2*np.exp(-(9*x-4)**2 - (9*y-7)**2)\n",
    "\treturn term1 + term2 + term3 + term4\n",
    "\n",
    "\n",
    "def create_X(x, y, n ):\n",
    "\tif len(x.shape) > 1:\n",
    "\t\tx = np.ravel(x)\n",
    "\t\ty = np.ravel(y)\n",
    "\n",
    "\tN = len(x)\n",
    "\tl = int((n+1)*(n+2)/2)\t\t# Number of elements in beta\n",
    "\tX = np.ones((N,l))\n",
    "\n",
    "\tfor i in range(1,n+1):\n",
    "\t\tq = int((i)*(i+1)/2)\n",
    "\t\tfor k in range(i+1):\n",
    "\t\t\tX[:,q+k] = (x**(i-k))*(y**k)\n",
    "\n",
    "\treturn X\n",
    "\n",
    "def noise_factor(n, factor=0.3):\n",
    "    return factor*np.random.randn(n, n)  # Stochastic noise\n",
    "\n",
    "\n",
    "\n",
    "# Making meshgrid of datapoints and compute Franke's function\n",
    "np.random.seed(4155)\n",
    "maxdegree = 10\n",
    "n = 20\n",
    "n_bootstraps = n - int(n/10)\n",
    "x = np.sort(np.random.uniform(0, 1, n)) \n",
    "y = np.sort(np.random.uniform(0, 1, n))\n",
    "x,y = np.meshgrid(x,y)\n",
    "z = FrankeFunction(x,y) + 0.2*np.random.randn(n,n) \n",
    "\n",
    "\n",
    "# print(X.shape)\n",
    "# print(z.shape)\n",
    "\n",
    "# Hold out some test data that is never used in training.\n",
    "\n",
    "n_bootstraps = n - int(n/10)\n",
    "# The following (m x n_bootstraps) matrix holds the column vectors y_pred\n",
    "# for each bootstrap iteration.\n",
    "MSE_test = np.zeros(maxdegree)\n",
    "MSE_train = np.zeros(maxdegree)\n",
    "for degree in range(1,maxdegree+1):\n",
    "    \n",
    "\tX = create_X(x, y, maxdegree)\n",
    "\tz_flat = z.ravel().reshape(-1,1)\n",
    "    \n",
    "    \n",
    "\n",
    "\tx_train, x_test, t_train, t_test = train_test_split(X, z_flat, test_size=0.2)\n",
    " \n",
    "\tt_hat_trains = np.empty((t_train.shape[0], n_bootstraps))\n",
    "\tt_hat_tests = np.empty((t_test.shape[0], n_bootstraps))\n",
    " \n",
    "\tfor i in range(n_bootstraps):\n",
    "\t\tx_, y_ = resample(x_train, t_train)\n",
    "\t\tmodel = lm.LinearRegression().fit(x_,y_)\n",
    "\t\tt_hat_train = model.predict(x_)\t\t\n",
    "\t\tt_hat_test = model.predict(x_test)\n",
    "\n",
    "\t\tt_hat_trains[:, i] = t_hat_train.ravel()\n",
    "\t\tt_hat_tests[:, i] = t_hat_test.ravel()\n",
    "\t\n",
    "\tMSE_test[degree-1] = np.mean( np.mean((t_test - t_hat_test)**2, axis=1, keepdims=True))\n",
    "\tMSE_train[degree-1] = np.mean(np.mean((t_train - t_hat_train)**2, axis=1, keepdims=True))\n",
    "plt.semilogy(np.arange(1,maxdegree+1), MSE_test, label=\"MSE_test\")\n",
    "plt.semilogy(np.arange(1,maxdegree+1), MSE_train,label=\"MSE_train\")\n",
    "# plt.ylim(0,5)\n",
    "plt.legend()"
   ],
   "outputs": [
    {
     "output_type": "execute_result",
     "data": {
      "text/plain": [
       "<matplotlib.legend.Legend at 0x7ffba3984b80>"
      ]
     },
     "metadata": {},
     "execution_count": 4
    },
    {
     "output_type": "display_data",
     "data": {
      "image/png": "[encoded data removed]",
      "text/plain": [
       "<Figure size 432x288 with 1 Axes>"
      ]
     },
     "metadata": {
      "needs_background": "light"
     }
    }
   ],
   "metadata": {}
  },
  {
   "cell_type": "code",
   "execution_count": null,
   "source": [],
   "outputs": [],
   "metadata": {}
  }
 ],
 "metadata": {
  "orig_nbformat": 4,
  "language_info": {
   "name": "python",
   "version": "3.8.8",
   "mimetype": "text/x-python",
   "codemirror_mode": {
    "name": "ipython",
    "version": 3
   },
   "pygments_lexer": "ipython3",
   "nbconvert_exporter": "python",
   "file_extension": ".py"
  },
  "kernelspec": {
   "name": "python3",
   "display_name": "Python 3.8.8 64-bit ('base': conda)"
  },
  "interpreter": {
   "hash": "dca0ade3e726a953b501b15e8e990130d2b7799f14cfd9f4271676035ebe5511"
  }
 },
 "nbformat": 4,
 "nbformat_minor": 2
}