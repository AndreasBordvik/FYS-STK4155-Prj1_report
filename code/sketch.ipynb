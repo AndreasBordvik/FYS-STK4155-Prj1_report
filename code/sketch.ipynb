{
 "cells": [
  {
   "cell_type": "code",
   "execution_count": 33,
   "source": [],
   "outputs": [
    {
     "output_type": "stream",
     "name": "stdout",
     "text": [
      "X.shape:(625, 6)\n",
      "z.shape: (25, 25)\n"
     ]
    }
   ],
   "metadata": {}
  },
  {
   "cell_type": "code",
   "execution_count": 34,
   "source": [
    "from typing import Callable\n",
    "\n",
    "def cross_val(k:int, model:str, lmb:int, X:np.ndarray, z:np.ndarray)-> np.ndarray:    \n",
    "    if model == \"ridge\":  \n",
    "        model = RidgeRegression(lambda_val = lmb)\n",
    "    if model == \"lasso\":\n",
    "        model = LassoRegression(alpha = lmb)\n",
    "    if model == \"OLS\":\n",
    "        model = OLS()\n",
    "    \n",
    "    kfold = KFold(n_splits = k)\n",
    "    scores_KFold = np.zeros(k)\n",
    "    z = z.ravel()\n",
    "    #scores_KFold idx counter         \n",
    "    j = 0\n",
    "    for train_inds, test_inds in kfold.split(X,z):\n",
    "        # print(f\"train_inds: {train_inds}\")\n",
    "        # print(f\"test_inds: {test_inds}\")\n",
    "        \n",
    "        #get all cols and selected train_inds rows:\n",
    "        xtrain = X[train_inds,:]\n",
    "        ytrain = z[train_inds]\n",
    "        #get all cols and selected test_inds rows:\n",
    "        xtest = X[test_inds,:]\n",
    "        ytest = z[test_inds]\n",
    "        model.fit(xtrain,ytrain)\n",
    "        ypred = model.predict(xtest)\n",
    "        scores_KFold[j] = np.sum((ypred - ytest)**2)/np.size(ypred)\n",
    "        j += 1\n",
    "\n",
    "    return np.mean(scores_KFold)"
   ],
   "outputs": [],
   "metadata": {}
  },
  {
   "cell_type": "code",
   "execution_count": 30,
   "source": [
    "import numpy as np\n",
    "import matplotlib.pyplot as plt\n",
    "from sklearn.model_selection import KFold\n",
    "from sklearn.linear_model import Ridge\n",
    "from sklearn.model_selection import cross_val_score\n",
    "from sklearn.preprocessing import PolynomialFeatures\n",
    "from common import *\n",
    "\n",
    "# A seed just to ensure that the random numbers are the same for every run.\n",
    "# Useful for eventual debugging.\n",
    "np.random.seed(4155)\n",
    "\n",
    "def FrankeFunction(x: float ,y: float) -> float:\n",
    "    term1 = 0.75*np.exp(-(0.25*(9*x-2)**2) - 0.25*((9*y-2)**2))\n",
    "    term2 = 0.75*np.exp(-((9*x+1)**2)/49.0 - 0.1*(9*y+1))\n",
    "    term3 = 0.5*np.exp(-(9*x-7)**2/4.0 - 0.25*((9*y-3)**2))\n",
    "    term4 = -0.2*np.exp(-(9*x-4)**2 - (9*y-7)**2)\n",
    "    return term1 + term2 + term3 + term4\n",
    "\n",
    "def create_X(x:np.ndarray, y:np.ndarray, n:int)->np.ndarray:\n",
    "    if (len(x.shape)) > 1:\n",
    "        x = np.ravel(x)\n",
    "        y = np.ravel(y)\n",
    "\n",
    "    N = len(x)\n",
    "    l = int((n+1)*(n+2)/2) # Number of elements in beta\n",
    "    X = np.ones((N,l))\n",
    "\n",
    "    for i in range(1,n+1):\n",
    "        q = int((i)*(i+1)/2)\n",
    "        for k in range(i+1):\n",
    "            X[:,q+k] = (x**(i-k))*(y**k)\n",
    "\n",
    "    return X\n",
    "\n",
    "# Generate the data.\n",
    "n = 25\n",
    "x = np.sort(np.random.uniform(0, 1, n))\n",
    "y = np.sort(np.random.uniform(0, 1, n))\n",
    "x,y = np.meshgrid(x,y)\n",
    "\n",
    "degree = 2\n",
    "X = create_X(x,y,degree)\n",
    "print(f\"X.shape:{X.shape}\")\n",
    "z = FrankeFunction(x, y) + 0.3*np.random.normal(0, size = n)\n",
    "print(f\"z.shape: {z.shape}\")\n",
    "# Decide degree on polynomial to fit\n",
    "\n",
    "# Decide which values of lambda to use\n",
    "nlambdas = 10\n",
    "lambdas = np.logspace(-3, 5, nlambdas)\n"
   ],
   "outputs": [
    {
     "output_type": "execute_result",
     "data": {
      "text/plain": [
       "625"
      ]
     },
     "metadata": {},
     "execution_count": 30
    }
   ],
   "metadata": {}
  },
  {
   "cell_type": "code",
   "execution_count": null,
   "source": [],
   "outputs": [],
   "metadata": {}
  }
 ],
 "metadata": {
  "orig_nbformat": 4,
  "language_info": {
   "name": "python",
   "version": "3.8.8",
   "mimetype": "text/x-python",
   "codemirror_mode": {
    "name": "ipython",
    "version": 3
   },
   "pygments_lexer": "ipython3",
   "nbconvert_exporter": "python",
   "file_extension": ".py"
  },
  "kernelspec": {
   "name": "python3",
   "display_name": "Python 3.8.8 64-bit ('base': conda)"
  },
  "interpreter": {
   "hash": "dca0ade3e726a953b501b15e8e990130d2b7799f14cfd9f4271676035ebe5511"
  }
 },
 "nbformat": 4,
 "nbformat_minor": 2
}