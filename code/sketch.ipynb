{
 "cells": [
  {
   "cell_type": "code",
   "execution_count": 33,
   "source": [],
   "outputs": [
    {
     "output_type": "stream",
     "name": "stdout",
     "text": [
      "X.shape:(625, 6)\n",
      "z.shape: (25, 25)\n"
     ]
    }
   ],
   "metadata": {}
  },
  {
   "cell_type": "code",
   "execution_count": 2,
   "source": [
    "import numpy as np\n",
    "import matplotlib.pyplot as plt\n",
    "from sklearn.model_selection import KFold\n",
    "from sklearn.linear_model import Ridge\n",
    "from sklearn.model_selection import cross_val_score\n",
    "from sklearn.preprocessing import PolynomialFeatures\n",
    "from common import *\n",
    "\n",
    "def cross_val(k:int, model:str, lmb:int, X:np.ndarray, z:np.ndarray)-> np.ndarray:\n",
    "    \"\"\"Function for cross validating on k folds\n",
    "\n",
    "    Args:\n",
    "        k (int): Number of folds\n",
    "        model (str): Linear regression model\n",
    "        lmb (int): lambda value\n",
    "        X (np.ndarray): Design matrix\n",
    "        z (np.ndarray): target values\n",
    "\n",
    "    Returns:\n",
    "        np.ndarray: Mean score of MSE on all k folds\n",
    "    \"\"\"\n",
    "    if model == \"Ridge\":  \n",
    "        model = RidgeRegression(lambda_val = lmb)\n",
    "    elif model == \"Lasso\":\n",
    "        model = LassoRegression(lambda_val = lmb)\n",
    "    elif model == \"OLS\":\n",
    "        model = OLS()\n",
    "    else: \n",
    "        \"Provide a valid model as a string(Ridge/Lasso/OLS) \"\n",
    "    \n",
    "    kfold = KFold(n_splits = k)\n",
    "    scores_KFold = np.zeros(k)\n",
    "    z = z.ravel()\n",
    "    #scores_KFold idx counter         \n",
    "    j = 0\n",
    "    for train_inds, test_inds in kfold.split(X,z):\n",
    "        \n",
    "        #get all cols and selected train_inds rows:\n",
    "        xtrain = X[train_inds,:]\n",
    "        ytrain = z[train_inds]\n",
    "        #get all cols and selected test_inds rows:\n",
    "        xtest = X[test_inds,:]\n",
    "        ytest = z[test_inds]\n",
    "        model.fit(xtrain,ytrain)\n",
    "        ypred = model.predict(xtest)\n",
    "        scores_KFold[j] = np.sum((ypred - ytest)**2)/np.size(ypred)\n",
    "        j += 1\n",
    "\n",
    "    return np.mean(scores_KFold)"
   ],
   "outputs": [],
   "metadata": {}
  },
  {
   "cell_type": "code",
   "execution_count": 11,
   "source": [
    "import numpy as np\n",
    "import matplotlib.pyplot as plt\n",
    "from sklearn.model_selection import KFold\n",
    "from sklearn.linear_model import Ridge\n",
    "from sklearn.model_selection import cross_val_score\n",
    "from sklearn.preprocessing import PolynomialFeatures\n",
    "from common import *\n",
    "\n",
    "# A seed just to ensure that the random numbers are the same for every run.\n",
    "# Useful for eventual debugging.\n",
    "np.random.seed(4155)\n",
    "\n",
    "def FrankeFunction(x: float ,y: float) -> float:\n",
    "    term1 = 0.75*np.exp(-(0.25*(9*x-2)**2) - 0.25*((9*y-2)**2))\n",
    "    term2 = 0.75*np.exp(-((9*x+1)**2)/49.0 - 0.1*(9*y+1))\n",
    "    term3 = 0.5*np.exp(-(9*x-7)**2/4.0 - 0.25*((9*y-3)**2))\n",
    "    term4 = -0.2*np.exp(-(9*x-4)**2 - (9*y-7)**2)\n",
    "    return term1 + term2 + term3 + term4\n",
    "\n",
    "def create_X(x:np.ndarray, y:np.ndarray, n:int)->np.ndarray:\n",
    "    if (len(x.shape)) > 1:\n",
    "        x = np.ravel(x)\n",
    "        y = np.ravel(y)\n",
    "\n",
    "    N = len(x)\n",
    "    l = int((n+1)*(n+2)/2) # Number of elements in beta\n",
    "    X = np.ones((N,l))\n",
    "\n",
    "    for i in range(1,n+1):\n",
    "        q = int((i)*(i+1)/2)\n",
    "        for k in range(i+1):\n",
    "            X[:,q+k] = (x**(i-k))*(y**k)\n",
    "\n",
    "    return X\n",
    "\n",
    "# Generate the data.\n",
    "n = 25\n",
    "x = np.sort(np.random.uniform(0, 1, n))\n",
    "y = np.sort(np.random.uniform(0, 1, n))\n",
    "x,y = np.meshgrid(x,y)\n",
    "\n",
    "degree = 2\n",
    "X = create_X(x,y,degree)\n",
    "t = FrankeFunction(x, y) + 0.3*np.random.normal(0, size = n)\n",
    "# Decide degree on polynomial to fit\n",
    "\n",
    "# Decide which values of lambda to use\n",
    "nlambdas = 10\n",
    "lambdas = np.logspace(-3, 5, nlambdas)\n",
    "\n",
    "\n",
    "scores = np.zeros(nlambdas)\n",
    "for lmb in range(nlambdas):\n",
    "    score = cross_val(5,\"ridge\",lambdas[lmb],X,t)\n",
    "    scores[lmb] = score\n",
    "    print(score)\n",
    "print(lambdas)\n",
    "    "
   ],
   "outputs": [
    {
     "output_type": "stream",
     "name": "stdout",
     "text": [
      "0.11384856091594542\n",
      "0.11310855336474827\n",
      "0.10802658314118788\n",
      "0.0890570348073921\n",
      "0.08272965737274927\n",
      "0.1024161462696193\n",
      "0.15738248995281823\n",
      "0.19554095819585238\n",
      "0.21784954892080682\n",
      "0.22322977779146846\n",
      "[1.00000000e-03 7.74263683e-03 5.99484250e-02 4.64158883e-01\n",
      " 3.59381366e+00 2.78255940e+01 2.15443469e+02 1.66810054e+03\n",
      " 1.29154967e+04 1.00000000e+05]\n"
     ]
    }
   ],
   "metadata": {}
  },
  {
   "cell_type": "code",
   "execution_count": 9,
   "source": [
    "plt.plot(lambdas, scores)"
   ],
   "outputs": [
    {
     "output_type": "execute_result",
     "data": {
      "text/plain": [
       "[<matplotlib.lines.Line2D at 0x7fd15e33a340>]"
      ]
     },
     "metadata": {},
     "execution_count": 9
    },
    {
     "output_type": "display_data",
     "data": {
      "image/png": "[encoded data removed]",
      "text/plain": [
       "<Figure size 432x288 with 1 Axes>"
      ]
     },
     "metadata": {
      "needs_background": "light"
     }
    }
   ],
   "metadata": {}
  },
  {
   "cell_type": "code",
   "execution_count": null,
   "source": [],
   "outputs": [],
   "metadata": {}
  }
 ],
 "metadata": {
  "orig_nbformat": 4,
  "language_info": {
   "name": "python",
   "version": "3.8.8",
   "mimetype": "text/x-python",
   "codemirror_mode": {
    "name": "ipython",
    "version": 3
   },
   "pygments_lexer": "ipython3",
   "nbconvert_exporter": "python",
   "file_extension": ".py"
  },
  "kernelspec": {
   "name": "python3",
   "display_name": "Python 3.8.8 64-bit ('base': conda)"
  },
  "interpreter": {
   "hash": "dca0ade3e726a953b501b15e8e990130d2b7799f14cfd9f4271676035ebe5511"
  }
 },
 "nbformat": 4,
 "nbformat_minor": 2
}