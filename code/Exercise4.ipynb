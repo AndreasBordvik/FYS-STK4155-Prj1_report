{
 "cells": [
  {
   "cell_type": "markdown",
   "source": [
    "# Exercise 4: Ridge Regression on the Franke function with resampling (score 20 points)\r\n",
    "\r\n",
    "Write your own code for the Ridge method, either using matrix inversion or the singular value decomposition as done in the previous exercise. Perform the same bootstrap analysis as in the Exercise 2 (for the same polynomials) and the cross-validation in exercise 3 but now for different values of λ. Compare and analyze your results with those obtained in exercises 1-3. Study the dependence on λ.\r\n",
    "\r\n",
    "Study also the bias-variance trade-off as function of various values of the parameter λ. For the bias-variance trade-off, use the bootstrap resampling method. Comment your results."
   ],
   "metadata": {}
  },
  {
   "cell_type": "code",
   "execution_count": null,
   "source": [
    "import numpy as np\r\n",
    "import pandas as pd\r\n",
    "import matplotlib.pyplot as plt\r\n",
    "from common import *\r\n",
    "from sklearn import linear_model\r\n",
    "from sklearn.model_selection import cross_val_score\r\n",
    "import os\r\n",
    "#import seaborn as sns\r\n",
    "\r\n",
    "print(f\"Root directory: {os.getcwd()}\")\r\n",
    "\r\n",
    "plt.rcParams.update({\r\n",
    "    \"text.usetex\": True,\r\n",
    "    \"font.family\": \"serif\",\r\n",
    "    \"font.serif\": [\"Palatino\"],\r\n",
    "    \"font.size\": 10,\r\n",
    "})\r\n",
    "\r\n",
    "%matplotlib inline "
   ],
   "outputs": [],
   "metadata": {}
  },
  {
   "cell_type": "markdown",
   "source": [],
   "metadata": {}
  },
  {
   "cell_type": "markdown",
   "source": [
    "## 2.1 Data\n",
    "Defining and creating the data\n"
   ],
   "metadata": {}
  },
  {
   "cell_type": "code",
   "execution_count": null,
   "source": [
    "#generate some data: \r\n",
    "np.random.seed(SEED_VALUE)\r\n",
    "n = 30\r\n",
    "x = np.sort(np.random.uniform(0, 1, n))\r\n",
    "y = np.sort(np.random.uniform(0, 1, n))\r\n",
    "x,y = np.meshgrid(x,y)\r\n",
    "t = FrankeFunction(x, y) + noise_factor(n)\r\n",
    "ndegrees = 7\r\n",
    "min_lambda = -4 \r\n",
    "max_lambda = 4 \r\n",
    "nbf_lambdas = 10\r\n",
    "lambdas = np.logspace(min_lambda,max_lambda, nbf_lambdas)"
   ],
   "outputs": [],
   "metadata": {}
  },
  {
   "cell_type": "code",
   "execution_count": 7,
   "source": [
    "\r\n",
    "for lmb in lambdas:\r\n",
    "    boot_strp_MSE_test, _, _, boot_strp_variance = bootstrap(x, y, t, ndegrees, 20, RidgeRegression(lmb))\r\n",
    "    boot_strp_std = np.sqrt(boot_strp_variance)\r\n",
    "\r\n",
    "    for degree in range(1,ndegrees):\r\n",
    "        X = create_X(x,y,degree)\r\n",
    "    \r\n",
    "    \r\n",
    "        mean_folds_error = np.zeros(6)\r\n",
    "        mse_std_arr = np.zeros(6)\r\n",
    "        for folds in range(5,11):\r\n",
    "            #create LinearRegression model object from SK to use in sk.cross_val_score\r\n",
    "            sk_model = linear_model.Ridge(alpha=lmb)\r\n",
    "            #Get scores from SK crossval:\r\n",
    "            sk_scores = cross_val_score(sk_model, X, t.ravel(), cv=folds, scoring = \"neg_mean_squared_error\")\r\n",
    "        \r\n",
    "\r\n",
    "            implemented_scores = cross_val(k = folds, model = \"Ridge\",lmb=lmb, X = X, z = t, shuffle=True)\r\n",
    "            # plt.plot(np.arange(1,folds+1), implemented_scores,\"-o\", label = f\"Splitted in {folds} folds\")\r\n",
    "            # #plt.plot(np.arange(folds), sk_scores*-1,\"--o\", label = f\"{folds} folds(sk.cv)\")\r\n",
    "            # plt.xlabel(\"MSE at testfold number\")\r\n",
    "            # plt.ylabel(\"MSE\")\r\n",
    "            # plt.title(f\"Complexity degree: {degree} \")\r\n",
    "            # plt.ylim(0,1)\r\n",
    "            # plt.xticks(np.arange(1,folds+1))\r\n",
    "            # plt.grid(True)\r\n",
    "            # plt.legend()\r\n",
    "            mean_folds_error[folds-5] = np.mean(implemented_scores)\r\n",
    "            mse_std_arr[folds-5] = np.std(implemented_scores)\r\n",
    "            \r\n",
    "            \r\n",
    "        #plt.errorbar(np.arange(5,11), mean_folds_error, yerr = mse_std_arr, fmt='c--', ecolor='deeppink', capthick=2)\r\n",
    "        plt.plot(np.arange(5,11), np.ones(6)*boot_strp_MSE_test[degree],\"o\", label =\"Mean MSE bootstrap with STD\")\r\n",
    "        plt.fill_between(np.arange(5,11), np.ones(6)*boot_strp_MSE_test[degree]-boot_strp_std[degree],\r\n",
    "                        np.ones(6)*boot_strp_MSE_test[degree]+boot_strp_std[degree], alpha = 0.2 )\r\n",
    "        plt.plot(np.arange(5,11), mean_folds_error, \"o\",  label = \"Mean MSE CV with STD\")\r\n",
    "        plt.fill_between(np.arange(5,11), mean_folds_error-mse_std_arr, mean_folds_error+mse_std_arr,  alpha = 0.2, color = \"darkorange\")\r\n",
    "        plt.title(f\"Model complexity: {degree} degrees, log($\\lambda$):{np.log10(lmb)} \")\r\n",
    "        plt.xlabel(\"K-fold\")\r\n",
    "        plt.ylabel(\"MSE\")\r\n",
    "        plt.ylim(0,0.5)\r\n",
    "        plt.xticks(np.arange(5,11))\r\n",
    "        plt.grid(True)\r\n",
    "        plt.legend()\r\n",
    "        plt.show()"
   ],
   "outputs": [
    {
     "output_type": "display_data",
     "data": {
      "image/png": "[encoded data removed]",
      "text/plain": [
       "<Figure size 432x288 with 1 Axes>"
      ]
     },
     "metadata": {
      "needs_background": "light"
     }
    },
    {
     "output_type": "display_data",
     "data": {
      "image/png": "[encoded data removed]",
      "text/plain": [
       "<Figure size 432x288 with 1 Axes>"
      ]
     },
     "metadata": {
      "needs_background": "light"
     }
    }
   ],
   "metadata": {}
  },
  {
   "cell_type": "markdown",
   "source": [
    "## Looking at beta values for optimal degree"
   ],
   "metadata": {}
  },
  {
   "cell_type": "code",
   "execution_count": null,
   "source": [
    "optimal_degree = 6\r\n",
    "min_lambda = -7 \r\n",
    "max_lambda = -3\r\n",
    "nbf_lambdas = 20\r\n",
    "lambdas = np.logspace(min_lambda,max_lambda, nbf_lambdas)\r\n",
    "summaries_df = pd.DataFrame()\r\n",
    "\r\n",
    "for lmb in lambdas:\r\n",
    "    #MSE_test = np.zeros(maxdegree)\r\n",
    "    #MSE_train = np.zeros(maxdegree)\r\n",
    "    #polydegree = np.arange(maxdegree)\r\n",
    "    #bias = np.zeros(maxdegree)\r\n",
    "    #variance = np.zeros(maxdegree)\r\n",
    "\r\n",
    "    X = create_X(x, y, n=optimal_degree)\r\n",
    "    X_train, X_test, z_train, z_test = prepare_data(X, t.ravel().reshape(-1,1), test_size=0.2, shuffle=True, scale_X=True, scale_t=True, random_state=SEED_VALUE)\r\n",
    "    model =  RidgeRegression(lambda_val=lmb)\r\n",
    "    z_hat_train = model.fit(X_train, z_train, SVDfit=False, keep_intercept=False)        \r\n",
    "    summary_df = model.summary()\r\n",
    "    summaries_df = pd.concat([summaries_df,summary_df], axis=0)\r\n",
    "    \r\n",
    "fig = plot_beta_errors_for_lambdas(summaries_df, optimal_degree)\r\n",
    "fig.savefig(f\"{REPORT_FIGURES}{EX6_4}Ridge_beta_SE_for_lambdas.pdf\")\r\n",
    "\r\n",
    "fig = plot_beta_CI_for_lambdas(summaries_df, optimal_degree)\r\n",
    "fig.savefig(f\"{REPORT_FIGURES}{EX6_4}Ridge_beta_CI_for_lambdas.pdf\")"
   ],
   "outputs": [],
   "metadata": {}
  },
  {
   "cell_type": "code",
   "execution_count": null,
   "source": [],
   "outputs": [],
   "metadata": {}
  },
  {
   "cell_type": "code",
   "execution_count": null,
   "source": [],
   "outputs": [],
   "metadata": {}
  },
  {
   "cell_type": "code",
   "execution_count": null,
   "source": [],
   "outputs": [],
   "metadata": {}
  },
  {
   "cell_type": "code",
   "execution_count": null,
   "source": [],
   "outputs": [],
   "metadata": {}
  },
  {
   "cell_type": "code",
   "execution_count": null,
   "source": [],
   "outputs": [],
   "metadata": {}
  },
  {
   "cell_type": "code",
   "execution_count": null,
   "source": [],
   "outputs": [],
   "metadata": {}
  },
  {
   "cell_type": "markdown",
   "source": [
    "# OLD code!"
   ],
   "metadata": {}
  },
  {
   "cell_type": "markdown",
   "source": [
    "## 2.3 - Finding optimal lambda for Ridge fit\n",
    "First we find the optimal value for the lambda parameter by splitting the input data into training and test data. Than we fit the model using different values for lambda. For each lambda value we use the mean square error on the test data evaluate how god the fit is. The best lambda value is used to fit a new model with all data (not using train-test split). <br>\n",
    "First we find the optimal parameter value of lambda, $\\lambda$, by evaluating overfit from evaluation plot where we plot the values for MSE for training and test data"
   ],
   "metadata": {}
  },
  {
   "cell_type": "code",
   "execution_count": null,
   "source": [
    "nbf_lambdas = 10\r\n",
    "lambdas = np.logspace(-5,5, nbf_lambdas)\r\n",
    "z_train_ridge = pd.DataFrame()\r\n",
    "z_hat_train_ridge = pd.DataFrame()\r\n",
    "z_test_ridge = pd.DataFrame()\r\n",
    "z_hat_test_ridge = pd.DataFrame()\r\n",
    "\r\n",
    "\r\n",
    "z_hat_train_ridge_sk = pd.DataFrame()\r\n",
    "z_hat_test_ridge_sk = pd.DataFrame()\r\n",
    "\r\n",
    "for lmb in lambdas:\r\n",
    "    model_sk = lm.Ridge(lmb, fit_intercept=False)\r\n",
    "    #X_train, X_test, z_train, z_test = prepare_data(X, z, test_size=0.2, shuffle=True, scale_X=False, scale_t=False)\r\n",
    "    X_train, X_test, z_train, z_test = prepare_data(X, z, test_size=0.2, shuffle=True, scale_X=False, scale_t=False, random_state=4155)\r\n",
    "    model = RidgeRegression(lmb) # The model\r\n",
    "    model.fit(X_train, z_train) # Fitting the model\r\n",
    "\r\n",
    "    # Fitting the scikit Ridge model\r\n",
    "    model_sk.fit(X_train, z_train)\r\n",
    "   \r\n",
    "    # Predictions our Ridge model\r\n",
    "    z_hat_train = model.predict(X_train) # predict on train data\r\n",
    "    z_hat_test = model.predict(X_test) # predict on test data\r\n",
    "\r\n",
    "    # Predictions sklearn Ridge\r\n",
    "    z_hat_train_sk = model_sk.predict(X_train) # predict on train data\r\n",
    "    z_hat_test_sk = model_sk.predict(X_test) # predict on test data\r\n",
    "\r\n",
    "    # Filling up dataframes\r\n",
    "    z_train_ridge[lmb] = z_train.flatten() \r\n",
    "    z_hat_train_ridge[lmb] = z_hat_train.flatten()\r\n",
    "    z_test_ridge[lmb] = z_test.flatten()\r\n",
    "    z_hat_test_ridge[lmb] = z_hat_test.flatten()\r\n",
    "\r\n",
    "    # Filling up sk dataframes\r\n",
    "    z_hat_train_ridge_sk[lmb] = z_hat_train_sk.flatten()\r\n",
    "    z_hat_test_ridge_sk[lmb] = z_hat_test_sk.flatten()\r\n",
    "\r\n",
    "\r\n",
    "# MSE calculations for all lambda values\r\n",
    "mse_scores_train = ((z_train_ridge - z_hat_train_ridge) ** 2).mean()\r\n",
    "mse_scores_test = ((z_test_ridge - z_hat_test_ridge) ** 2).mean()\r\n",
    "mse_scors_train_sk = ((z_train_ridge - z_hat_train_ridge_sk) ** 2).mean()\r\n",
    "mse_scores_test_sk = ((z_test_ridge - z_hat_test_ridge_sk) ** 2).mean()\r\n",
    "\r\n",
    "# R2 calculations for all lambda values\r\n",
    "R2_scores_train = 1 - ((z_train_ridge - z_hat_train_ridge) ** 2).sum() / ((z_train_ridge - z_train_ridge.mean())**2).sum() \r\n",
    "R2_scores_test = 1 - ((z_test_ridge - z_hat_test_ridge) ** 2).sum() / ((z_test_ridge - z_test_ridge.mean())**2).sum()  \r\n",
    "\r\n",
    "# Plots\r\n",
    "plt.figure(figsize=(12,8))\r\n",
    "plt.plot(-np.log(lambdas), mse_scores_train, label=\"Training data\")\r\n",
    "plt.plot(-np.log(lambdas), mse_scores_test, label=\"Test data\")\r\n",
    "\r\n",
    "plt.plot(-np.log(lambdas), mse_scors_train_sk, 'm--', label=\"Training data sklearn\")\r\n",
    "plt.plot(-np.log(lambdas), mse_scores_test_sk, 'y--', label=\"Test data sklearn\")\r\n",
    "\r\n",
    "#plt.plot(mse_scores_train,-np.log(lambdas), label=\"Training data\")\r\n",
    "#plt.plot(mse_scores_test,-np.log(lambdas), label=\"Test data\")\r\n",
    "plt.xlabel(\"log(lambda)\")\r\n",
    "plt.ylabel(\"MSE\")\r\n",
    "plt.title(\"Training evaluation on Ridge regression fit\")\r\n",
    "plt.legend()\r\n",
    "plt.savefig(f\"{REPORT_FIGURES}franke_function_Ridge_evaluate_fit.pdf\")"
   ],
   "outputs": [],
   "metadata": {}
  },
  {
   "cell_type": "markdown",
   "source": [
    "Perform the same analysis as above, but with scaled data and fit intercept equal to false"
   ],
   "metadata": {}
  },
  {
   "cell_type": "code",
   "execution_count": null,
   "source": [
    "nbf_lambdas = 10\r\n",
    "lambdas = np.logspace(-5,5, nbf_lambdas)\r\n",
    "z_train_ridge = pd.DataFrame()\r\n",
    "z_hat_train_ridge = pd.DataFrame()\r\n",
    "z_test_ridge = pd.DataFrame()\r\n",
    "z_hat_test_ridge = pd.DataFrame()\r\n",
    "\r\n",
    "\r\n",
    "z_hat_train_ridge_sk = pd.DataFrame()\r\n",
    "z_hat_test_ridge_sk = pd.DataFrame()\r\n",
    "\r\n",
    "for lmb in lambdas:\r\n",
    "    model_sk = lm.Ridge(lmb, fit_intercept=False)\r\n",
    "    #X_train, X_test, z_train, z_test = prepare_data(X, z, test_size=0.2, shuffle=True, scale_X=False, scale_t=False)\r\n",
    "    X_train, X_test, z_train, z_test = prepare_data(X, z, test_size=0.2, shuffle=True, scale_X=False, scale_t=False, random_state=4155)\r\n",
    "    model = RidgeRegression(lmb) # The model\r\n",
    "    model.fit(X_train, z_train) # Fitting the model\r\n",
    "\r\n",
    "    # Fitting the scikit Ridge model\r\n",
    "    model_sk.fit(X_train, z_train)\r\n",
    "   \r\n",
    "    # Predictions our Ridge model\r\n",
    "    z_hat_train = model.predict(X_train) # predict on train data\r\n",
    "    z_hat_test = model.predict(X_test) # predict on test data\r\n",
    "\r\n",
    "    # Predictions sklearn Ridge\r\n",
    "    z_hat_train_sk = model_sk.predict(X_train) # predict on train data\r\n",
    "    z_hat_test_sk = model_sk.predict(X_test) # predict on test data\r\n",
    "\r\n",
    "    # Filling up dataframes\r\n",
    "    z_train_ridge[lmb] = z_train.flatten() \r\n",
    "    z_hat_train_ridge[lmb] = z_hat_train.flatten()\r\n",
    "    z_test_ridge[lmb] = z_test.flatten()\r\n",
    "    z_hat_test_ridge[lmb] = z_hat_test.flatten()\r\n",
    "\r\n",
    "    # Filling up sk dataframes\r\n",
    "    z_hat_train_ridge_sk[lmb] = z_hat_train_sk.flatten()\r\n",
    "    z_hat_test_ridge_sk[lmb] = z_hat_test_sk.flatten()\r\n",
    "\r\n",
    "\r\n",
    "# MSE calculations for all lambda values\r\n",
    "mse_scores_train = ((z_train_ridge - z_hat_train_ridge) ** 2).mean()\r\n",
    "mse_scores_test = ((z_test_ridge - z_hat_test_ridge) ** 2).mean()\r\n",
    "mse_scors_train_sk = ((z_train_ridge - z_hat_train_ridge_sk) ** 2).mean()\r\n",
    "mse_scores_test_sk = ((z_test_ridge - z_hat_test_ridge_sk) ** 2).mean()\r\n",
    "\r\n",
    "# R2 calculations for all lambda values\r\n",
    "R2_scores_train = 1 - ((z_train_ridge - z_hat_train_ridge) ** 2).sum() / ((z_train_ridge - z_train_ridge.mean())**2).sum() \r\n",
    "R2_scores_test = 1 - ((z_test_ridge - z_hat_test_ridge) ** 2).sum() / ((z_test_ridge - z_test_ridge.mean())**2).sum()  \r\n",
    "\r\n",
    "# Plots\r\n",
    "plt.figure(figsize=(12,8))\r\n",
    "plt.plot(-np.log(lambdas), mse_scores_train, label=\"Training data\")\r\n",
    "plt.plot(-np.log(lambdas), mse_scores_test, label=\"Test data\")\r\n",
    "\r\n",
    "plt.plot(-np.log(lambdas), mse_scors_train_sk, 'm--', label=\"Training data sklearn\")\r\n",
    "plt.plot(-np.log(lambdas), mse_scores_test_sk, 'y--', label=\"Test data sklearn\")\r\n",
    "\r\n",
    "#plt.plot(mse_scores_train,-np.log(lambdas), label=\"Training data\")\r\n",
    "#plt.plot(mse_scores_test,-np.log(lambdas), label=\"Test data\")\r\n",
    "plt.xlabel(\"log(lambda)\")\r\n",
    "plt.ylabel(\"MSE\")\r\n",
    "plt.title(\"Training evaluation on Ridge regression fit\")\r\n",
    "plt.legend()\r\n",
    "plt.savefig(f\"{REPORT_FIGURES}franke_function_Ridge_evaluate_fit.pdf\")"
   ],
   "outputs": [],
   "metadata": {}
  },
  {
   "cell_type": "markdown",
   "source": [
    "# 2.3.1\n",
    "Finding the optimal lambda by using the bootstrap resampling technique over different values of lamda. For each value of lambda, a bias-variance tradeoff chart as in exercise 2 is created. "
   ],
   "metadata": {}
  },
  {
   "cell_type": "code",
   "execution_count": null,
   "source": [
    "n_bootstraps = 100\r\n",
    "maxdegree = 12\r\n",
    "for lmb in lambdas:\r\n",
    "    MSE_test = np.zeros(maxdegree)\r\n",
    "    MSE_train = np.zeros(maxdegree)\r\n",
    "    polydegree = np.arange(maxdegree)\r\n",
    "    bias = np.zeros(maxdegree)\r\n",
    "    variance = np.zeros(maxdegree)\r\n",
    "\r\n",
    "    for degree in tqdm(range(maxdegree), desc = f\"Looping through polynomials up to {maxdegree} degrees with {n_bootstraps} bootstraps: \"):\r\n",
    "        model = RidgeRegression(lmb)\r\n",
    "        X = create_X(x, y, n=degree)\r\n",
    "        X_train, X_test, z_train, z_test = prepare_data(X, z)\r\n",
    "\r\n",
    "        # Reshape for broadcasting\r\n",
    "        z_test_ = np.reshape(z_test, newshape=(z_test.shape[0],1))\r\n",
    "        z_train_ = np.reshape(z_train, newshape=(z_train.shape[0],1))\r\n",
    "        \r\n",
    "        # Scaling data and preparing output arrays \r\n",
    "        scaler = StandardScaler()\r\n",
    "        scaler.fit(X_train)\r\n",
    "        #X_train_scaled = scaler.transform(X_train)\r\n",
    "        #X_test_scaled = scaler.transform(X_test)\r\n",
    "        z_pred = np.empty((z_test.shape[0], n_bootstraps))\r\n",
    "        z_fit = np.empty((z_train.shape[0], n_bootstraps))\r\n",
    "\r\n",
    "        # Bootstrapping\r\n",
    "        for i in range(n_bootstraps):\r\n",
    "            x_, z_ = resample(X_train, z_train)\r\n",
    "            model.fit(X_train, z_train)\r\n",
    "            z_pred[:,i] = model.predict(X_test)\r\n",
    "            z_fit[:,i] = model.predict(X_train)\r\n",
    "\r\n",
    "        MSE_test[degree] = np.mean( np.mean((z_test_ - z_pred)**2, axis=1, keepdims=True) )\r\n",
    "        MSE_train[degree] = np.mean( np.mean((z_train_ - z_fit)**2, axis=1, keepdims=True) )\r\n",
    "        bias[degree] = np.mean( (z_test - np.mean(z_pred, axis=1, keepdims=True))**2 )\r\n",
    "        variance[degree] = np.mean( np.var(z_pred, axis=1, keepdims=True))\r\n",
    "\r\n",
    "    plt.figure()\r\n",
    "    plt.plot(polydegree, MSE_test,\"m\", label='MSE\\_test')\r\n",
    "    plt.plot(polydegree, MSE_train,\"c\", label='MSE\\_train')\r\n",
    "\r\n",
    "    plt.plot(polydegree, bias,\"g--\", label='bias')\r\n",
    "    plt.plot(polydegree, variance,\"r--\", label='Variance')\r\n",
    "\r\n",
    "    plt.title(f\"Bias-Variance for log10(lambda) = {np.log10(lmb)}\")\r\n",
    "    plt.xlabel(\"Model complexity / Polynomial Degree\")\r\n",
    "    plt.ylabel(\"Prediction Error\")\r\n",
    "\r\n",
    "    plt.grid(True)\r\n",
    "    plt.legend()\r\n",
    "    plt.show()\r\n",
    "\r\n",
    "    display(model.summary())\r\n",
    "      \r\n"
   ],
   "outputs": [],
   "metadata": {}
  },
  {
   "cell_type": "markdown",
   "source": [
    "## 2.4 Analysis of plots and training metrics\n",
    "Do the analysis.......\n",
    "\n",
    "Conclusion:<br>\n",
    "Based on the analysis, we conclude that a model complexity of degree 5 yields the most optimal fit."
   ],
   "metadata": {}
  },
  {
   "cell_type": "markdown",
   "source": [
    "## 2.5 plot of the model using the most optimal parameters"
   ],
   "metadata": {}
  },
  {
   "cell_type": "code",
   "execution_count": null,
   "source": [
    "scale = False\r\n",
    "\r\n",
    "if scale:\r\n",
    "    # Data Scalling\r\n",
    "    X_scaler = StandardScaler()\r\n",
    "    X_scaler.fit(X)\r\n",
    "    X_train = X_scaler.transform(X_train)\r\n",
    "    z_train = np.expand_dims(z,axis=1)  \r\n",
    "    z_scaler = StandardScaler()\r\n",
    "    z_scaler.fit(z_train)\r\n",
    "    z_train = z_scaler.transform(z_train)\r\n",
    "else:\r\n",
    "    X_train = X; z_train = z\r\n",
    "\r\n",
    "lam = -1.1\r\n",
    "model = RidgeRegression(lam) # The model\r\n",
    "model.fit(X_train, z_train) # Fitting the model\r\n",
    "z_hat = model.predict(X_train) # predict on train data\r\n",
    "\r\n",
    "# Evaluatation metrics\r\n",
    "# TODO:\r\n",
    "results_df = pd.DataFrame(columns=[\"MSE\", \"R2-score\"], index=[\"Training data\", \"Test data\"])\r\n",
    "results_df[\"MSE\"] = MSE(z, z_hat)\r\n",
    "results_df[\"R2-score\"] = R2(z, z_hat)\r\n",
    "results_df.to_csv(f\"{REPORT_DATA}redge_reg_lambda_{lam}.csv\")\r\n",
    "\r\n",
    "# Plot\r\n",
    "fig = plt.figure()#figsize=(8,8))\r\n",
    "ax = plt.axes(projection='3d')\r\n",
    "ax.title.set_text(f\"Ridge regression fit to the Franke Function\\nDegree {degree},$\\lambda$:{lam}\")\r\n",
    "#ax.view_init(elev=5., azim=85.0)\r\n",
    "ax.view_init(elev=30., azim=-25.0)\r\n",
    "ax.set_xlabel(\"x\"); ax.set_ylabel(\"y\"); ax.set_zlabel(\"z\")\r\n",
    "ax.scatter3D(x,y,z,c=z, cmap=cm.coolwarm, marker = '.')\r\n",
    "plt.savefig(f\"{REPORT_FIGURES}franke_function_Ridge_best_fit.pdf\")"
   ],
   "outputs": [],
   "metadata": {}
  }
 ],
 "metadata": {
  "orig_nbformat": 4,
  "language_info": {
   "name": "python",
   "version": "3.8.11",
   "mimetype": "text/x-python",
   "codemirror_mode": {
    "name": "ipython",
    "version": 3
   },
   "pygments_lexer": "ipython3",
   "nbconvert_exporter": "python",
   "file_extension": ".py"
  },
  "kernelspec": {
   "name": "python3",
   "display_name": "Python 3.8.11 64-bit ('pytorch1': conda)"
  },
  "interpreter": {
   "hash": "4100b45d1ec7c24b8fe1569d39871ffb9fcc213dcc50046fc68fe247fbf6e84f"
  }
 },
 "nbformat": 4,
 "nbformat_minor": 2
}