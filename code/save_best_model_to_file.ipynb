{
 "cells": [
  {
   "cell_type": "markdown",
   "metadata": {},
   "source": [
    "# Saveing best OLS\n"
   ]
  },
  {
   "cell_type": "code",
   "execution_count": null,
   "metadata": {},
   "outputs": [],
   "source": [
    "import numpy as np\n",
    "import pandas as pd\n",
    "import seaborn as sns\n",
    "from imageio import imread\n",
    "import matplotlib.pyplot as plt\n",
    "from mpl_toolkits.mplot3d import Axes3D\n",
    "from matplotlib import cm\n",
    "import matplotlib.ticker as mticker\n",
    "import seaborn as sns\n",
    "import os\n",
    "from common import *\n",
    "import cv2\n",
    "from sklearn.model_selection import cross_val_score\n",
    "from sklearn import linear_model as sk\n",
    "#from mpl_toolkits.mplot3d import Axes3D\n",
    "#from sklearn.linear_model impornår er st Lasso, Ridge, LinearRegression\n",
    "from sklearn import linear_model as lm\n",
    "\n",
    "from sklearn.preprocessing import MinMaxScaler\n",
    "from typing import Tuple\n",
    "import pickle\n",
    "\n",
    "\n",
    "print(f\"Root directory: {os.getcwd()}\")\n",
    "\n",
    "plt.rcParams.update({\n",
    "    \"text.usetex\": True,\n",
    "    \"font.family\": \"serif\",\n",
    "    \"font.serif\": [\"Palatino\"],\n",
    "    \"font.size\": 10,\n",
    "})\n",
    "\n",
    "#%matplotlib\n",
    "\n"
   ]
  },
  {
   "cell_type": "markdown",
   "metadata": {},
   "source": [
    "# Global variables"
   ]
  },
  {
   "cell_type": "code",
   "execution_count": null,
   "metadata": {},
   "outputs": [],
   "source": [
    "SEED_VALUE = np.random.seed(4155)\n",
    "# Random seed to guarantee reproducibility"
   ]
  },
  {
   "cell_type": "markdown",
   "metadata": {},
   "source": [
    "# Reading and plotting terrain data"
   ]
  },
  {
   "cell_type": "code",
   "execution_count": null,
   "metadata": {},
   "outputs": [],
   "source": [
    "# Load the terrain\n",
    "terrain1_file = \"SRTM_data_Norway_1.tif\"\n",
    "terrain2_file = \"SRTM_data_Norway_2.tif\"\n",
    "terrain1 =  imread(f'{INPUT_DATA}{terrain1_file}')\n",
    "terrain2 = imread(f'{INPUT_DATA}{terrain2_file}')\n",
    "\n",
    "# Plotting terrain\n",
    "fig, (ax1, ax2) = plt.subplots(1, 2)\n",
    "ax1.title.set_text(\"Terrain over Norway 1\")\n",
    "ax1.set_xlabel(\"X\"); ax1.set_ylabel(\"Y\")\n",
    "surf1 = ax1.imshow(terrain1, cmap='gray')\n",
    "ax2.title.set_text(\"Terrain over Norway 2\")\n",
    "ax2.set_xlabel(\"X\"); ax2.set_ylabel(\"Y\")\n",
    "surf2 = ax2.imshow(terrain2, cmap='gray')\n",
    "plt.savefig(f\"{REPORT_FIGURES}{EX6}terrain_data.pdf\")\n",
    "plt.show()\n",
    "print(terrain1.shape)"
   ]
  },
  {
   "cell_type": "markdown",
   "metadata": {},
   "source": []
  },
  {
   "cell_type": "markdown",
   "metadata": {},
   "source": [
    "## 6.0.1 Resizeing the terrain image\n",
    "For computational purpose, we resize the terrain image to have a resonable amount of datapoints for our least sqaure models."
   ]
  },
  {
   "cell_type": "code",
   "execution_count": null,
   "metadata": {},
   "outputs": [],
   "source": [
    "rescale_factor = 0.1\n",
    "ySize = int(terrain1.shape[0] * rescale_factor); print(ySize)\n",
    "xSize = int(terrain1.shape[1] * rescale_factor); print(xSize)\n",
    "terrain1Resized = cv2.resize(terrain1, (xSize, ySize))\n",
    "terrain2Resized = cv2.resize(terrain2, (xSize, ySize))\n",
    "\n",
    "# Plotting terrain\n",
    "fig, (ax1, ax2) = plt.subplots(1, 2)\n",
    "ax1.title.set_text(\"Terrain over Norway 1 (Resized)\")\n",
    "ax1.set_xlabel(\"X\"); ax1.set_ylabel(\"Y\")\n",
    "surf1 = ax1.imshow(terrain1Resized, cmap='gray')\n",
    "ax2.title.set_text(\"Terrain over Norway 2 (Resized)\")\n",
    "ax2.set_xlabel(\"X\"); ax2.set_ylabel(\"Y\")\n",
    "surf2 = ax2.imshow(terrain2Resized, cmap='gray')\n",
    "plt.savefig(f\"{REPORT_FIGURES}{EX6}terrain_data_resized.pdf\")\n",
    "plt.show()\n",
    "print(terrain1[0,0])"
   ]
  },
  {
   "cell_type": "markdown",
   "metadata": {},
   "source": [
    "## 6.0.2 Creating image patches and Terrain data selection"
   ]
  },
  {
   "cell_type": "markdown",
   "metadata": {},
   "source": [
    "## Methods"
   ]
  },
  {
   "cell_type": "code",
   "execution_count": null,
   "metadata": {},
   "outputs": [],
   "source": [
    "def create_img_patches(img, ySteps, xSteps):\n",
    "    patches = []\n",
    "    for y in range(0,img.shape[0], ySteps):\n",
    "        for x in range(0,img.shape[1], xSteps):\n",
    "            y_from = y; \n",
    "            y_to = y+ySteps; \n",
    "            x_from = x; \n",
    "            x_to = x+xSteps; \n",
    "            img_patch = img[y_from:y_to, x_from:x_to]        \n",
    "            patches.append(img_patch)\n",
    "\n",
    "    return patches\n",
    "\n",
    "def patches_to_img(patches, ySteps, xSteps, nYpatches, nXpatches, plotImage=False):\n",
    "    img = np.zeros((ySteps*nYpatches, xSteps*nXpatches))\n",
    "    i = 0\n",
    "    for y in range(0,img.shape[0], ySteps):\n",
    "        for x in range(0,img.shape[1], xSteps):\n",
    "            y_from = y; \n",
    "            y_to = y+ySteps; \n",
    "            x_from = x; \n",
    "            x_to = x+xSteps; \n",
    "            img[y_from:y_to, x_from:x_to] = patches[i]         \n",
    "            i += 1\n",
    "    \n",
    "    if plotImage:\n",
    "        plt.imshow(img, cmap='gray')\n",
    "        plt.title(\"Reconstructed img\")\n",
    "        plt.show()\n",
    "    return img\n",
    "\n",
    "def plotTerrainPatches(patches, nYpatches, nXpatches, plotTitle=\"Terrain patches\"):\n",
    "    # Plotting terrain patches\n",
    "    fig, ax = plt.subplots(nYpatches, nXpatches,figsize=(4,10))\n",
    "    i=0\n",
    "    for y in range(nYpatches):\n",
    "        for x in range(nXpatches):\n",
    "            ax[y,x].title.set_text(f\"Patch{i}\")\n",
    "            ax[y,x].set_xlabel(\"X\"); ax1.set_ylabel(\"Y\")\n",
    "            ax[y,x].imshow(patches[i], cmap='gray')\n",
    "            i+=1\n",
    "    \n",
    "    fig.suptitle(f\"{plotTitle}\") # or plt.suptitle('Main title')\n",
    "    plt.tight_layout()\n",
    "    plt.savefig(f\"{REPORT_FIGURES}{EX6}{plotTitle}.pdf\")\n",
    "    plt.show()\n",
    "\n",
    "def createTerrainData(terrain, includeMeshgrid=True):\n",
    "    z = np.array(terrain) \n",
    "    x = np.arange(0, z.shape[1])\n",
    "    y = np.arange(0, z.shape[0])\n",
    "    if includeMeshgrid:\n",
    "        x, y = np.meshgrid(x,y)\n",
    "    return x,y,z\n"
   ]
  },
  {
   "cell_type": "code",
   "execution_count": null,
   "metadata": {},
   "outputs": [],
   "source": [
    "nXpatches = 3; nYpatches=6\n",
    "y_steps = int(terrain2Resized.shape[0] / nYpatches); print(y_steps)\n",
    "x_steps = int(terrain2Resized.shape[1] / nXpatches); print(x_steps)\n",
    "\n",
    "patches_1 = create_img_patches(terrain1Resized, y_steps, x_steps)\n",
    "plotTerrainPatches(patches_1, nYpatches, nXpatches, plotTitle=\"Terrain1 patches\")\n",
    "\n",
    "patches_2 = create_img_patches(terrain2Resized, y_steps, x_steps)\n",
    "plotTerrainPatches(patches_2, nYpatches, nXpatches, plotTitle=\"Terrain2 patches\")\n",
    "\n",
    "# test\n",
    "#img_reconstructed = patches_to_img(patches, y_steps, x_steps, nYpatches, nXpatches, plotImage=True)\n"
   ]
  },
  {
   "cell_type": "markdown",
   "metadata": {},
   "source": [
    "## 6.0.3 Choosing of terrain patch and data creation\n",
    "We look at the terrain data patches and choose which to create a fit for"
   ]
  },
  {
   "cell_type": "code",
   "execution_count": null,
   "metadata": {},
   "outputs": [],
   "source": [
    "img1 = patches_1[2]\n",
    "img2 = patches_2[5]\n",
    "x1, y1, z1 = createTerrainData(img1)\n",
    "x2, y2, z2 = createTerrainData(img2)\n",
    "\n",
    "terrain_data = 1\n",
    "\n",
    "if terrain_data == 1: # Choosing terrain1*\n",
    "    x, y, z = x1, y1, z1.copy() \n",
    "    #z_min = np.min(z)\n",
    "    z_max = np.max(z)\n",
    "    z = z1\n",
    "\n",
    "elif terrain_data == 2: # Choosing terrain2\n",
    "    x, y, z = x2, y2, z2.copy() \n",
    "    #z_min = np.min(z)\n",
    "    z_max = np.max(z)\n",
    "    z = z2\n",
    "    \n",
    "z_flat = z.ravel(); z_flat = z_flat.reshape(-1,1)"
   ]
  },
  {
   "cell_type": "code",
   "execution_count": null,
   "metadata": {},
   "outputs": [],
   "source": [
    "def save_model(model, path_filename):\n",
    "    \"saving the medel as .pkl filetype\"\n",
    "    with open(path_filename, 'wb') as outp:  # Overwrites existing .pkl file.\n",
    "        pickle.dump(model, outp, pickle.HIGHEST_PROTOCOL)\n",
    "\n",
    "\n",
    "def load_model(path_filename):\n",
    "    \"Loading a .pkl filetype\"\n",
    "    with open(path_filename, 'rb') as inp:\n",
    "        model = pickle.load(inp)\n",
    "    return model"
   ]
  },
  {
   "cell_type": "markdown",
   "metadata": {},
   "source": [
    "# 6.1 saving best OLS"
   ]
  },
  {
   "cell_type": "code",
   "execution_count": null,
   "metadata": {},
   "outputs": [],
   "source": [
    "z_train_OLS = pd.DataFrame()\n",
    "z_hat_train_OLS = pd.DataFrame()\n",
    "z_test_OLS = pd.DataFrame()\n",
    "z_hat_test_OLS = pd.DataFrame()\n",
    "X_test_OLS = {}\n",
    "df = pd.DataFrame()\n",
    "\n",
    "degree = 10\n",
    "scale_X = True\n",
    "scale_z = True\n",
    "test_size = 0.2\n",
    "\n",
    "print(f\"Running OLS fitting on degree{degree}\")\n",
    "X = create_X(x, y, degree) # Design Matrix\n",
    "\n",
    "X_train, X_test, z_train, z_test = prepare_data(X, z_flat, test_size=test_size, shuffle=True, scale_X=True, scale_t=True, random_state=SEED_VALUE)\n",
    "\n",
    "\n",
    "model = OLS(degree=degree) # The model\n",
    "z_hat_train = model.fit(X_train, z_train) # Fitting the model and predict on training data\n",
    "z_hat_test = model.predict(X_test) # predict on test data\n",
    "\n",
    "ols_MSE = MSE(z_test, z_hat_test) \n",
    "print(\"MSE:\", ols_MSE)\n",
    "\n",
    "filename = f\"best_OLS_model_degree_{degree}_MSE_{ols_MSE}.pkl\"\n",
    "save_model(model, filename)\n"
   ]
  }
 ],
 "metadata": {
  "interpreter": {
   "hash": "e7370f93d1d0cde622a1f8e1c04877d8463912d04d973331ad4851f04de6915a"
  },
  "kernelspec": {
   "display_name": "Python 3.9.7 64-bit",
   "name": "python3"
  },
  "language_info": {
   "codemirror_mode": {
    "name": "ipython",
    "version": 3
   },
   "file_extension": ".py",
   "mimetype": "text/x-python",
   "name": "python",
   "nbconvert_exporter": "python",
   "pygments_lexer": "ipython3",
   "version": "3.8.11"
  },
  "orig_nbformat": 4
 },
 "nbformat": 4,
 "nbformat_minor": 2
}
