{
 "cells": [
  {
   "cell_type": "markdown",
   "source": [
    "## Exercise 2: Bias-variance trade-off and resampling techniques "
   ],
   "metadata": {}
  },
  {
   "cell_type": "markdown",
   "source": [
    "#### Overview of nature of the problem: \n",
    "\n"
   ],
   "metadata": {}
  },
  {
   "cell_type": "code",
   "execution_count": 1,
   "source": [
    "\n",
    "import matplotlib.pyplot as plt\n",
    "import numpy as np\n",
    "from sklearn.linear_model import LinearRegression, Ridge, Lasso\n",
    "from sklearn.preprocessing import PolynomialFeatures\n",
    "from sklearn.model_selection import train_test_split\n",
    "from sklearn.pipeline import make_pipeline\n",
    "from sklearn.utils import resample\n",
    "import common\n",
    "from sklearn.preprocessing import StandardScaler\n",
    "from tqdm import tqdm"
   ],
   "outputs": [],
   "metadata": {}
  },
  {
   "cell_type": "code",
   "execution_count": 2,
   "source": [
    "np.random.seed(4155)\n",
    "maxdegree = 12\n",
    "n = 400\n",
    "x = np.sort(np.random.uniform(0, 1, n))\n",
    "y = np.sort(np.random.uniform(0, 1, n))\n",
    "z = common.FrankeFunction(x, y) + 0.2*np.random.normal(0, size = n)"
   ],
   "outputs": [],
   "metadata": {}
  },
  {
   "cell_type": "markdown",
   "source": [],
   "metadata": {}
  },
  {
   "cell_type": "code",
   "execution_count": 3,
   "source": [
    "#TODO: Number of bootstraps? \n",
    "n_bootstraps = 100\n",
    "MSE_test = np.zeros(maxdegree)\n",
    "MSE_train = np.zeros(maxdegree)\n",
    "polydegree = np.arange(0,maxdegree)\n",
    "bias = np.zeros(maxdegree)\n",
    "variance = np.zeros(maxdegree)\n",
    "#for each degree of poly:\n"
   ],
   "outputs": [],
   "metadata": {}
  },
  {
   "cell_type": "code",
   "execution_count": 4,
   "source": [
    "\n",
    "\n",
    "for degree in tqdm(range(maxdegree), desc = f\"Looping through polynomials up to {maxdegree} degrees with {n_bootstraps} bootstraps: \"):\n",
    "    model = LinearRegression()\n",
    "    #model= make_pipeline(PolynomialFeatures(degree=degree), LinearRegression(fit_intercept=False)) \n",
    "    X = common.create_X(x, y, n=degree)    \n",
    "    X_train, X_test, y_train, y_test = train_test_split(X, z, test_size=0.2)\n",
    "\n",
    "    #reshape for broadcasting in MSE_test and MSE_val  \n",
    "    y_test_ = np.reshape(y_test, newshape=(y_test.shape[0],1))\n",
    "    #reshape for broadcasting in MSE_test and MSE_val  \n",
    "    y_train_ = np.reshape(y_train, newshape=(y_train.shape[0],1))\n",
    "\n",
    "    #y_train = np.reshape(y_train, newshape=(y_train.shape[0],1))\n",
    "    #TODO: why scale?!?\n",
    "\n",
    "    scaler = StandardScaler()\n",
    "    scaler.fit(X_train)\n",
    "    X_train_scaled = scaler.transform(X_train)\n",
    "    X_test_scaled = scaler.transform(X_test)\n",
    "    y_pred = np.empty((y_test.shape[0], n_bootstraps))\n",
    "    y_fit = np.empty((y_train.shape[0], n_bootstraps))\n",
    "    \n",
    "    for i in range(n_bootstraps):\n",
    "        #bootstrap:\n",
    "        x_, y_ = resample(X_train_scaled, y_train)\n",
    "        #fit model to x_,y_ sample:\n",
    "        #print(f\"y_.shape : {y_.shape}\")\n",
    "        clf =  model.fit(x_, y_)\n",
    "        #fit model and predict on test data:\n",
    "        y_pred[:, i] = clf.predict(X_test_scaled)\n",
    "        #predict on train data:\n",
    "        y_fit[:,i] = clf.predict(X_train_scaled)\n",
    "        \n",
    "\n",
    "    #polydegree[degree] = degree\n",
    "   \n",
    "    MSE_test[degree] = np.mean( np.mean((y_test_ - y_pred)**2, axis=1, keepdims=True) )\n",
    "    MSE_train[degree] = np.mean( np.mean((y_train_ - y_fit)**2, axis=1, keepdims=True) )\n",
    "    bias[degree] = np.mean( (y_test - np.mean(y_pred, axis=1, keepdims=True))**2 )\n",
    "    variance[degree] = np.mean( np.var(y_pred, axis=1, keepdims=True))\n",
    "    \n",
    "plt.plot(polydegree, MSE_test,\"m\", label='MSE_test')\n",
    "plt.plot(polydegree, MSE_train,\"c\", label='MSE_train')\n",
    "\n",
    "plt.plot(polydegree, bias,\"g--\", label='bias')\n",
    "plt.plot(polydegree, variance,\"r--\", label='Variance')\n",
    "\n",
    "plt.xlabel(\"Model complexity / Polynomial Degree\")\n",
    "plt.ylabel(\"Prediction Error\")\n",
    "\n",
    "plt.grid(True)\n",
    "plt.legend()\n",
    "plt.show()"
   ],
   "outputs": [
    {
     "output_type": "stream",
     "name": "stderr",
     "text": [
      "Looping through polynomials up to 12 degrees with 100 bootstraps: 100%|██████████| 12/12 [00:03<00:00,  3.57it/s]\n"
     ]
    },
    {
     "output_type": "display_data",
     "data": {
      "image/png": "[encoded data removed]",
      "text/plain": [
       "<Figure size 432x288 with 1 Axes>"
      ]
     },
     "metadata": {
      "needs_background": "light"
     }
    }
   ],
   "metadata": {}
  },
  {
   "cell_type": "code",
   "execution_count": 5,
   "source": [
    "MSE_new_test, MSE_new_train, bias_new, var = common.Bootstrap(x, y, z, maxdegree, n_bootstraps)\n",
    "\n",
    "plt.plot(polydegree, MSE_new_test,\"m\", label='MSE_test')\n",
    "plt.plot(polydegree, MSE_new_train,\"c\", label='MSE_train')\n",
    "\n",
    "plt.plot(polydegree, bias_new,\"g--\", label='bias')\n",
    "plt.plot(polydegree, var,\"r--\", label='Variance')\n",
    "\n",
    "plt.xlabel(\"Model complexity / Polynomial Degree\")\n",
    "plt.ylabel(\"Prediction Error\")\n",
    "\n",
    "plt.grid(True)\n",
    "plt.legend()\n",
    "plt.show()"
   ],
   "outputs": [
    {
     "output_type": "stream",
     "name": "stderr",
     "text": [
      "Looping trhough polynomials up to 12 with 100:  17%|█▋        | 2/12 [00:00<00:01,  8.78it/s]"
     ]
    },
    {
     "output_type": "stream",
     "name": "stdout",
     "text": [
      "0.17573460735766513\n",
      "0.061430195573709434\n"
     ]
    },
    {
     "output_type": "stream",
     "name": "stderr",
     "text": [
      "Looping trhough polynomials up to 12 with 100:  42%|████▏     | 5/12 [00:00<00:00,  9.70it/s]"
     ]
    },
    {
     "output_type": "stream",
     "name": "stdout",
     "text": [
      "0.048580927809699304\n",
      "0.05762279999239058\n",
      "0.04719843815167609\n"
     ]
    },
    {
     "output_type": "stream",
     "name": "stderr",
     "text": [
      "Looping trhough polynomials up to 12 with 100:  50%|█████     | 6/12 [00:00<00:00,  8.68it/s]"
     ]
    },
    {
     "output_type": "stream",
     "name": "stdout",
     "text": [
      "0.04675958818233507\n"
     ]
    },
    {
     "output_type": "stream",
     "name": "stderr",
     "text": [
      "Looping trhough polynomials up to 12 with 100:  58%|█████▊    | 7/12 [00:01<00:00,  5.32it/s]"
     ]
    },
    {
     "output_type": "stream",
     "name": "stdout",
     "text": [
      "0.0982314092800449\n"
     ]
    },
    {
     "output_type": "stream",
     "name": "stderr",
     "text": [
      "Looping trhough polynomials up to 12 with 100:  67%|██████▋   | 8/12 [00:01<00:01,  3.54it/s]"
     ]
    },
    {
     "output_type": "stream",
     "name": "stdout",
     "text": [
      "0.08907752052601856\n"
     ]
    },
    {
     "output_type": "stream",
     "name": "stderr",
     "text": [
      "Looping trhough polynomials up to 12 with 100:  75%|███████▌  | 9/12 [00:02<00:01,  1.67it/s]"
     ]
    },
    {
     "output_type": "stream",
     "name": "stdout",
     "text": [
      "0.08201897762297905\n"
     ]
    },
    {
     "output_type": "stream",
     "name": "stderr",
     "text": [
      "Looping trhough polynomials up to 12 with 100:  83%|████████▎ | 10/12 [00:03<00:01,  1.61it/s]"
     ]
    },
    {
     "output_type": "stream",
     "name": "stdout",
     "text": [
      "0.1662503623480475\n"
     ]
    },
    {
     "output_type": "stream",
     "name": "stderr",
     "text": [
      "Looping trhough polynomials up to 12 with 100:  92%|█████████▏| 11/12 [00:04<00:00,  1.67it/s]"
     ]
    },
    {
     "output_type": "stream",
     "name": "stdout",
     "text": [
      "0.20697542857094492\n"
     ]
    },
    {
     "output_type": "stream",
     "name": "stderr",
     "text": [
      "Looping trhough polynomials up to 12 with 100: 100%|██████████| 12/12 [00:04<00:00,  2.56it/s]"
     ]
    },
    {
     "output_type": "stream",
     "name": "stdout",
     "text": [
      "0.20804826286295927\n"
     ]
    },
    {
     "output_type": "stream",
     "name": "stderr",
     "text": [
      "\n"
     ]
    },
    {
     "output_type": "display_data",
     "data": {
      "image/png": "[encoded data removed]",
      "text/plain": [
       "<Figure size 432x288 with 1 Axes>"
      ]
     },
     "metadata": {
      "needs_background": "light"
     }
    }
   ],
   "metadata": {}
  },
  {
   "cell_type": "code",
   "execution_count": null,
   "source": [],
   "outputs": [],
   "metadata": {}
  }
 ],
 "metadata": {
  "orig_nbformat": 4,
  "language_info": {
   "name": "python",
   "version": "3.9.7",
   "mimetype": "text/x-python",
   "codemirror_mode": {
    "name": "ipython",
    "version": 3
   },
   "pygments_lexer": "ipython3",
   "nbconvert_exporter": "python",
   "file_extension": ".py"
  },
  "kernelspec": {
   "name": "python3",
   "display_name": "Python 3.9.7 64-bit"
  },
  "interpreter": {
   "hash": "e7370f93d1d0cde622a1f8e1c04877d8463912d04d973331ad4851f04de6915a"
  }
 },
 "nbformat": 4,
 "nbformat_minor": 2
}