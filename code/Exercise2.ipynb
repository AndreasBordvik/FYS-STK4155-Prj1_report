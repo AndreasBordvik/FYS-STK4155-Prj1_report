{
 "cells": [
  {
   "cell_type": "markdown",
   "source": [
    "## Exercise 2: Bias-variance trade-off and resampling techniques "
   ],
   "metadata": {}
  },
  {
   "cell_type": "markdown",
   "source": [
    "#### Overview of nature of the problem: \n",
    "\n"
   ],
   "metadata": {}
  },
  {
   "cell_type": "code",
   "execution_count": 43,
   "source": [
    "\n",
    "import matplotlib.pyplot as plt\n",
    "import numpy as np\n",
    "from sklearn.linear_model import LinearRegression, Ridge, Lasso\n",
    "from sklearn.preprocessing import PolynomialFeatures\n",
    "from sklearn.model_selection import train_test_split\n",
    "from sklearn.pipeline import make_pipeline\n",
    "from sklearn.utils import resample\n",
    "import common\n",
    "from sklearn.preprocessing import StandardScaler\n",
    "from tqdm.notebook import tqdm_notebook"
   ],
   "outputs": [],
   "metadata": {}
  },
  {
   "cell_type": "code",
   "execution_count": 44,
   "source": [
    "\n",
    "\n",
    "\n",
    "#create data: \n",
    "np.random.seed(4155)\n",
    "n = 15\n",
    "N = 1000\n",
    "x = np.sort(np.random.uniform(0, 1, N))\n",
    "y = np.sort(np.random.uniform(0, 1, N))\n",
    "z = common.FrankeFunction(x, y)\n",
    "\n",
    "#splitting and scaling data\n",
    "print(f\"X_train.shape: {X_train.shape}\\n X_test.shape: {X_test.shape}\\n y_train.shape: {y_train.shape}\\n y_test.shape: {y_test.shape}\")\n",
    "#TODO: why scale?!?\n",
    "\n"
   ],
   "outputs": [
    {
     "output_type": "stream",
     "name": "stdout",
     "text": [
      "X_train.shape: (800, 136)\n",
      " X_test.shape: (200, 136)\n",
      " y_train.shape: (800,)\n",
      " y_test.shape: (200,)\n"
     ]
    }
   ],
   "metadata": {}
  },
  {
   "cell_type": "code",
   "execution_count": 51,
   "source": [
    "n_boostraps = 100\n",
    "\n",
    "\n",
    "\n",
    "error = np.zeros(n)\n",
    "bias = np.zeros(n)\n",
    "variance = np.zeros(n)\n",
    "polydegree = np.zeros(n)\n",
    "\n",
    "for degree in tqdm_notebook(range(n), desc = f\"Looping through polynomials up to {n} degrees: \"):\n",
    "    #for each degree of poly:\n",
    "    X = common.create_X(x, y, n=n)    \n",
    "    X_train, X_test, y_train, y_test = train_test_split(X, z, test_size=0.2)\n",
    "    scaler = StandardScaler()\n",
    "    scaler.fit(X_train)\n",
    "    X_train_scaled = scaler.transform(X_train)\n",
    "    X_test_scaled = scaler.transform(X_test)\n",
    "    y_pred = np.empty((y_test.shape[0], n_boostraps))\n",
    "    \n",
    "    for i in range(n_boostraps):\n",
    "        #bootstrap:\n",
    "        x_, y_ = resample(X_train_scaled, y_train)\n",
    "        y_pred[:, i] = LinearRegression().fit(x_, y_).predict(X_test_scaled)\n",
    "        \n",
    "\n",
    "\n",
    "    polydegree[degree] = degree\n",
    "    \n"
   ],
   "outputs": [
    {
     "output_type": "display_data",
     "data": {
      "text/plain": [
       "Looping through polynomials up to 15 degrees:   0%|          | 0/15 [00:00<?, ?it/s]"
      ],
      "application/vnd.jupyter.widget-view+json": {
       "version_major": 2,
       "version_minor": 0,
       "model_id": "c444044c37274bda89c88a134250b8e8"
      }
     },
     "metadata": {}
    }
   ],
   "metadata": {}
  },
  {
   "cell_type": "code",
   "execution_count": null,
   "source": [],
   "outputs": [],
   "metadata": {}
  },
  {
   "cell_type": "code",
   "execution_count": null,
   "source": [],
   "outputs": [],
   "metadata": {}
  }
 ],
 "metadata": {
  "orig_nbformat": 4,
  "language_info": {
   "name": "python",
   "version": "3.8.8",
   "mimetype": "text/x-python",
   "codemirror_mode": {
    "name": "ipython",
    "version": 3
   },
   "pygments_lexer": "ipython3",
   "nbconvert_exporter": "python",
   "file_extension": ".py"
  },
  "kernelspec": {
   "name": "python3",
   "display_name": "Python 3.8.8 64-bit ('base': conda)"
  },
  "interpreter": {
   "hash": "dca0ade3e726a953b501b15e8e990130d2b7799f14cfd9f4271676035ebe5511"
  }
 },
 "nbformat": 4,
 "nbformat_minor": 2
}