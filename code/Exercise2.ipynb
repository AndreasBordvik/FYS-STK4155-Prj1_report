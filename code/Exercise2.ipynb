{
 "cells": [
  {
   "cell_type": "markdown",
   "source": [
    "## Exercise 2: Bias-variance trade-off and resampling techniques "
   ],
   "metadata": {}
  },
  {
   "cell_type": "markdown",
   "source": [
    "#### Overview of nature of the problem: n\n",
    "\n"
   ],
   "metadata": {}
  },
  {
   "cell_type": "code",
   "execution_count": null,
   "source": [
    "\n",
    "import matplotlib.pyplot as plt\n",
    "import numpy as np\n",
    "import sklearn.linear_model as lm\n",
    "from sklearn.preprocessing import PolynomialFeatures\n",
    "from sklearn.model_selection import train_test_split\n",
    "from sklearn.pipeline import make_pipeline\n",
    "from sklearn.utils import resample\n",
    "from common import *\n",
    "from sklearn.preprocessing import StandardScaler\n",
    "from tqdm import tqdm"
   ],
   "outputs": [],
   "metadata": {}
  },
  {
   "cell_type": "code",
   "execution_count": null,
   "source": [
    "\n",
    "\n",
    "np.random.seed(SEED_VALUE)\n",
    "maxdegree = 15\n",
    "n_bootstraps = 40\n",
    "n = 20\n",
    "x = np.sort(np.random.uniform(0, 1, n))\n",
    "y = np.sort(np.random.uniform(0, 1, n))\n",
    "x,y = np.meshgrid(x,y)\n",
    "z = FrankeFunction(x,y) + noise_factor(n, factor=0.1)"
   ],
   "outputs": [],
   "metadata": {}
  },
  {
   "cell_type": "markdown",
   "source": [
    "Testing bootstrap function"
   ],
   "metadata": {}
  },
  {
   "cell_type": "code",
   "execution_count": null,
   "source": [
    "polydegree = np.arange(1, maxdegree+1)\n",
    "MSE_test, MSE_train, bias, variance = bootstrap(x, y, z, maxdegree, n_bootstraps, OLS())\n",
    "\n",
    "plt.plot(polydegree, MSE_test,\"m\", label='MSE test')\n",
    "plt.plot(polydegree, MSE_train,\"c\", label='MSE train')\n",
    "plt.plot(polydegree, bias,\"b--\", label='bias')\n",
    "plt.plot(polydegree, variance,\"r--\", label='Variance')\n",
    "#plt.plot(polydegree, bias+variance,\"g--\", label='bias+variance')\n",
    "\n",
    "plt.xlabel(\"Model complexity / Polynomial Degree\")\n",
    "plt.ylabel(\"Prediction Error - MSE\")\n",
    "plt.xticks(polydegree)\n",
    "plt.grid(True)\n",
    "plt.legend()\n",
    "plt.savefig(f\"{REPORT_FIGURES}{EX2}model_complexity_using_bootstrap_function.pdf\")\n",
    "plt.show()"
   ],
   "outputs": [],
   "metadata": {}
  },
  {
   "cell_type": "code",
   "execution_count": null,
   "source": [
    "MSE_test = np.zeros(maxdegree)\n",
    "MSE_train = np.zeros(maxdegree)\n",
    "bias = np.zeros(maxdegree)\n",
    "variance = np.zeros(maxdegree)\n",
    "std = np.zeros(maxdegree)\n",
    "z_flat = z.ravel().reshape(-1,1)"
   ],
   "outputs": [],
   "metadata": {}
  },
  {
   "cell_type": "code",
   "execution_count": null,
   "source": [
    "polydegree = np.arange(1, maxdegree+1)\n",
    "for degree in tqdm(range(1, maxdegree+1), desc = f\"Looping through polynomials up to {maxdegree} degrees with {n_bootstraps} bootstraps: \"):\n",
    "    X = create_X(x, y, n=degree)\n",
    "\n",
    "    # Train test split\n",
    "    X_train, X_test, z_train, z_test = prepare_data(X, z_flat, test_size=0.2, shuffle=True, scale_X=True, random_state=SEED_VALUE)\n",
    "    \n",
    "    # Readd 1 to intercept\n",
    "    X_train[:,0] = 1\n",
    "    X_test[:,0] = 1\n",
    "\n",
    "    # Remove intercept\n",
    "    #X_train = X_train[:,1:]\n",
    "    #X_test = X_test[:,1:]\n",
    "\n",
    "    model = OLS()\n",
    "    z_hat_trains, z_hat_tests = bootstrapping(X_train, z_train, X_test, z_test, n_bootstraps, model, keep_intercept=True)\n",
    "\n",
    "    MSE_test[degree-1] = np.mean( np.mean((z_test - z_hat_tests)**2, axis=1, keepdims=True ))\n",
    "    MSE_train[degree-1] = np.mean( np.mean((z_train - z_hat_trains)**2, axis=1, keepdims=True ))\n",
    "    bias[degree-1] = np.mean( (z_test - np.mean(z_hat_tests, axis=1, keepdims=True))**2 )\n",
    "    variance[degree-1] = np.mean( np.var(z_hat_tests, axis=1, keepdims=True))\n",
    "    std[degree-1] = np.mean( np.std(z_hat_tests, axis=1, keepdims=True))\n",
    "\n",
    "plt.plot(polydegree, MSE_test,\"m\", label='MSE test')\n",
    "plt.plot(polydegree, MSE_train,\"c\", label='MSE train')\n",
    "plt.plot(polydegree, bias,\"b--\", label='bias')\n",
    "plt.plot(polydegree, variance,\"r--\", label='Variance')\n",
    "#plt.plot(polydegree, bias+variance,\"g--\", label='bias+variance')\n",
    "\n",
    "plt.xlabel(\"Model complexity / Polynomial Degree\")\n",
    "plt.ylabel(\"Prediction Error - MSE\")\n",
    "plt.xticks(polydegree)\n",
    "plt.grid(True)\n",
    "plt.legend()\n",
    "plt.savefig(f\"{REPORT_FIGURES}{EX2}model_complexity_using_bootstrap.pdf\")\n",
    "plt.show()"
   ],
   "outputs": [],
   "metadata": {}
  },
  {
   "cell_type": "code",
   "execution_count": null,
   "source": [
    "df = pd.DataFrame()\n",
    "df[\"polynomial_deg\"] = polydegree\n",
    "df[\"MSE_test\"] = MSE_test\n",
    "df[\"MSE_std\"] = std\n",
    "display(df)\n",
    "df.to_csv(f\"{REPORT_DATA}{EX2}bootstrap_test_MSE.csv\")\n",
    "\n",
    "\n",
    "plt.figure()\n",
    "plt.plot(range(1, maxdegree+1), MSE_test)\n",
    "plt.fill_between(range(1, maxdegree+1), MSE_test-std, MSE_test+std, alpha=0.2)\n",
    "\n",
    "plt.show()"
   ],
   "outputs": [],
   "metadata": {}
  },
  {
   "cell_type": "markdown",
   "source": [
    "# Studying bias-variance tradeoff as dependance on the number of datpoints\n",
    "The following section will create datasets with an increasing number of datapoints. The purpouse of this analysis is to study how the bias-variance tradeoff for Ordinary Least squares varies as a function of the number of datapoints. This is an addendum to the previous analysis where we studied the bias-variance tradeoff as a function of the model complexity. "
   ],
   "metadata": {}
  },
  {
   "cell_type": "code",
   "execution_count": null,
   "source": [],
   "outputs": [],
   "metadata": {}
  },
  {
   "cell_type": "code",
   "execution_count": null,
   "source": [],
   "outputs": [],
   "metadata": {}
  },
  {
   "cell_type": "markdown",
   "source": [],
   "metadata": {}
  }
 ],
 "metadata": {
  "orig_nbformat": 4,
  "language_info": {
   "name": "python",
   "version": "3.9.7",
   "mimetype": "text/x-python",
   "codemirror_mode": {
    "name": "ipython",
    "version": 3
   },
   "pygments_lexer": "ipython3",
   "nbconvert_exporter": "python",
   "file_extension": ".py"
  },
  "kernelspec": {
   "name": "python3",
   "display_name": "Python 3.9.7 64-bit"
  },
  "interpreter": {
   "hash": "e7370f93d1d0cde622a1f8e1c04877d8463912d04d973331ad4851f04de6915a"
  }
 },
 "nbformat": 4,
 "nbformat_minor": 2
}