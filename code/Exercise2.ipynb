{
 "cells": [
  {
   "cell_type": "markdown",
   "source": [
    "## Exercise 2: Bias-variance trade-off and resampling techniques "
   ],
   "metadata": {}
  },
  {
   "cell_type": "markdown",
   "source": [
    "#### Overview of nature of the problem: n\n",
    "\n"
   ],
   "metadata": {}
  },
  {
   "cell_type": "code",
   "execution_count": null,
   "source": [
    "\n",
    "import matplotlib.pyplot as plt\n",
    "import numpy as np\n",
    "import sklearn.linear_model as lm\n",
    "from sklearn.preprocessing import PolynomialFeatures\n",
    "from sklearn.model_selection import train_test_split\n",
    "from sklearn.pipeline import make_pipeline\n",
    "from sklearn.utils import resample\n",
    "from common import *\n",
    "from sklearn.preprocessing import StandardScaler\n",
    "from tqdm import tqdm"
   ],
   "outputs": [],
   "metadata": {}
  },
  {
   "cell_type": "code",
   "execution_count": null,
   "source": [
    "\n",
    "\n",
    "np.random.seed(SEED_VALUE)\n",
    "maxdegree = 15\n",
    "n = 22\n",
    "n_bootstraps = n - int(n/10)\n",
    "x = np.sort(np.random.uniform(0, 1, n))\n",
    "y = np.sort(np.random.uniform(0, 1, n))\n",
    "x,y = np.meshgrid(x,y)\n",
    "z = FrankeFunction(x,y) + noise_factor(n)\n",
    "\n",
    "\n"
   ],
   "outputs": [
    {
     "output_type": "stream",
     "name": "stdout",
     "text": [
      "<class 'numpy.ndarray'>\n",
      "(20, 20)\n"
     ]
    }
   ],
   "metadata": {}
  },
  {
   "cell_type": "markdown",
   "source": [
    "Testing bootstrap function"
   ],
   "metadata": {}
  },
  {
   "cell_type": "code",
   "execution_count": null,
   "source": [
    "polydegree = np.arange(1, maxdegree+1)\n",
    "MSE_test, MSE_train, bias, variance = bootstrap(x, y, z, maxdegree, n_bootstraps, OLS())\n",
    "\n",
    "plt.plot(polydegree, MSE_test,\"m\", label='MSE test')\n",
    "plt.plot(polydegree, bias,\"b--\", label='bias')\n",
    "plt.plot(polydegree, variance,\"r--\", label='Variance')\n",
    "#plt.plot(polydegree, bias+variance,\"g--\", label='bias+variance')\n",
    "\n",
    "plt.xlabel(\"Model complexity / Polynomial Degree\")\n",
    "plt.ylabel(\"Prediction Error - MSE\")\n",
    "plt.xticks(polydegree)\n",
    "plt.grid(True)\n",
    "plt.legend()\n",
    "plt.savefig(f\"{REPORT_FIGURES}{EX2}model_complexity_using_bootstrap_function.pdf\")\n",
    "plt.show()"
   ],
<<<<<<< HEAD
   "outputs": [],
=======
   "outputs": [
    {
     "output_type": "stream",
     "name": "stderr",
     "text": [
      "Looping trhough polynomials up to 15 with 40: 100%|██████████| 15/15 [00:24<00:00,  1.66s/it]\n"
     ]
    },
    {
     "output_type": "stream",
     "name": "stdout",
     "text": [
      "Elapsed time 24943.2724ms in function bootstrap\n"
     ]
    },
    {
     "output_type": "display_data",
     "data": {
      "image/png": "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",
      "text/plain": [
       "<Figure size 432x288 with 1 Axes>"
      ]
     },
     "metadata": {
      "needs_background": "light"
     }
    }
   ],
>>>>>>> f3f6727ad9430d1080ffbaf4b3e8eaf089d5438e
   "metadata": {}
  },
  {
   "cell_type": "code",
   "execution_count": null,
   "source": [
    "MSE_test = np.zeros(maxdegree)\n",
    "MSE_train = np.zeros(maxdegree)\n",
    "bias = np.zeros(maxdegree)\n",
    "variance = np.zeros(maxdegree)\n",
    "std = np.zeros(maxdegree)\n",
    "z_flat = z.ravel().reshape(-1,1)"
   ],
   "outputs": [],
   "metadata": {}
  },
  {
   "cell_type": "code",
   "execution_count": null,
   "source": [
    "polydegree = np.arange(1, maxdegree+1)\n",
    "for degree in tqdm(range(1, maxdegree+1), desc = f\"Looping through polynomials up to {maxdegree} degrees with {n_bootstraps} bootstraps: \"):\n",
    "    X = create_X(x, y, n=degree)\n",
    "\n",
    "    # Train test split\n",
    "    X_train, X_test, z_train, z_test = prepare_data(X, z_flat, test_size=0.2, shuffle=True, scale_X=True, random_state=SEED_VALUE)\n",
    "    \n",
    "    # Readd 1 to intercept\n",
    "    X_train[:,0] = 1\n",
    "    X_test[:,0] = 1\n",
    "\n",
    "    # Remove intercept\n",
    "    #X_train = X_train[:,1:]\n",
    "    #X_test = X_test[:,1:]\n",
    "\n",
    "    model = OLS()\n",
    "    z_hat_trains, z_hat_tests = bootstrapping(X_train, z_train, X_test, z_test, n_bootstraps, model, keep_intercept=True)\n",
    "\n",
    "    MSE_test[degree-1] = np.mean( np.mean((z_test - z_hat_tests)**2, axis=1, keepdims=True ))\n",
    "    MSE_train[degree-1] = np.mean( np.mean((z_train - z_hat_trains)**2, axis=1, keepdims=True ))\n",
    "    bias[degree-1] = np.mean( (z_test - np.mean(z_hat_tests, axis=1, keepdims=True))**2 )\n",
    "    variance[degree-1] = np.mean( np.var(z_hat_tests, axis=1, keepdims=True))\n",
    "    std[degree-1] = np.mean( np.std(z_hat_tests, axis=1, keepdims=True))\n",
    "\n",
    "plt.plot(polydegree, MSE_test,\"m\", label='MSE test')\n",
    "plt.plot(polydegree, MSE_train,\"c\", label='MSE train')\n",
    "plt.plot(polydegree, bias,\"b--\", label='bias')\n",
    "plt.plot(polydegree, variance,\"r--\", label='Variance')\n",
    "#plt.plot(polydegree, bias+variance,\"g--\", label='bias+variance')\n",
    "\n",
    "plt.xlabel(\"Model complexity / Polynomial Degree\")\n",
    "plt.ylabel(\"Prediction Error - MSE\")\n",
    "plt.xticks(polydegree)\n",
    "plt.grid(True)\n",
    "plt.legend()\n",
    "plt.savefig(f\"{REPORT_FIGURES}{EX2}model_complexity_using_bootstrap.pdf\")\n",
    "plt.show()"
   ],
   "outputs": [],
   "metadata": {}
  },
  {
   "cell_type": "code",
   "execution_count": null,
   "source": [
    "df = pd.DataFrame()\n",
    "df[\"polynomial_deg\"] = polydegree\n",
    "df[\"MSE_test\"] = MSE_test\n",
    "df[\"MSE_std\"] = std\n",
    "display(df)\n",
    "df.to_csv(f\"{REPORT_DATA}{EX2}bootstrap_test_MSE.csv\")\n",
    "\n",
    "\n",
    "plt.figure()\n",
    "plt.plot(range(1, maxdegree+1), MSE_test)\n",
    "plt.fill_between(range(1, maxdegree+1), MSE_test-std, MSE_test+std, alpha=0.2)\n",
    "\n",
    "plt.show()"
   ],
   "outputs": [],
   "metadata": {}
  },
  {
   "cell_type": "code",
   "execution_count": null,
   "source": [
    "\n",
    "#TODO: Number of bootstraps? \n",
    "n_bootstraps = 40\n",
    "MSE_test = np.zeros(maxdegree)\n",
    "MSE_train = np.zeros(maxdegree)\n",
    "polydegree = np.zeros(maxdegree)\n",
    "bias = np.zeros(maxdegree)\n",
    "variance = np.zeros(maxdegree)\n",
    "#for each degree of poly:\n",
    "\n",
    "\n",
    "for degree in tqdm(range(maxdegree), desc = f\"Looping through polynomials up to {n} degrees with {n_bootstraps} bootstraps: \"):\n",
    "    #model = LinearRegression()\n",
    "    #model= make_pipeline(PolynomialFeatures(degree=degree), LinearRegression(fit_intercept=False)) \n",
    "    X = create_X(x, y, n=degree)\n",
    "    #print(f\"X.shape:{X.shape}\")    \n",
    "    # X_train, X_test, y_train, y_test = train_test_split(X, z.reshape(-1,1), test_size=0.2, shuffle=True)\n",
    "    \n",
    "    X_train, X_test, y_train, y_test = prepare_data(X, z.reshape(-1,1), scale_X=False, scale_t=False, zero_center=False)\n",
    "\n",
    "    #print(z.shape)\n",
    "    #reshape for broadcasting in MSE_test and MSE_val  \n",
    "    y_test_ = np.reshape(y_test, newshape=(y_test.shape[0],1))\n",
    "    #reshape for broadcasting in MSE_test and MSE_val  \n",
    "    y_train_ = np.reshape(y_train, newshape=(y_train.shape[0],1))\n",
    "\n",
    "    #y_train = np.reshape(y_train, newshape=(y_train.shape[0],1))\n",
    "    #TODO: why scale?!?\n",
    "\n",
    "    # Commenting out the standard scaler, to try an implementation based on manual scaling as presented in the lecture notes\n",
    "    #scaler = StandardScaler()\n",
    "    #scaler.fit(X_train)\n",
    "    #X_train_scaled = scaler.transform(X_train)\n",
    "    #X_test_scaled = scaler.transform(X_test)\n",
    "    X_train = X_train - np.mean(X_train,axis=0)\n",
    "    X_test = X_test - np.mean(X_test,axis=0)\n",
    "    y_train = y_train - np.mean(y_train,axis=0)\n",
    "    y_test = y_test - np.mean(y_test,axis=0)\n",
    "    y_pred = np.empty((y_test.shape[0], n_bootstraps))\n",
    "    y_fit = np.empty((y_train.shape[0], n_bootstraps))\n",
    "    model = OLS()\n",
    "    \n",
    "    for i in range(n_bootstraps):\n",
    "        #bootstrap:\n",
    "        x_, y_ = resample(X_train, y_train)\n",
    "        #fit model to x_,y_ sample:\n",
    "        y_hat_train = model.fit(x_, y_, SVDfit=False)\n",
    "        t_hat_test = model.predict(X_test)\n",
    "        #clf = LinearRegression().fit(x_, y_)\n",
    "        #fit model and predict on test data:\n",
    "        y_pred[:, i] = y_hat_train.ravel()\n",
    "        #predict on train data:\n",
    "        y_fit[:,i] = t_hat_test.ravel()\n",
    "        \n",
    "\n",
    "    polydegree[degree] = degree\n",
    "    #print(f\"y_test.shape:{y_test.shape}, y_pred.shape{y_pred.shape}\")\n",
    "    MSE_test[degree] = np.mean( np.mean((y_test - y_pred)**2, axis=1, keepdims=True ))\n",
    "    MSE_train[degree] = np.mean( np.mean((y_train - y_fit)**2, axis=1, keepdims=True ))\n",
    "    bias[degree] = np.mean( (y_test - np.mean(y_pred, axis=1, keepdims=True))**2 )\n",
    "    variance[degree] = np.mean( np.var(y_pred, axis=1, keepdims=True))\n",
    "    \n",
    "    \n",
    "plt.plot(polydegree, MSE_test,\"m\", label='MSE_test')\n",
    "plt.plot(polydegree, MSE_train,\"c\", label='MSE_train')\n",
    "\n",
    "plt.plot(polydegree, bias,\"b--\", label='bias')\n",
    "plt.plot(polydegree, variance,\"r--\", label='Variance')\n",
    "#plt.plot(polydegree, bias+variance,\"g--\", label='bias+variance')\n",
    "\n",
    "plt.xlabel(\"Model complexity / Polynomial Degree\")\n",
    "plt.ylabel(\"Prediction Error\")\n",
    "\n",
    "plt.grid(True)\n",
    "plt.legend()\n",
    "plt.show()"
   ],
   "outputs": [],
   "metadata": {}
  },
  {
   "cell_type": "markdown",
   "source": [
    "# Studying bias-variance tradeoff as dependance on the number of datpoints\n",
    "The following section will create datasets with an increasing number of datapoints. The purpouse of this analysis is to study how the bias-variance tradeoff for Ordinary Least squares varies as a function of the number of datapoints. This is an addendum to the previous analysis where we studied the bias-variance tradeoff as a function of the model complexity. "
   ],
   "metadata": {}
  },
  {
   "cell_type": "code",
   "execution_count": null,
   "source": [
    "\n",
    "\n",
    "n_list = [10, 20, 30, 40, 50]\n",
    "n_bootstraps = 20\n",
    "maxdegree = 12\n",
    "polydegree = np.arange(maxdegree)\n",
    "\n",
    "for n in n_list:\n",
    "    x = np.sort(np.random.uniform(0,1,n))\n",
    "    y = np.sort(np.random.uniform(0,1,n))\n",
    "    x,y = np.meshgrid(x,y)\n",
    "    z = FrankeFunction(x, y) + 0.2*np.random.normal(0, size = n)\n",
    "\n",
    "    MSE_test_n = np.zeros(maxdegree)\n",
    "    MSE_train_n = np.zeros(maxdegree)\n",
    "    variance_n = np.zeros(maxdegree)\n",
    "    bias_n = np.zeros(maxdegree)\n",
    "\n",
    "    for degree in tqdm(range(maxdegree), desc = f\"Looping through polynomials up to {maxdegree} degrees with {n_bootstraps} bootstraps: \"):\n",
    "        model = LinearRegression()\n",
    "        #model= make_pipeline(PolynomialFeatures(degree=degree), LinearRegression(fit_intercept=False)) \n",
    "        X = create_X(x, y, n=degree)    \n",
    "        X_train, X_test, y_train, y_test = train_test_split(X, z.reshape(-1,1), test_size=0.2)\n",
    "\n",
    "        #reshape for broadcasting in MSE_test and MSE_val  \n",
    "        y_test_ = np.reshape(y_test, newshape=(y_test.shape[0],1))\n",
    "        #reshape for broadcasting in MSE_test and MSE_val  \n",
    "        y_train_ = np.reshape(y_train, newshape=(y_train.shape[0],1))\n",
    "\n",
    "        #y_train = np.reshape(y_train, newshape=(y_train.shape[0],1))\n",
    "        #TODO: why scale?!?\n",
    "\n",
    "        scaler = StandardScaler()\n",
    "        scaler.fit(X_train)\n",
    "        X_train_scaled = scaler.transform(X_train)\n",
    "        X_test_scaled = scaler.transform(X_test)\n",
    "        y_pred = np.empty((y_test.shape[0], n_bootstraps))\n",
    "        y_fit = np.empty((y_train.shape[0], n_bootstraps))\n",
    "    \n",
    "        for i in range(n_bootstraps):\n",
    "            #bootstrap:\n",
    "            x_, y_ = resample(X_train_scaled, y_train)\n",
    "            #fit model to x_,y_ sample:\n",
    "            #print(f\"y_.shape : {y_.shape}\")\n",
    "            model.fit(x_, y_, SVDfit=False)\n",
    "            #fit model and predict on test data:\n",
    "            y_pred[:, i] = model.predict(X_test_scaled).ravel()\n",
    "            #predict on train data:\n",
    "            y_fit[:,i] = model.predict(X_train_scaled).ravel()\n",
    "        \n",
    "\n",
    "        #polydegree[degree] = degree\n",
    "   \n",
    "        MSE_test_n[degree] = np.mean( np.mean((y_test_ - y_pred)**2, axis=1, keepdims=True) )\n",
    "        MSE_train_n[degree] = np.mean( np.mean((y_train_ - y_fit)**2, axis=1, keepdims=True) )\n",
    "        bias_n[degree] = np.mean( (y_test - np.mean(y_pred, axis=1, keepdims=True))**2 )\n",
    "        variance_n[degree] = np.mean( np.var(y_pred, axis=1, keepdims=True))\n",
    "    \n",
    "    plt.plot(polydegree, MSE_test_n,\"m\", label='MSE_test')\n",
    "    plt.plot(polydegree, MSE_train_n,\"c\", label='MSE_train')\n",
    "\n",
    "    plt.plot(polydegree, bias_n,\"g--\", label='bias')\n",
    "    plt.plot(polydegree, variance_n,\"r--\", label='Variance')\n",
    "\n",
    "    plt.title(f\"Bias-Variance tradeoff for n={n} datapoints\")\n",
    "    plt.xlabel(\"Model complexity / Polynomial Degree\")\n",
    "    plt.ylabel(\"Prediction Error\")\n",
    "\n",
    "    plt.grid(True)\n",
    "    plt.legend()\n",
    "    plt.show()\n",
    "\n",
    "    \n"
   ],
   "outputs": [],
   "metadata": {}
  },
  {
   "cell_type": "code",
   "execution_count": null,
   "source": [],
   "outputs": [],
   "metadata": {}
  },
  {
   "cell_type": "code",
   "execution_count": null,
   "source": [],
   "outputs": [],
   "metadata": {}
  },
  {
   "cell_type": "markdown",
   "source": [],
   "metadata": {}
  }
 ],
 "metadata": {
  "orig_nbformat": 4,
  "language_info": {
   "name": "python",
   "version": "3.9.7",
   "mimetype": "text/x-python",
   "codemirror_mode": {
    "name": "ipython",
    "version": 3
   },
   "pygments_lexer": "ipython3",
   "nbconvert_exporter": "python",
   "file_extension": ".py"
  },
  "kernelspec": {
   "name": "python3",
   "display_name": "Python 3.9.7 64-bit"
  },
  "interpreter": {
   "hash": "e7370f93d1d0cde622a1f8e1c04877d8463912d04d973331ad4851f04de6915a"
  }
 },
 "nbformat": 4,
 "nbformat_minor": 2
}