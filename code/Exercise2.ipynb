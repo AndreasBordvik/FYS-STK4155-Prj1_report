{
 "cells": [
  {
   "cell_type": "markdown",
   "source": [
    "## Exercise 2: Bias-variance trade-off and resampling techniques "
   ],
   "metadata": {}
  },
  {
   "cell_type": "markdown",
   "source": [
    "#### Overview of nature of the problem: n\n",
    "\n"
   ],
   "metadata": {}
  },
  {
   "cell_type": "code",
   "execution_count": 1,
   "source": [
    "\n",
    "import matplotlib.pyplot as plt\n",
    "import numpy as np\n",
    "import sklearn.linear_model as lm\n",
    "from sklearn.preprocessing import PolynomialFeatures\n",
    "from sklearn.model_selection import train_test_split\n",
    "from sklearn.pipeline import make_pipeline\n",
    "from sklearn.utils import resample\n",
    "from common import *\n",
    "from sklearn.preprocessing import StandardScaler\n",
    "from tqdm import tqdm"
   ],
   "outputs": [],
   "metadata": {}
  },
  {
   "cell_type": "code",
   "execution_count": 2,
   "source": [
    "\n",
    "SEED_VALUE = np.random.seed(4155)\n",
    "np.random.seed(SEED_VALUE)\n",
    "maxdegree = 15\n",
    "n = 20\n",
    "n_bootstraps = n - int(n/2)\n",
    "x = np.sort(np.random.uniform(0, 1, n))\n",
    "y = np.sort(np.random.uniform(0, 1, n))\n",
    "x,y = np.meshgrid(x,y)\n",
    "noise = 0.2\n",
    "z = FrankeFunction(x,y) + noise_factor(n, factor=noise)\n"
   ],
   "outputs": [],
   "metadata": {}
  },
  {
   "cell_type": "markdown",
   "source": [
    "Testing bootstrap function"
   ],
   "metadata": {}
  },
  {
   "cell_type": "code",
   "execution_count": 3,
   "source": [
    "polydegree = np.arange(1, maxdegree+1)\n",
    "MSE_test, MSE_train, bias, variance = bootstrap(x, y, z, maxdegree, n_bootstraps, OLS(), SEED_VALUE)\n",
    "\n",
    "#plt.plot(polydegree, MSE_train, \"c\", label=\"MSE train\")\n",
    "plt.semilogy(polydegree, MSE_test,\"m\", label='MSE test')\n",
    "plt.semilogy(polydegree, bias,\"b--\", label='bias')\n",
    "plt.semilogy(polydegree, variance,\"r--\", label='Variance')\n",
    "#plt.plot(polydegree, bias+variance,\"g--\", label='bias+variance')\n",
    "\n",
    "plt.xlabel(\"Model complexity / Polynomial Degree\")\n",
    "plt.ylabel(\"Prediction Error - MSE\")\n",
    "plt.xticks(polydegree)\n",
    "plt.grid(True)\n",
    "plt.legend()\n",
    "plt.savefig(f\"{REPORT_FIGURES}{EX2}model_complexity_using_bootstrap_function.pdf\")\n",
    "plt.show()"
   ],
   "outputs": [
    {
     "output_type": "stream",
     "name": "stderr",
     "text": [
      "Looping trhough polynomials up to 15 with 10: 100%|██████████| 15/15 [00:02<00:00,  5.02it/s]\n"
     ]
    },
    {
     "output_type": "stream",
     "name": "stdout",
     "text": [
      "Elapsed time 2994.1165ms in function bootstrap\n"
     ]
    },
    {
     "output_type": "display_data",
     "data": {
      "image/png": "[encoded data removed]",
      "text/plain": [
       "<Figure size 432x288 with 1 Axes>"
      ]
     },
     "metadata": {
      "needs_background": "light"
     }
    }
   ],
   "metadata": {}
  },
  {
   "cell_type": "code",
   "execution_count": 4,
   "source": [
    "MSE_test = np.zeros(maxdegree)\n",
    "MSE_train = np.zeros(maxdegree)\n",
    "bias = np.zeros(maxdegree)\n",
    "variance = np.zeros(maxdegree)\n",
    "std = np.zeros(maxdegree)\n",
    "z_flat = z.ravel().reshape(-1,1)"
   ],
   "outputs": [],
   "metadata": {}
  },
  {
   "cell_type": "markdown",
   "source": [
    "# Er dette gammel kode?"
   ],
   "metadata": {}
  },
  {
   "cell_type": "code",
   "execution_count": 5,
   "source": [
    "polydegree = np.arange(1, maxdegree+1)\n",
    "for degree in tqdm(range(1, maxdegree+1), desc = f\"Looping through polynomials up to {maxdegree} degrees with {n_bootstraps} bootstraps: \"):\n",
    "    X = create_X(x, y, n=degree)\n",
    "\n",
    "    # Train test split\n",
    "    X_train, X_test, z_train, z_test = prepare_data(X, z_flat, test_size=0.2, shuffle=True, scale_X=True, random_state=SEED_VALUE)\n",
    "    \n",
    "    # Readd 1 to intercept\n",
    "    X_train[:,0] = 1\n",
    "    X_test[:,0] = 1\n",
    "\n",
    "    # Remove intercept\n",
    "    #X_train = X_train[:,1:]\n",
    "    #X_test = X_test[:,1:]\n",
    "\n",
    "    model = OLS()\n",
    "    z_hat_trains, z_hat_tests = bootstrapping(X_train, z_train, X_test, z_test, n_bootstraps, model, keep_intercept=True)\n",
    "\n",
    "    MSE_test[degree-1] = np.mean( np.mean((z_test - z_hat_tests)**2, axis=1, keepdims=True ))\n",
    "    MSE_train[degree-1] = np.mean( np.mean((z_train - z_hat_trains)**2, axis=1, keepdims=True ))\n",
    "    bias[degree-1] = np.mean( (z_test - np.mean(z_hat_tests, axis=1, keepdims=True))**2 )\n",
    "    variance[degree-1] = np.mean( np.var(z_hat_tests, axis=1, keepdims=True))\n",
    "    std[degree-1] = np.mean( np.std(z_hat_tests, axis=1, keepdims=True))\n",
    "\n",
    "plt.plot(polydegree, MSE_test,\"m\", label='MSE test')\n",
    "plt.plot(polydegree, MSE_train,\"c\", label='MSE train')\n",
    "plt.plot(polydegree, bias,\"b--\", label='bias')\n",
    "plt.plot(polydegree, variance,\"r--\", label='Variance')\n",
    "#plt.plot(polydegree, bias+variance,\"g--\", label='bias+variance')\n",
    "\n",
    "plt.xlabel(\"Model complexity / Polynomial Degree\")\n",
    "plt.ylabel(\"Prediction Error - MSE\")\n",
    "plt.xticks(polydegree)\n",
    "plt.grid(True)\n",
    "plt.legend()\n",
    "plt.savefig(f\"{REPORT_FIGURES}{EX2}model_complexity_using_bootstrap.pdf\")\n",
    "plt.show()"
   ],
   "outputs": [
    {
     "output_type": "stream",
     "name": "stderr",
     "text": [
      "Looping through polynomials up to 15 degrees with 10 bootstraps:   0%|          | 0/15 [00:00<?, ?it/s]\n"
     ]
    },
    {
     "output_type": "error",
     "ename": "TypeError",
     "evalue": "bootstrapping() got an unexpected keyword argument 'keep_intercept'",
     "traceback": [
      "\u001b[0;31m---------------------------------------------------------------------------\u001b[0m",
      "\u001b[0;31mTypeError\u001b[0m                                 Traceback (most recent call last)",
      "\u001b[0;32m/tmp/ipykernel_61580/3769807383.py\u001b[0m in \u001b[0;36m<module>\u001b[0;34m\u001b[0m\n\u001b[1;32m     15\u001b[0m \u001b[0;34m\u001b[0m\u001b[0m\n\u001b[1;32m     16\u001b[0m     \u001b[0mmodel\u001b[0m \u001b[0;34m=\u001b[0m \u001b[0mOLS\u001b[0m\u001b[0;34m(\u001b[0m\u001b[0;34m)\u001b[0m\u001b[0;34m\u001b[0m\u001b[0;34m\u001b[0m\u001b[0m\n\u001b[0;32m---> 17\u001b[0;31m     \u001b[0mz_hat_trains\u001b[0m\u001b[0;34m,\u001b[0m \u001b[0mz_hat_tests\u001b[0m \u001b[0;34m=\u001b[0m \u001b[0mbootstrapping\u001b[0m\u001b[0;34m(\u001b[0m\u001b[0mX_train\u001b[0m\u001b[0;34m,\u001b[0m \u001b[0mz_train\u001b[0m\u001b[0;34m,\u001b[0m \u001b[0mX_test\u001b[0m\u001b[0;34m,\u001b[0m \u001b[0mz_test\u001b[0m\u001b[0;34m,\u001b[0m \u001b[0mn_bootstraps\u001b[0m\u001b[0;34m,\u001b[0m \u001b[0mmodel\u001b[0m\u001b[0;34m,\u001b[0m \u001b[0mkeep_intercept\u001b[0m\u001b[0;34m=\u001b[0m\u001b[0;32mTrue\u001b[0m\u001b[0;34m)\u001b[0m\u001b[0;34m\u001b[0m\u001b[0;34m\u001b[0m\u001b[0m\n\u001b[0m\u001b[1;32m     18\u001b[0m \u001b[0;34m\u001b[0m\u001b[0m\n\u001b[1;32m     19\u001b[0m     \u001b[0mMSE_test\u001b[0m\u001b[0;34m[\u001b[0m\u001b[0mdegree\u001b[0m\u001b[0;34m-\u001b[0m\u001b[0;36m1\u001b[0m\u001b[0;34m]\u001b[0m \u001b[0;34m=\u001b[0m \u001b[0mnp\u001b[0m\u001b[0;34m.\u001b[0m\u001b[0mmean\u001b[0m\u001b[0;34m(\u001b[0m \u001b[0mnp\u001b[0m\u001b[0;34m.\u001b[0m\u001b[0mmean\u001b[0m\u001b[0;34m(\u001b[0m\u001b[0;34m(\u001b[0m\u001b[0mz_test\u001b[0m \u001b[0;34m-\u001b[0m \u001b[0mz_hat_tests\u001b[0m\u001b[0;34m)\u001b[0m\u001b[0;34m**\u001b[0m\u001b[0;36m2\u001b[0m\u001b[0;34m,\u001b[0m \u001b[0maxis\u001b[0m\u001b[0;34m=\u001b[0m\u001b[0;36m1\u001b[0m\u001b[0;34m,\u001b[0m \u001b[0mkeepdims\u001b[0m\u001b[0;34m=\u001b[0m\u001b[0;32mTrue\u001b[0m \u001b[0;34m)\u001b[0m\u001b[0;34m)\u001b[0m\u001b[0;34m\u001b[0m\u001b[0;34m\u001b[0m\u001b[0m\n",
      "\u001b[0;31mTypeError\u001b[0m: bootstrapping() got an unexpected keyword argument 'keep_intercept'"
     ]
    }
   ],
   "metadata": {}
  },
  {
   "cell_type": "code",
   "execution_count": null,
   "source": [
    "df = pd.DataFrame()\n",
    "df[\"polynomial_deg\"] = polydegree\n",
    "df[\"MSE_test\"] = MSE_test\n",
    "df[\"MSE_std\"] = std\n",
    "display(df)\n",
    "df.to_csv(f\"{REPORT_DATA}{EX2}bootstrap_test_MSE.csv\")\n",
    "\n",
    "\n",
    "plt.figure()\n",
    "plt.plot(range(1, maxdegree+1), MSE_test)\n",
    "plt.fill_between(range(1, maxdegree+1), MSE_test-std, MSE_test+std, alpha=0.2)\n",
    "\n",
    "plt.show()"
   ],
   "outputs": [],
   "metadata": {}
  },
  {
   "cell_type": "code",
   "execution_count": null,
   "source": [
    "\n",
    "#TODO: Number of bootstraps? \n",
    "n_bootstraps = 40\n",
    "MSE_test = np.zeros(maxdegree)\n",
    "MSE_train = np.zeros(maxdegree)\n",
    "polydegree = np.zeros(maxdegree)\n",
    "bias = np.zeros(maxdegree)\n",
    "variance = np.zeros(maxdegree)\n",
    "#for each degree of poly:\n",
    "\n",
    "\n",
    "for degree in tqdm(range(maxdegree), desc = f\"Looping through polynomials up to {n} degrees with {n_bootstraps} bootstraps: \"):\n",
    "    #model = LinearRegression()\n",
    "    #model= make_pipeline(PolynomialFeatures(degree=degree), LinearRegression(fit_intercept=False)) \n",
    "    X = create_X(x, y, n=degree)\n",
    "    #print(f\"X.shape:{X.shape}\")    \n",
    "    # X_train, X_test, y_train, y_test = train_test_split(X, z.reshape(-1,1), test_size=0.2, shuffle=True)\n",
    "    \n",
    "    X_train, X_test, y_train, y_test = prepare_data(X, z.reshape(-1,1), scale_X=False, scale_t=False, zero_center=False)\n",
    "\n",
    "    #print(z.shape)\n",
    "    #reshape for broadcasting in MSE_test and MSE_val  \n",
    "    y_test_ = np.reshape(y_test, newshape=(y_test.shape[0],1))\n",
    "    #reshape for broadcasting in MSE_test and MSE_val  \n",
    "    y_train_ = np.reshape(y_train, newshape=(y_train.shape[0],1))\n",
    "\n",
    "    #y_train = np.reshape(y_train, newshape=(y_train.shape[0],1))\n",
    "    #TODO: why scale?!?\n",
    "\n",
    "    # Commenting out the standard scaler, to try an implementation based on manual scaling as presented in the lecture notes\n",
    "    #scaler = StandardScaler()\n",
    "    #scaler.fit(X_train)\n",
    "    #X_train_scaled = scaler.transform(X_train)\n",
    "    #X_test_scaled = scaler.transform(X_test)\n",
    "    X_train = X_train - np.mean(X_train,axis=0)\n",
    "    X_test = X_test - np.mean(X_test,axis=0)\n",
    "    y_train = y_train - np.mean(y_train,axis=0)\n",
    "    y_test = y_test - np.mean(y_test,axis=0)\n",
    "    y_pred = np.empty((y_test.shape[0], n_bootstraps))\n",
    "    y_fit = np.empty((y_train.shape[0], n_bootstraps))\n",
    "    model = OLS()\n",
    "    \n",
    "    for i in range(n_bootstraps):\n",
    "        #bootstrap:\n",
    "        x_, y_ = resample(X_train, y_train)\n",
    "        #fit model to x_,y_ sample:\n",
    "        y_hat_train = model.fit(x_, y_, SVDfit=False)\n",
    "        t_hat_test = model.predict(X_test)\n",
    "        #clf = LinearRegression().fit(x_, y_)\n",
    "        #fit model and predict on test data:\n",
    "        y_pred[:, i] = y_hat_train.ravel()\n",
    "        #predict on train data:\n",
    "        y_fit[:,i] = t_hat_test.ravel()\n",
    "        \n",
    "\n",
    "    polydegree[degree] = degree\n",
    "    #print(f\"y_test.shape:{y_test.shape}, y_pred.shape{y_pred.shape}\")\n",
    "    MSE_test[degree] = np.mean( np.mean((y_test - y_pred)**2, axis=1, keepdims=True ))\n",
    "    MSE_train[degree] = np.mean( np.mean((y_train - y_fit)**2, axis=1, keepdims=True ))\n",
    "    bias[degree] = np.mean( (y_test - np.mean(y_pred, axis=1, keepdims=True))**2 )\n",
    "    variance[degree] = np.mean( np.var(y_pred, axis=1, keepdims=True))\n",
    "    \n",
    "    \n",
    "plt.plot(polydegree, MSE_test,\"m\", label='MSE_test')\n",
    "plt.plot(polydegree, MSE_train,\"c\", label='MSE_train')\n",
    "\n",
    "plt.plot(polydegree, bias,\"b--\", label='bias')\n",
    "plt.plot(polydegree, variance,\"r--\", label='Variance')\n",
    "#plt.plot(polydegree, bias+variance,\"g--\", label='bias+variance')\n",
    "\n",
    "plt.xlabel(\"Model complexity / Polynomial Degree\")\n",
    "plt.ylabel(\"Prediction Error\")\n",
    "\n",
    "plt.grid(True)\n",
    "plt.legend()\n",
    "plt.show()"
   ],
   "outputs": [],
   "metadata": {}
  },
  {
   "cell_type": "markdown",
   "source": [
    "# Studying bias-variance tradeoff as dependance on the number of datpoints\n",
    "The following section will create datasets with an increasing number of datapoints. The purpouse of this analysis is to study how the bias-variance tradeoff for Ordinary Least squares varies as a function of the number of datapoints. This is an addendum to the previous analysis where we studied the bias-variance tradeoff as a function of the model complexity. "
   ],
   "metadata": {}
  },
  {
   "cell_type": "code",
   "execution_count": null,
   "source": [
    "\n",
    "\n",
    "n_list = [10, 20, 30, 40, 50]\n",
    "n_bootstraps = 20\n",
    "maxdegree = 12\n",
    "polydegree = np.arange(maxdegree)\n",
    "\n",
    "for n in n_list:\n",
    "    x = np.sort(np.random.uniform(0,1,n))\n",
    "    y = np.sort(np.random.uniform(0,1,n))\n",
    "    x,y = np.meshgrid(x,y)\n",
    "    z = FrankeFunction(x, y) + 0.2*np.random.normal(0, size = n)\n",
    "\n",
    "    MSE_test_n = np.zeros(maxdegree)\n",
    "    MSE_train_n = np.zeros(maxdegree)\n",
    "    variance_n = np.zeros(maxdegree)\n",
    "    bias_n = np.zeros(maxdegree)\n",
    "\n",
    "    for degree in tqdm(range(maxdegree), desc = f\"Looping through polynomials up to {maxdegree} degrees with {n_bootstraps} bootstraps: \"):\n",
    "        model = LinearRegression()\n",
    "        #model= make_pipeline(PolynomialFeatures(degree=degree), LinearRegression(fit_intercept=False)) \n",
    "        X = create_X(x, y, n=degree)    \n",
    "        X_train, X_test, y_train, y_test = train_test_split(X, z.reshape(-1,1), test_size=0.2)\n",
    "\n",
    "        #reshape for broadcasting in MSE_test and MSE_val  \n",
    "        y_test_ = np.reshape(y_test, newshape=(y_test.shape[0],1))\n",
    "        #reshape for broadcasting in MSE_test and MSE_val  \n",
    "        y_train_ = np.reshape(y_train, newshape=(y_train.shape[0],1))\n",
    "\n",
    "        #y_train = np.reshape(y_train, newshape=(y_train.shape[0],1))\n",
    "        #TODO: why scale?!?\n",
    "\n",
    "        scaler = StandardScaler()\n",
    "        scaler.fit(X_train)\n",
    "        X_train_scaled = scaler.transform(X_train)\n",
    "        X_test_scaled = scaler.transform(X_test)\n",
    "        y_pred = np.empty((y_test.shape[0], n_bootstraps))\n",
    "        y_fit = np.empty((y_train.shape[0], n_bootstraps))\n",
    "    \n",
    "        for i in range(n_bootstraps):\n",
    "            #bootstrap:\n",
    "            x_, y_ = resample(X_train_scaled, y_train)\n",
    "            #fit model to x_,y_ sample:\n",
    "            #print(f\"y_.shape : {y_.shape}\")\n",
    "            model.fit(x_, y_, SVDfit=False)\n",
    "            #fit model and predict on test data:\n",
    "            y_pred[:, i] = model.predict(X_test_scaled).ravel()\n",
    "            #predict on train data:\n",
    "            y_fit[:,i] = model.predict(X_train_scaled).ravel()\n",
    "        \n",
    "\n",
    "        #polydegree[degree] = degree\n",
    "   \n",
    "        MSE_test_n[degree] = np.mean( np.mean((y_test_ - y_pred)**2, axis=1, keepdims=True) )\n",
    "        MSE_train_n[degree] = np.mean( np.mean((y_train_ - y_fit)**2, axis=1, keepdims=True) )\n",
    "        bias_n[degree] = np.mean( (y_test - np.mean(y_pred, axis=1, keepdims=True))**2 )\n",
    "        variance_n[degree] = np.mean( np.var(y_pred, axis=1, keepdims=True))\n",
    "    \n",
    "    plt.plot(polydegree, MSE_test_n,\"m\", label='MSE_test')\n",
    "    plt.plot(polydegree, MSE_train_n,\"c\", label='MSE_train')\n",
    "\n",
    "    plt.plot(polydegree, bias_n,\"g--\", label='bias')\n",
    "    plt.plot(polydegree, variance_n,\"r--\", label='Variance')\n",
    "\n",
    "    plt.title(f\"Bias-Variance tradeoff for n={n} datapoints\")\n",
    "    plt.xlabel(\"Model complexity / Polynomial Degree\")\n",
    "    plt.ylabel(\"Prediction Error\")\n",
    "\n",
    "    plt.grid(True)\n",
    "    plt.legend()\n",
    "    plt.show()\n",
    "\n",
    "    \n"
   ],
   "outputs": [],
   "metadata": {}
  },
  {
   "cell_type": "code",
   "execution_count": null,
   "source": [],
   "outputs": [],
   "metadata": {}
  },
  {
   "cell_type": "code",
   "execution_count": null,
   "source": [],
   "outputs": [],
   "metadata": {}
  },
  {
   "cell_type": "markdown",
   "source": [],
   "metadata": {}
  }
 ],
 "metadata": {
  "orig_nbformat": 4,
  "language_info": {
   "name": "python",
   "version": "3.9.7",
   "mimetype": "text/x-python",
   "codemirror_mode": {
    "name": "ipython",
    "version": 3
   },
   "pygments_lexer": "ipython3",
   "nbconvert_exporter": "python",
   "file_extension": ".py"
  },
  "kernelspec": {
   "name": "python3",
   "display_name": "Python 3.9.7 64-bit"
  },
  "interpreter": {
   "hash": "e7370f93d1d0cde622a1f8e1c04877d8463912d04d973331ad4851f04de6915a"
  }
 },
 "nbformat": 4,
 "nbformat_minor": 2
}