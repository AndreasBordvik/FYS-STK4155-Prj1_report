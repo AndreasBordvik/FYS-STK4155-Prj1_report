{
 "cells": [
  {
   "cell_type": "markdown",
   "source": [
    "## Exercise 2: Bias-variance trade-off and resampling techniques "
   ],
   "metadata": {}
  },
  {
   "cell_type": "markdown",
   "source": [
    "#### Overview of nature of the problem: \n",
    "\n"
   ],
   "metadata": {}
  },
  {
   "cell_type": "code",
   "execution_count": 1,
   "source": [
    "\n",
    "import matplotlib.pyplot as plt\n",
    "import numpy as np\n",
    "from sklearn.linear_model import LinearRegression, Ridge, Lasso\n",
    "from sklearn.preprocessing import PolynomialFeatures\n",
    "from sklearn.model_selection import train_test_split\n",
    "from sklearn.pipeline import make_pipeline\n",
    "from sklearn.utils import resample\n",
    "import common\n",
    "from sklearn.preprocessing import StandardScaler\n",
    "from tqdm import tqdm"
   ],
   "outputs": [],
   "metadata": {}
  },
  {
   "cell_type": "code",
   "execution_count": 2,
   "source": [
    "#create data: \n",
    "# np.random.seed(4155)\n",
    "# n = 11\n",
    "# N = 200\n",
    "# x = np.sort(np.random.uniform(0, 1, N))\n",
    "# y = np.sort(np.random.uniform(0, 1, N))\n",
    "# z = common.FrankeFunction(x, y) + 0.2*np.random.rand(N)\n",
    "\n",
    "\n",
    "\n",
    "n = 40\n",
    "n_boostraps = 100\n",
    "maxdegree = 14\n",
    "\n",
    "# Make data set.\n",
    "x = np.linspace(-3, 3, n).reshape(-1, 1)\n",
    "y = np.exp(-x**2) + 1.5 * np.exp(-(x-2)**2)+ np.random.normal(0, 0.1, x.shape)"
   ],
   "outputs": [],
   "metadata": {}
  },
  {
   "cell_type": "code",
   "execution_count": 3,
   "source": [
    "#TODO: Number of bootstraps? \n",
    "n_boostraps = 100\n",
    "MSE_test = np.zeros(n)\n",
    "MSE_train = np.zeros(n)\n",
    "polydegree = np.zeros(n)\n",
    "bias = np.zeros(n)\n",
    "variance = np.zeros(n)\n",
    "#for each degree of poly:\n",
    "\n",
    "\n",
    "for degree in tqdm(range(1,maxdegree), desc = f\"Looping through polynomials up to {n} degrees with {n_boostraps} bootstraps: \"):\n",
    "    #model = LinearRegression()\n",
    "    model= make_pipeline(LinearRegression(fit_intercept=False)) \n",
    "    \n",
    "    #X = common.create_X(x, y, n=degree)   \n",
    "    #print(f\"at pol.degree: {degree}, X has shape: {X.shape}\") \n",
    "    X_train, X_test, y_train, y_test = train_test_split(x, y, test_size=0.2)\n",
    "\n",
    "    #reshape for broadcasting in MSE_test and MSE_val  \n",
    "    y_test_ = np.reshape(y_test, newshape=(y_test.shape[0],1))\n",
    "    #reshape for broadcasting in MSE_test and MSE_val  \n",
    "    y_train_ = np.reshape(y_train, newshape=(y_train.shape[0],1))\n",
    "\n",
    "    #y_train = np.reshape(y_train, newshape=(y_train.shape[0],1))\n",
    "    #TODO: why scale?!?\n",
    "\n",
    "\n",
    "    y_pred = np.empty((y_test.shape[0], n_boostraps))\n",
    "    y_fit = np.empty((y_train.shape[0], n_boostraps))\n",
    "    \n",
    "    for i in range(n_boostraps):\n",
    "        #bootstrap:\n",
    "        x_, y_ = resample(X_train, y_train)\n",
    "        #fit model to x_,y_ sample:\n",
    "        #print(f\"y_.shape : {y_.shape}\")\n",
    "        clf =  model.fit(x_, y_)\n",
    "        #fit model and predict on test data:\n",
    "        y_pred[:, i] = clf.predict(X_test).ravel()\n",
    "        #predict on train data:\n",
    "        y_fit[:,i] = clf.predict(X_train).ravel()\n",
    "        \n",
    "\n",
    "    polydegree[degree] = degree\n",
    "   \n",
    "    MSE_test[degree] = np.mean( np.mean((y_test_ - y_pred)**2, axis=1, keepdims=True) )\n",
    "    MSE_train[degree] = np.mean( np.mean((y_train_ - y_fit)**2, axis=1, keepdims=True) )\n",
    "    bias[degree] = np.mean( (y_test - np.mean(y_pred, axis=1, keepdims=True))**2 )\n",
    "    variance[degree] = np.mean( np.var(y_pred, axis=1, keepdims=True))\n",
    "    \n",
    "plt.plot(polydegree, MSE_test, label='MSE_test')\n",
    "plt.plot(polydegree, MSE_train, label='MSE_train')\n",
    "\n",
    "\n",
    "plt.xlabel(\"Model complexity / Polynomial Degree\")\n",
    "plt.ylabel(\"Prediction Error\")\n",
    "plt.legend()\n",
    "plt.show()\n",
    "\n",
    "plt.plot(polydegree, bias, label='bias')\n",
    "plt.plot(polydegree, variance, label='Variance')\n",
    "\n",
    "\n",
    "plt.legend()\n",
    "plt.show()\n",
    "\n",
    "\n"
   ],
   "outputs": [
    {
     "output_type": "stream",
     "name": "stderr",
     "text": [
      "Looping through polynomials up to 40 degrees with 100 bootstraps:   0%|          | 0/13 [00:00<?, ?it/s]\n"
     ]
    },
    {
     "output_type": "error",
     "ename": "NameError",
     "evalue": "name 'X_train_scaled' is not defined",
     "traceback": [
      "\u001b[0;31m---------------------------------------------------------------------------\u001b[0m",
      "\u001b[0;31mNameError\u001b[0m                                 Traceback (most recent call last)",
      "\u001b[0;32m<ipython-input-3-563c2f0980b3>\u001b[0m in \u001b[0;36m<module>\u001b[0;34m\u001b[0m\n\u001b[1;32m     31\u001b[0m     \u001b[0;32mfor\u001b[0m \u001b[0mi\u001b[0m \u001b[0;32min\u001b[0m \u001b[0mrange\u001b[0m\u001b[0;34m(\u001b[0m\u001b[0mn_boostraps\u001b[0m\u001b[0;34m)\u001b[0m\u001b[0;34m:\u001b[0m\u001b[0;34m\u001b[0m\u001b[0;34m\u001b[0m\u001b[0m\n\u001b[1;32m     32\u001b[0m         \u001b[0;31m#bootstrap:\u001b[0m\u001b[0;34m\u001b[0m\u001b[0;34m\u001b[0m\u001b[0;34m\u001b[0m\u001b[0m\n\u001b[0;32m---> 33\u001b[0;31m         \u001b[0mx_\u001b[0m\u001b[0;34m,\u001b[0m \u001b[0my_\u001b[0m \u001b[0;34m=\u001b[0m \u001b[0mresample\u001b[0m\u001b[0;34m(\u001b[0m\u001b[0mX_train_scaled\u001b[0m\u001b[0;34m,\u001b[0m \u001b[0my_train\u001b[0m\u001b[0;34m)\u001b[0m\u001b[0;34m\u001b[0m\u001b[0;34m\u001b[0m\u001b[0m\n\u001b[0m\u001b[1;32m     34\u001b[0m         \u001b[0;31m#fit model to x_,y_ sample:\u001b[0m\u001b[0;34m\u001b[0m\u001b[0;34m\u001b[0m\u001b[0;34m\u001b[0m\u001b[0m\n\u001b[1;32m     35\u001b[0m         \u001b[0;31m#print(f\"y_.shape : {y_.shape}\")\u001b[0m\u001b[0;34m\u001b[0m\u001b[0;34m\u001b[0m\u001b[0;34m\u001b[0m\u001b[0m\n",
      "\u001b[0;31mNameError\u001b[0m: name 'X_train_scaled' is not defined"
     ]
    }
   ],
   "metadata": {}
  },
  {
   "cell_type": "code",
   "execution_count": null,
   "source": [],
   "outputs": [],
   "metadata": {}
  },
  {
   "cell_type": "code",
   "execution_count": null,
   "source": [],
   "outputs": [],
   "metadata": {}
  }
 ],
 "metadata": {
  "orig_nbformat": 4,
  "language_info": {
   "name": "python",
   "version": "3.8.8",
   "mimetype": "text/x-python",
   "codemirror_mode": {
    "name": "ipython",
    "version": 3
   },
   "pygments_lexer": "ipython3",
   "nbconvert_exporter": "python",
   "file_extension": ".py"
  },
  "kernelspec": {
   "name": "python3",
   "display_name": "Python 3.8.8 64-bit ('base': conda)"
  },
  "interpreter": {
   "hash": "dca0ade3e726a953b501b15e8e990130d2b7799f14cfd9f4271676035ebe5511"
  }
 },
 "nbformat": 4,
 "nbformat_minor": 2
}